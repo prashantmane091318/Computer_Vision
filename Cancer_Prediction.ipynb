{
  "cells": [
    {
      "cell_type": "markdown",
      "metadata": {
        "id": "view-in-github",
        "colab_type": "text"
      },
      "source": [
        "<a href=\"https://colab.research.google.com/github/prashantmane091318/Computer_Vision/blob/main/Cancer_(1).ipynb\" target=\"_parent\"><img src=\"https://colab.research.google.com/assets/colab-badge.svg\" alt=\"Open In Colab\"/></a>"
      ]
    },
    {
      "cell_type": "code",
      "execution_count": null,
      "metadata": {
        "colab": {
          "base_uri": "https://localhost:8080/"
        },
        "id": "9yii81b3PZRc",
        "outputId": "823fce7b-deab-49ce-d80f-5dd90f05ee0f"
      },
      "outputs": [
        {
          "name": "stdout",
          "output_type": "stream",
          "text": [
            "Mounted at /content/drive\n"
          ]
        }
      ],
      "source": [
        "from google.colab import drive\n",
        "drive.mount('/content/drive')"
      ]
    },
    {
      "cell_type": "code",
      "execution_count": null,
      "metadata": {
        "id": "TOQZEjHPmV1v"
      },
      "outputs": [],
      "source": [
        "import tensorflow as tf\n",
        "import pandas as pd\n"
      ]
    },
    {
      "cell_type": "code",
      "execution_count": null,
      "metadata": {
        "id": "uSXrx1EWnaUT"
      },
      "outputs": [],
      "source": [
        "from tensorflow.keras.preprocessing.image import ImageDataGenerator"
      ]
    },
    {
      "cell_type": "code",
      "execution_count": null,
      "metadata": {
        "id": "VIpRkJfjnnMs"
      },
      "outputs": [],
      "source": [
        "image_generator=ImageDataGenerator(rescale = 255.0,\n",
        "                                   rotation_range = 30,\n",
        "                                   width_shift_range = 0.2,\n",
        "                                   height_shift_range = 0.2,\n",
        "                                   shear_range = 0.5,\n",
        "                                   zoom_range = 0.5\n",
        "                                   )"
      ]
    },
    {
      "cell_type": "code",
      "execution_count": null,
      "metadata": {
        "colab": {
          "base_uri": "https://localhost:8080/"
        },
        "id": "yvLnSrMFoqn3",
        "outputId": "e5c9bb7b-ed52-406f-b69b-82f7886b5c18"
      },
      "outputs": [
        {
          "name": "stdout",
          "output_type": "stream",
          "text": [
            "Found 6668 images belonging to 6 classes.\n"
          ]
        }
      ],
      "source": [
        "image_read=image_generator.flow_from_directory(\"/content/drive/My Drive/Colab Notebooks/Dataset\",target_size=(224,224),batch_size=6668,class_mode=\"categorical\",shuffle=True)"
      ]
    },
    {
      "cell_type": "code",
      "execution_count": null,
      "metadata": {
        "colab": {
          "background_save": true
        },
        "id": "mNDrhzl-pIzc"
      },
      "outputs": [],
      "source": [
        "x,y=next(image_read)"
      ]
    },
    {
      "cell_type": "code",
      "execution_count": null,
      "metadata": {
        "colab": {
          "base_uri": "https://localhost:8080/",
          "height": 265
        },
        "id": "cIWzS5_pp2NU",
        "outputId": "36e0457d-f01d-488a-fcc6-11d6faab8b31"
      },
      "outputs": [
        {
          "data": {
            "image/png": "[encoded data removed]",
            "text/plain": [
              "<Figure size 432x288 with 1 Axes>"
            ]
          },
          "metadata": {
            "tags": []
          },
          "output_type": "display_data"
        }
      ],
      "source": [
        "import matplotlib.pyplot as plt\n",
        "plt.hist(y, 10)\n",
        "plt.show()\n"
      ]
    },
    {
      "cell_type": "code",
      "execution_count": null,
      "metadata": {
        "id": "kMAXdpP5oLf5"
      },
      "outputs": [],
      "source": [
        "x=pd.DataFrame(image_read)"
      ]
    },
    {
      "cell_type": "code",
      "execution_count": null,
      "metadata": {
        "colab": {
          "base_uri": "https://localhost:8080/",
          "height": 163
        },
        "id": "DrrO_quk6FrL",
        "outputId": "4e3456a8-719a-4b59-eb9a-c16528a0cae4"
      },
      "outputs": [
        {
          "ename": "AttributeError",
          "evalue": "ignored",
          "output_type": "error",
          "traceback": [
            "\u001b[0;31m---------------------------------------------------------------------------\u001b[0m",
            "\u001b[0;31mAttributeError\u001b[0m                            Traceback (most recent call last)",
            "\u001b[0;32m<ipython-input-8-6a6a1832f0f3>\u001b[0m in \u001b[0;36m<module>\u001b[0;34m()\u001b[0m\n\u001b[0;32m----> 1\u001b[0;31m \u001b[0mx\u001b[0m\u001b[0;34m.\u001b[0m\u001b[0mto_csv\u001b[0m\u001b[0;34m(\u001b[0m\u001b[0;34m\"/content/drive/My Drive/Colab Notebooks/data.csv\"\u001b[0m\u001b[0;34m,\u001b[0m\u001b[0msep\u001b[0m\u001b[0;34m=\u001b[0m\u001b[0;34m\",\"\u001b[0m\u001b[0;34m)\u001b[0m\u001b[0;34m\u001b[0m\u001b[0;34m\u001b[0m\u001b[0m\n\u001b[0m",
            "\u001b[0;31mAttributeError\u001b[0m: 'numpy.ndarray' object has no attribute 'to_csv'"
          ]
        }
      ],
      "source": [
        "x.to_csv(\"/content/drive/My Drive/Colab Notebooks/data.csv\",sep=\",\")"
      ]
    },
    {
      "cell_type": "code",
      "execution_count": null,
      "metadata": {
        "colab": {
          "base_uri": "https://localhost:8080/",
          "height": 34
        },
        "id": "fafqv7qum8sE",
        "outputId": "693e236f-1b5f-4809-bef9-0c785d11ec3f"
      },
      "outputs": [
        {
          "data": {
            "text/plain": [
              "array([0., 0., 0., 0., 0., 0., 1., 0., 0.], dtype=float32)"
            ]
          },
          "execution_count": 91,
          "metadata": {
            "tags": []
          },
          "output_type": "execute_result"
        }
      ],
      "source": [
        "y[-1]"
      ]
    },
    {
      "cell_type": "code",
      "execution_count": null,
      "metadata": {
        "colab": {
          "base_uri": "https://localhost:8080/"
        },
        "id": "TCxvPufxV44Q",
        "outputId": "0b79c310-4373-496e-c552-33dc87afb780"
      },
      "outputs": [
        {
          "data": {
            "text/plain": [
              "((3450, 224, 224, 3), (3450, 3))"
            ]
          },
          "execution_count": 9,
          "metadata": {
            "tags": []
          },
          "output_type": "execute_result"
        }
      ],
      "source": [
        "x.shape, y.shape"
      ]
    },
    {
      "cell_type": "code",
      "execution_count": null,
      "metadata": {
        "id": "sjbHsvDrdot2"
      },
      "outputs": [],
      "source": [
        "from sklearn.utils import shuffle\n",
        "x,y=shuffle(x,y)"
      ]
    },
    {
      "cell_type": "code",
      "execution_count": null,
      "metadata": {
        "colab": {
          "base_uri": "https://localhost:8080/"
        },
        "id": "3up4et8Kebmr",
        "outputId": "b7cbed49-1a7b-4f84-d54d-73aaeb087f31"
      },
      "outputs": [
        {
          "data": {
            "text/plain": [
              "array([[1., 0., 0.],\n",
              "       [1., 0., 0.],\n",
              "       [0., 1., 0.],\n",
              "       ...,\n",
              "       [0., 0., 1.],\n",
              "       [1., 0., 0.],\n",
              "       [1., 0., 0.]], dtype=float32)"
            ]
          },
          "execution_count": 12,
          "metadata": {
            "tags": []
          },
          "output_type": "execute_result"
        }
      ],
      "source": [
        "y"
      ]
    },
    {
      "cell_type": "code",
      "execution_count": null,
      "metadata": {
        "id": "oTBSDMB37qWY"
      },
      "outputs": [],
      "source": [
        "import numpy as np\n",
        "x=np.sum(x/3, axis=3,keepdims=3)"
      ]
    },
    {
      "cell_type": "code",
      "execution_count": null,
      "metadata": {
        "id": "ll_AbA4d9UBR"
      },
      "outputs": [],
      "source": [
        "x=(x-128)/128"
      ]
    },
    {
      "cell_type": "code",
      "execution_count": null,
      "metadata": {
        "colab": {
          "base_uri": "https://localhost:8080/"
        },
        "id": "aFOwXg4v7v1C",
        "outputId": "70eccbfc-ba8f-447f-9925-3a86ea22e7dd"
      },
      "outputs": [
        {
          "data": {
            "text/plain": [
              "array([[[[163.02344],\n",
              "         [163.02344],\n",
              "         [163.02344],\n",
              "         ...,\n",
              "         [183.53763],\n",
              "         [199.24179],\n",
              "         [218.86337]],\n",
              "\n",
              "        [[163.02344],\n",
              "         [163.02344],\n",
              "         [163.02344],\n",
              "         ...,\n",
              "         [210.57413],\n",
              "         [231.37152],\n",
              "         [240.53767]],\n",
              "\n",
              "        [[163.02344],\n",
              "         [163.02344],\n",
              "         [163.02344],\n",
              "         ...,\n",
              "         [238.00015],\n",
              "         [244.3667 ],\n",
              "         [242.14755]],\n",
              "\n",
              "        ...,\n",
              "\n",
              "        [[223.45099],\n",
              "         [241.27731],\n",
              "         [257.33102],\n",
              "         ...,\n",
              "         [204.5744 ],\n",
              "         [238.37915],\n",
              "         [269.964  ]],\n",
              "\n",
              "        [[251.24097],\n",
              "         [266.5207 ],\n",
              "         [272.7791 ],\n",
              "         ...,\n",
              "         [200.29587],\n",
              "         [222.58151],\n",
              "         [259.11447]],\n",
              "\n",
              "        [[271.59494],\n",
              "         [274.56598],\n",
              "         [271.9828 ],\n",
              "         ...,\n",
              "         [209.24254],\n",
              "         [207.31746],\n",
              "         [246.60803]]],\n",
              "\n",
              "\n",
              "       [[[260.7218 ],\n",
              "         [256.48206],\n",
              "         [258.39954],\n",
              "         ...,\n",
              "         [353.88818],\n",
              "         [357.6054 ],\n",
              "         [316.24695]],\n",
              "\n",
              "        [[254.81332],\n",
              "         [246.99194],\n",
              "         [245.3097 ],\n",
              "         ...,\n",
              "         [364.01813],\n",
              "         [377.0598 ],\n",
              "         [305.44318]],\n",
              "\n",
              "        [[272.65854],\n",
              "         [261.86407],\n",
              "         [250.65277],\n",
              "         ...,\n",
              "         [344.29922],\n",
              "         [363.9687 ],\n",
              "         [302.437  ]],\n",
              "\n",
              "        ...,\n",
              "\n",
              "        [[288.54947],\n",
              "         [303.44556],\n",
              "         [308.62323],\n",
              "         ...,\n",
              "         [295.6499 ],\n",
              "         [292.03705],\n",
              "         [288.4242 ]],\n",
              "\n",
              "        [[295.2991 ],\n",
              "         [304.69907],\n",
              "         [305.72845],\n",
              "         ...,\n",
              "         [308.7637 ],\n",
              "         [308.83063],\n",
              "         [308.8975 ]],\n",
              "\n",
              "        [[300.7749 ],\n",
              "         [305.95258],\n",
              "         [300.1359 ],\n",
              "         ...,\n",
              "         [294.71497],\n",
              "         [297.8595 ],\n",
              "         [301.00403]]],\n",
              "\n",
              "\n",
              "       [[[317.52847],\n",
              "         [305.84424],\n",
              "         [294.0084 ],\n",
              "         ...,\n",
              "         [306.72122],\n",
              "         [312.73172],\n",
              "         [319.78665]],\n",
              "\n",
              "        [[318.51743],\n",
              "         [304.74448],\n",
              "         [296.83658],\n",
              "         ...,\n",
              "         [314.1814 ],\n",
              "         [322.76227],\n",
              "         [335.0996 ]],\n",
              "\n",
              "        [[311.89584],\n",
              "         [306.73416],\n",
              "         [306.30194],\n",
              "         ...,\n",
              "         [325.73788],\n",
              "         [338.0752 ],\n",
              "         [346.94376]],\n",
              "\n",
              "        ...,\n",
              "\n",
              "        [[466.6778 ],\n",
              "         [462.56534],\n",
              "         [458.14038],\n",
              "         ...,\n",
              "         [188.03918],\n",
              "         [185.68585],\n",
              "         [182.13693]],\n",
              "\n",
              "        [[461.50098],\n",
              "         [457.0722 ],\n",
              "         [452.8489 ],\n",
              "         ...,\n",
              "         [189.26706],\n",
              "         [186.29979],\n",
              "         [183.77408]],\n",
              "\n",
              "        [[456.00403],\n",
              "         [452.16223],\n",
              "         [449.31512],\n",
              "         ...,\n",
              "         [190.49492],\n",
              "         [186.91373],\n",
              "         [185.11514]]],\n",
              "\n",
              "\n",
              "       ...,\n",
              "\n",
              "\n",
              "       [[[383.8307 ],\n",
              "         [387.9724 ],\n",
              "         [393.75037],\n",
              "         ...,\n",
              "         [336.40997],\n",
              "         [332.42142],\n",
              "         [360.98087]],\n",
              "\n",
              "        [[391.95648],\n",
              "         [397.80365],\n",
              "         [403.65085],\n",
              "         ...,\n",
              "         [342.24924],\n",
              "         [317.0111 ],\n",
              "         [312.28088]],\n",
              "\n",
              "        [[401.857  ],\n",
              "         [401.0564 ],\n",
              "         [396.18375],\n",
              "         ...,\n",
              "         [354.5523 ],\n",
              "         [322.55225],\n",
              "         [297.8334 ]],\n",
              "\n",
              "        ...,\n",
              "\n",
              "        [[323.50607],\n",
              "         [339.9255 ],\n",
              "         [368.9178 ],\n",
              "         ...,\n",
              "         [385.07236],\n",
              "         [321.202  ],\n",
              "         [222.2667 ]],\n",
              "\n",
              "        [[360.0233 ],\n",
              "         [389.01556],\n",
              "         [415.76068],\n",
              "         ...,\n",
              "         [393.29913],\n",
              "         [354.26727],\n",
              "         [222.74133]],\n",
              "\n",
              "        [[407.83783],\n",
              "         [433.66284],\n",
              "         [459.4879 ],\n",
              "         ...,\n",
              "         [385.79712],\n",
              "         [367.98593],\n",
              "         [252.52759]]],\n",
              "\n",
              "\n",
              "       [[[488.73108],\n",
              "         [488.59515],\n",
              "         [486.97528],\n",
              "         ...,\n",
              "         [404.83258],\n",
              "         [392.91174],\n",
              "         [373.15515]],\n",
              "\n",
              "        [[486.06342],\n",
              "         [489.03976],\n",
              "         [488.49896],\n",
              "         ...,\n",
              "         [363.07944],\n",
              "         [342.08807],\n",
              "         [322.14697]],\n",
              "\n",
              "        [[481.13196],\n",
              "         [486.64062],\n",
              "         [488.94357],\n",
              "         ...,\n",
              "         [328.91992],\n",
              "         [342.5026 ],\n",
              "         [362.38373]],\n",
              "\n",
              "        ...,\n",
              "\n",
              "        [[286.7586 ],\n",
              "         [280.13068],\n",
              "         [274.26544],\n",
              "         ...,\n",
              "         [214.15625],\n",
              "         [211.69742],\n",
              "         [208.99344]],\n",
              "\n",
              "        [[271.52673],\n",
              "         [267.5137 ],\n",
              "         [263.50064],\n",
              "         ...,\n",
              "         [214.15625],\n",
              "         [213.92046],\n",
              "         [211.21646]],\n",
              "\n",
              "        [[262.32907],\n",
              "         [260.1682 ],\n",
              "         [259.0148 ],\n",
              "         ...,\n",
              "         [211.96283],\n",
              "         [214.15625],\n",
              "         [213.43948]]],\n",
              "\n",
              "\n",
              "       [[[235.62717],\n",
              "         [239.93845],\n",
              "         [240.45923],\n",
              "         ...,\n",
              "         [316.00122],\n",
              "         [321.60596],\n",
              "         [318.692  ]],\n",
              "\n",
              "        [[216.83589],\n",
              "         [226.81264],\n",
              "         [236.03456],\n",
              "         ...,\n",
              "         [319.50845],\n",
              "         [319.85727],\n",
              "         [314.40482]],\n",
              "\n",
              "        [[225.27293],\n",
              "         [220.41446],\n",
              "         [217.70361],\n",
              "         ...,\n",
              "         [321.02252],\n",
              "         [317.20148],\n",
              "         [312.35675]],\n",
              "\n",
              "        ...,\n",
              "\n",
              "        [[370.3994 ],\n",
              "         [363.92184],\n",
              "         [337.57144],\n",
              "         ...,\n",
              "         [197.95502],\n",
              "         [195.5451 ],\n",
              "         [188.35962]],\n",
              "\n",
              "        [[372.54483],\n",
              "         [349.4572 ],\n",
              "         [317.69724],\n",
              "         ...,\n",
              "         [189.13211],\n",
              "         [194.70178],\n",
              "         [198.29453]],\n",
              "\n",
              "        [[358.12628],\n",
              "         [329.58298],\n",
              "         [314.35117],\n",
              "         ...,\n",
              "         [194.5809 ],\n",
              "         [182.30032],\n",
              "         [189.8451 ]]]], dtype=float32)"
            ]
          },
          "execution_count": 12,
          "metadata": {
            "tags": []
          },
          "output_type": "execute_result"
        }
      ],
      "source": [
        "x"
      ]
    },
    {
      "cell_type": "code",
      "execution_count": null,
      "metadata": {
        "colab": {
          "base_uri": "https://localhost:8080/",
          "height": 286
        },
        "id": "zxfFG1I8eGqZ",
        "outputId": "0b9d30d8-cd4a-49ba-8790-2c04daae16b2"
      },
      "outputs": [
        {
          "data": {
            "text/plain": [
              "<matplotlib.image.AxesImage at 0x7fe2f8159f28>"
            ]
          },
          "execution_count": 16,
          "metadata": {
            "tags": []
          },
          "output_type": "execute_result"
        },
        {
          "data": {
            "image/png": "[encoded data removed]",
            "text/plain": [
              "<Figure size 432x288 with 1 Axes>"
            ]
          },
          "metadata": {
            "tags": []
          },
          "output_type": "display_data"
        }
      ],
      "source": [
        "import matplotlib.pyplot as plt\n",
        "\n",
        "plt.imshow(np.reshape(x[0],(224,224)))"
      ]
    },
    {
      "cell_type": "code",
      "execution_count": null,
      "metadata": {
        "colab": {
          "base_uri": "https://localhost:8080/"
        },
        "id": "lcGqQNtRchnB",
        "outputId": "813eb486-bf1f-4584-fa70-7eb48a9e2855"
      },
      "outputs": [
        {
          "data": {
            "text/plain": [
              "2"
            ]
          },
          "execution_count": 17,
          "metadata": {
            "tags": []
          },
          "output_type": "execute_result"
        }
      ],
      "source": [
        "y[0].argmax()"
      ]
    },
    {
      "cell_type": "code",
      "execution_count": null,
      "metadata": {
        "colab": {
          "base_uri": "https://localhost:8080/"
        },
        "id": "pegC1X0rqHck",
        "outputId": "7112e55f-c02d-4105-8dc8-c37540141a0d"
      },
      "outputs": [
        {
          "data": {
            "text/plain": [
              "{'LYM': 0, 'NORM': 1, 'TUM': 2}"
            ]
          },
          "execution_count": 18,
          "metadata": {
            "tags": []
          },
          "output_type": "execute_result"
        }
      ],
      "source": [
        "image_read.class_indices"
      ]
    },
    {
      "cell_type": "code",
      "execution_count": null,
      "metadata": {
        "id": "Z5Z5HJYvqwPG"
      },
      "outputs": [],
      "source": [
        "model=tf.keras.models.Sequential()"
      ]
    },
    {
      "cell_type": "code",
      "execution_count": null,
      "metadata": {
        "id": "AGAXhmYKrWTC"
      },
      "outputs": [],
      "source": [
        "from tensorflow.keras.layers import Dense,Conv2D,MaxPool2D,Flatten,Dropout"
      ]
    },
    {
      "cell_type": "code",
      "execution_count": null,
      "metadata": {
        "id": "gcjibEj9vs4T"
      },
      "outputs": [],
      "source": [
        "model.add(Conv2D(16,(5,5),activation=\"relu\",input_shape=(224,224,3),))"
      ]
    },
    {
      "cell_type": "code",
      "execution_count": null,
      "metadata": {
        "id": "vGUxI5TcPqDR"
      },
      "outputs": [],
      "source": [
        "model.add(Dropout(0.5))"
      ]
    },
    {
      "cell_type": "code",
      "execution_count": null,
      "metadata": {
        "id": "jguRiLiSwQIU"
      },
      "outputs": [],
      "source": [
        "model.add(MaxPool2D(pool_size=(2,2)))"
      ]
    },
    {
      "cell_type": "code",
      "execution_count": null,
      "metadata": {
        "id": "0McGTMhIwiUX"
      },
      "outputs": [],
      "source": [
        "model.add(Conv2D(32,(5,5),activation=\"relu\"))"
      ]
    },
    {
      "cell_type": "code",
      "execution_count": null,
      "metadata": {
        "id": "8MyF8PNDP5XA"
      },
      "outputs": [],
      "source": [
        "model.add(Dropout(0.5))"
      ]
    },
    {
      "cell_type": "code",
      "execution_count": null,
      "metadata": {
        "id": "bsVeuZflwq0P"
      },
      "outputs": [],
      "source": [
        "model.add(MaxPool2D(pool_size=(2,2)))"
      ]
    },
    {
      "cell_type": "code",
      "execution_count": null,
      "metadata": {
        "id": "LeOMzrmTw0Ew"
      },
      "outputs": [],
      "source": [
        "model.add(Flatten())"
      ]
    },
    {
      "cell_type": "code",
      "execution_count": null,
      "metadata": {
        "id": "n2v2e38tsDI3"
      },
      "outputs": [],
      "source": [
        "model.add(Dense(128,activation=\"relu\"))"
      ]
    },
    {
      "cell_type": "code",
      "execution_count": null,
      "metadata": {
        "id": "Dqfv3_eOoUO7"
      },
      "outputs": [],
      "source": [
        "model.add(Dropout(0.5))"
      ]
    },
    {
      "cell_type": "code",
      "execution_count": null,
      "metadata": {
        "id": "ak4ZOqU8odP8"
      },
      "outputs": [],
      "source": [
        "model.add(Dense(64,activation=\"relu\"))"
      ]
    },
    {
      "cell_type": "code",
      "execution_count": null,
      "metadata": {
        "id": "XHji2dZjofFl"
      },
      "outputs": [],
      "source": [
        "model.add(Dropout(0.5))"
      ]
    },
    {
      "cell_type": "code",
      "execution_count": null,
      "metadata": {
        "id": "2vOwV5HXszom"
      },
      "outputs": [],
      "source": [
        "model.add(Dense(9,activation=\"softmax\"))"
      ]
    },
    {
      "cell_type": "code",
      "execution_count": null,
      "metadata": {
        "colab": {
          "base_uri": "https://localhost:8080/"
        },
        "id": "Tg1aSCvls5py",
        "outputId": "9097d7dc-25b1-4736-f0a8-9ba7fa3fe9df"
      },
      "outputs": [
        {
          "name": "stdout",
          "output_type": "stream",
          "text": [
            "Model: \"sequential\"\n",
            "_________________________________________________________________\n",
            "Layer (type)                 Output Shape              Param #   \n",
            "=================================================================\n",
            "conv2d (Conv2D)              (None, 220, 220, 16)      1216      \n",
            "_________________________________________________________________\n",
            "dropout (Dropout)            (None, 220, 220, 16)      0         \n",
            "_________________________________________________________________\n",
            "max_pooling2d (MaxPooling2D) (None, 110, 110, 16)      0         \n",
            "_________________________________________________________________\n",
            "conv2d_1 (Conv2D)            (None, 106, 106, 32)      12832     \n",
            "_________________________________________________________________\n",
            "dropout_1 (Dropout)          (None, 106, 106, 32)      0         \n",
            "_________________________________________________________________\n",
            "max_pooling2d_1 (MaxPooling2 (None, 53, 53, 32)        0         \n",
            "_________________________________________________________________\n",
            "flatten (Flatten)            (None, 89888)             0         \n",
            "_________________________________________________________________\n",
            "dense (Dense)                (None, 128)               11505792  \n",
            "_________________________________________________________________\n",
            "dropout_2 (Dropout)          (None, 128)               0         \n",
            "_________________________________________________________________\n",
            "dense_1 (Dense)              (None, 64)                8256      \n",
            "_________________________________________________________________\n",
            "dropout_3 (Dropout)          (None, 64)                0         \n",
            "_________________________________________________________________\n",
            "dense_2 (Dense)              (None, 9)                 585       \n",
            "=================================================================\n",
            "Total params: 11,528,681\n",
            "Trainable params: 11,528,681\n",
            "Non-trainable params: 0\n",
            "_________________________________________________________________\n"
          ]
        }
      ],
      "source": [
        "model.summary()"
      ]
    },
    {
      "cell_type": "code",
      "execution_count": null,
      "metadata": {
        "id": "OWubKL-Utl7G"
      },
      "outputs": [],
      "source": [
        "model.compile(optimizer=\"adam\",loss=\"categorical_crossentropy\",metrics=[\"accuracy\"])"
      ]
    },
    {
      "cell_type": "code",
      "execution_count": null,
      "metadata": {
        "colab": {
          "base_uri": "https://localhost:8080/"
        },
        "id": "hcOiz579vI8S",
        "outputId": "e6d41a10-de8f-477b-eaa0-32235b115cb8"
      },
      "outputs": [
        {
          "name": "stderr",
          "output_type": "stream",
          "text": [
            "/usr/local/lib/python3.6/dist-packages/tensorflow/python/keras/engine/training.py:1844: UserWarning: `Model.fit_generator` is deprecated and will be removed in a future version. Please use `Model.fit`, which supports generators.\n",
            "  warnings.warn('`Model.fit_generator` is deprecated and '\n"
          ]
        },
        {
          "name": "stdout",
          "output_type": "stream",
          "text": [
            "Epoch 1/10\n"
          ]
        }
      ],
      "source": [
        "model.fit_generator(image_read,epochs=10,verbose=5)"
      ]
    },
    {
      "cell_type": "code",
      "execution_count": null,
      "metadata": {
        "colab": {
          "base_uri": "https://localhost:8080/",
          "height": 34
        },
        "id": "DbXp7_pe81LG",
        "outputId": "197cac68-cef4-49a1-98bf-0dd10929d640"
      },
      "outputs": [
        {
          "name": "stdout",
          "output_type": "stream",
          "text": [
            "Found 341 images belonging to 9 classes.\n"
          ]
        }
      ],
      "source": [
        "image_read_test=image_generator.flow_from_directory(\"/content/drive/My Drive/Colab Notebooks/Test2\",target_size=(224,224),batch_size=341,class_mode=\"categorical\",shuffle=False)"
      ]
    },
    {
      "cell_type": "code",
      "execution_count": null,
      "metadata": {
        "id": "1v70lL7j9F4r"
      },
      "outputs": [],
      "source": [
        "xtest,ytest=next(image_read_test)"
      ]
    },
    {
      "cell_type": "code",
      "execution_count": null,
      "metadata": {
        "colab": {
          "base_uri": "https://localhost:8080/",
          "height": 34
        },
        "id": "IMCk9UwY-4eH",
        "outputId": "0dabcd71-2053-4e8a-ae6b-8e20e6841637"
      },
      "outputs": [
        {
          "data": {
            "text/plain": [
              "((341, 224, 224, 3), (341, 9))"
            ]
          },
          "execution_count": 33,
          "metadata": {
            "tags": []
          },
          "output_type": "execute_result"
        }
      ],
      "source": [
        "xtest.shape,ytest.shape"
      ]
    },
    {
      "cell_type": "code",
      "execution_count": null,
      "metadata": {
        "id": "bLi1jLh29oP0"
      },
      "outputs": [],
      "source": [
        "#import numpy as np\n",
        "xtest=np.sum(xtest/3, axis=3,keepdims=3)"
      ]
    },
    {
      "cell_type": "code",
      "execution_count": null,
      "metadata": {
        "id": "eMuNqX7d90rs"
      },
      "outputs": [],
      "source": [
        "xtest=(xtest-128)/128"
      ]
    },
    {
      "cell_type": "code",
      "execution_count": null,
      "metadata": {
        "colab": {
          "base_uri": "https://localhost:8080/",
          "height": 34
        },
        "id": "XbS3iVtr-SsW",
        "outputId": "f320f188-0a7a-46fa-d9cb-be96aed99080"
      },
      "outputs": [
        {
          "data": {
            "text/plain": [
              "(341, 224, 224, 1)"
            ]
          },
          "execution_count": 36,
          "metadata": {
            "tags": []
          },
          "output_type": "execute_result"
        }
      ],
      "source": [
        "xtest.shape"
      ]
    },
    {
      "cell_type": "code",
      "execution_count": null,
      "metadata": {
        "colab": {
          "base_uri": "https://localhost:8080/",
          "height": 51
        },
        "id": "KogHLJvyvZ-p",
        "outputId": "6ca7b60f-188c-4974-a269-e6a1deb7b76c"
      },
      "outputs": [
        {
          "name": "stdout",
          "output_type": "stream",
          "text": [
            "11/11 [==============================] - 0s 10ms/step - loss: 1.1442 - accuracy: 0.6334\n"
          ]
        },
        {
          "data": {
            "text/plain": [
              "[1.144228219985962, 0.633431077003479]"
            ]
          },
          "execution_count": 37,
          "metadata": {
            "tags": []
          },
          "output_type": "execute_result"
        }
      ],
      "source": [
        "model.evaluate(xtest,ytest)"
      ]
    },
    {
      "cell_type": "code",
      "execution_count": null,
      "metadata": {
        "colab": {
          "base_uri": "https://localhost:8080/",
          "height": 34
        },
        "id": "A7XT8FMS2nBj",
        "outputId": "29c90e02-eca0-47de-d7d2-0463a1ec0e00"
      },
      "outputs": [
        {
          "name": "stdout",
          "output_type": "stream",
          "text": [
            "Found 17 images belonging to 1 classes.\n"
          ]
        }
      ],
      "source": [
        "image_test=image_generator.flow_from_directory(\"/content/drive/My Drive/Colab Notebooks/Test\",target_size=(224,224),shuffle=False)"
      ]
    },
    {
      "cell_type": "code",
      "execution_count": null,
      "metadata": {
        "id": "8UiQCGqt9a6v"
      },
      "outputs": [],
      "source": [
        "x,y=next(image_test)"
      ]
    },
    {
      "cell_type": "code",
      "execution_count": null,
      "metadata": {
        "colab": {
          "base_uri": "https://localhost:8080/",
          "height": 34
        },
        "id": "u_QOWU_mkOjd",
        "outputId": "0b949063-d688-4dbf-fc2a-088a51ebef8c"
      },
      "outputs": [
        {
          "data": {
            "text/plain": [
              "(224, 224, 3)"
            ]
          },
          "execution_count": 55,
          "metadata": {
            "tags": []
          },
          "output_type": "execute_result"
        }
      ],
      "source": [
        "x[0].shape"
      ]
    },
    {
      "cell_type": "code",
      "execution_count": null,
      "metadata": {
        "colab": {
          "base_uri": "https://localhost:8080/",
          "height": 34
        },
        "id": "EviSzZVQi06Y",
        "outputId": "4a365a4a-cdab-42af-aa6a-f108dfe3e92d"
      },
      "outputs": [
        {
          "data": {
            "text/plain": [
              "(17, 1)"
            ]
          },
          "execution_count": 56,
          "metadata": {
            "tags": []
          },
          "output_type": "execute_result"
        }
      ],
      "source": [
        "y.shape"
      ]
    },
    {
      "cell_type": "code",
      "execution_count": null,
      "metadata": {
        "id": "fRU8UYfDjGlB"
      },
      "outputs": [],
      "source": [
        "x=np.sum(x/3, axis=3,keepdims=3)"
      ]
    },
    {
      "cell_type": "code",
      "execution_count": null,
      "metadata": {
        "id": "2pqjUdfYjWjT"
      },
      "outputs": [],
      "source": [
        "x=(x-128)/128"
      ]
    },
    {
      "cell_type": "code",
      "execution_count": null,
      "metadata": {
        "colab": {
          "base_uri": "https://localhost:8080/",
          "height": 105
        },
        "id": "J-A5Ie1vj1DH",
        "outputId": "11a84878-f08f-4f35-eb25-27bae2abdddd"
      },
      "outputs": [
        {
          "name": "stdout",
          "output_type": "stream",
          "text": [
            "WARNING:tensorflow:From <ipython-input-42-7690c6ffd605>:3: Sequential.predict_classes (from tensorflow.python.keras.engine.sequential) is deprecated and will be removed after 2021-01-01.\n",
            "Instructions for updating:\n",
            "Please use instead:* `np.argmax(model.predict(x), axis=-1)`,   if your model does multi-class classification   (e.g. if it uses a `softmax` last-layer activation).* `(model.predict(x) > 0.5).astype(\"int32\")`,   if your model does binary classification   (e.g. if it uses a `sigmoid` last-layer activation).\n",
            "[4, 0, 1, 1, 1, 3, 3, 4, 4, 5, 8, 5, 4, 6, 4, 5, 8]\n"
          ]
        }
      ],
      "source": [
        "y_predict=[]\n",
        "for i in range(0, len(x)):\n",
        "    y_predict.append(model.predict_classes(x[i].reshape((1,)+x[i].shape))[0])\n",
        "print(y_predict)\n",
        ""
      ]
    },
    {
      "cell_type": "code",
      "execution_count": null,
      "metadata": {
        "id": "PrZwaeZE2ZFw"
      },
      "outputs": [],
      "source": [
        "model.save(\"model1.h5\")"
      ]
    },
    {
      "cell_type": "code",
      "execution_count": null,
      "metadata": {
        "id": "V2zYvu5E2lHu"
      },
      "outputs": [],
      "source": [
        "model1=load_model(\"model1.h5\")"
      ]
    },
    {
      "cell_type": "code",
      "execution_count": null,
      "metadata": {
        "id": "SHHOKRCd2biv"
      },
      "outputs": [],
      "source": [
        "from tensorflow.keras.models import load_model"
      ]
    },
    {
      "cell_type": "markdown",
      "metadata": {
        "id": "7I4r1CedfB2m"
      },
      "source": [
        "**To Save model**"
      ]
    },
    {
      "cell_type": "code",
      "execution_count": null,
      "metadata": {
        "id": "cvCcGBxYfACB"
      },
      "outputs": [],
      "source": [
        "import pickle\n",
        "fname=\"cancer1.sav\"\n"
      ]
    },
    {
      "cell_type": "code",
      "execution_count": null,
      "metadata": {
        "colab": {
          "base_uri": "https://localhost:8080/",
          "height": 180
        },
        "id": "6cn4FrvUtpBE",
        "outputId": "cf9fa1d7-d381-4fc2-d3ea-4e944de59977"
      },
      "outputs": [
        {
          "ename": "NameError",
          "evalue": "ignored",
          "output_type": "error",
          "traceback": [
            "\u001b[0;31m---------------------------------------------------------------------------\u001b[0m",
            "\u001b[0;31mNameError\u001b[0m                                 Traceback (most recent call last)",
            "\u001b[0;32m<ipython-input-16-b369dfb95d10>\u001b[0m in \u001b[0;36m<module>\u001b[0;34m()\u001b[0m\n\u001b[1;32m      1\u001b[0m \u001b[0mf\u001b[0m\u001b[0;34m=\u001b[0m\u001b[0mopen\u001b[0m\u001b[0;34m(\u001b[0m\u001b[0mfname\u001b[0m\u001b[0;34m,\u001b[0m\u001b[0mmode\u001b[0m\u001b[0;34m=\u001b[0m\u001b[0;34m'w'\u001b[0m\u001b[0;34m)\u001b[0m\u001b[0;34m\u001b[0m\u001b[0;34m\u001b[0m\u001b[0m\n\u001b[0;32m----> 2\u001b[0;31m \u001b[0mpickle\u001b[0m\u001b[0;34m.\u001b[0m\u001b[0mdump\u001b[0m\u001b[0;34m(\u001b[0m\u001b[0mf\u001b[0m\u001b[0;34m,\u001b[0m\u001b[0mw\u001b[0m\u001b[0;34m)\u001b[0m\u001b[0;34m\u001b[0m\u001b[0;34m\u001b[0m\u001b[0m\n\u001b[0m",
            "\u001b[0;31mNameError\u001b[0m: name 'w' is not defined"
          ]
        }
      ],
      "source": [
        "f=open(fname,mode='w')\n",
        "pickle.dump(model,f)"
      ]
    },
    {
      "cell_type": "markdown",
      "metadata": {
        "id": "cg3GcUI5fd1V"
      },
      "source": [
        "**To Load model**"
      ]
    },
    {
      "cell_type": "code",
      "execution_count": null,
      "metadata": {
        "colab": {
          "base_uri": "https://localhost:8080/",
          "height": 197
        },
        "id": "Ifqtqdt0fgvB",
        "outputId": "03d090e8-696c-477f-d9a0-2b0cc4efbc1b"
      },
      "outputs": [
        {
          "ename": "TypeError",
          "evalue": "ignored",
          "output_type": "error",
          "traceback": [
            "\u001b[0;31m---------------------------------------------------------------------------\u001b[0m",
            "\u001b[0;31mTypeError\u001b[0m                                 Traceback (most recent call last)",
            "\u001b[0;32m<ipython-input-20-b339175ec843>\u001b[0m in \u001b[0;36m<module>\u001b[0;34m()\u001b[0m\n\u001b[0;32m----> 1\u001b[0;31m \u001b[0mloaded_model\u001b[0m \u001b[0;34m=\u001b[0m \u001b[0mpickle\u001b[0m\u001b[0;34m.\u001b[0m\u001b[0mload\u001b[0m\u001b[0;34m(\u001b[0m\u001b[0;34m\"/content/cancer1.sav\"\u001b[0m\u001b[0;34m,\u001b[0m \u001b[0;34m'r'\u001b[0m\u001b[0;34m)\u001b[0m\u001b[0;34m\u001b[0m\u001b[0;34m\u001b[0m\u001b[0m\n\u001b[0m\u001b[1;32m      2\u001b[0m \u001b[0mresult\u001b[0m \u001b[0;34m=\u001b[0m \u001b[0mloaded_model\u001b[0m\u001b[0;34m.\u001b[0m\u001b[0mscore\u001b[0m\u001b[0;34m(\u001b[0m\u001b[0mX_test\u001b[0m\u001b[0;34m,\u001b[0m \u001b[0mY_test\u001b[0m\u001b[0;34m)\u001b[0m\u001b[0;34m\u001b[0m\u001b[0;34m\u001b[0m\u001b[0m\n\u001b[1;32m      3\u001b[0m \u001b[0mprint\u001b[0m\u001b[0;34m(\u001b[0m\u001b[0mresult\u001b[0m\u001b[0;34m)\u001b[0m\u001b[0;34m\u001b[0m\u001b[0;34m\u001b[0m\u001b[0m\n",
            "\u001b[0;31mTypeError\u001b[0m: Function takes at most 1 positional arguments (2 given)"
          ]
        }
      ],
      "source": [
        "loaded_model = pickle.load(\"\"/content/cancer1.sav\", 'r'\")\n",
        "result = loaded_model.score(X_test, Y_test)\n",
        "print(result)"
      ]
    },
    {
      "cell_type": "code",
      "execution_count": null,
      "metadata": {
        "id": "Xym3Gkfn4HiN"
      },
      "outputs": [],
      "source": [
        "from sklearn.metrics import confusion_metrics"
      ]
    },
    {
      "cell_type": "markdown",
      "metadata": {
        "id": "aWDPVmxjY7Gm"
      },
      "source": [
        "# **Extra code**"
      ]
    },
    {
      "cell_type": "code",
      "execution_count": null,
      "metadata": {
        "id": "NiITWvPl-2JN"
      },
      "outputs": [],
      "source": [
        "pp=x/255.0"
      ]
    },
    {
      "cell_type": "code",
      "execution_count": null,
      "metadata": {
        "id": "CGXakryCf--8"
      },
      "outputs": [],
      "source": [
        "ppq=tf.image.rgb_to_grayscale(pp)"
      ]
    },
    {
      "cell_type": "code",
      "execution_count": null,
      "metadata": {
        "id": "9GWy92G8gMXm"
      },
      "outputs": [],
      "source": [
        "pqp=tf.image.grayscale_to_rgb(ppq)"
      ]
    },
    {
      "cell_type": "code",
      "execution_count": null,
      "metadata": {
        "colab": {
          "base_uri": "https://localhost:8080/",
          "height": 286
        },
        "id": "JuOsN84C--3B",
        "outputId": "a55f90ee-179e-4100-a143-51de33b2c608"
      },
      "outputs": [
        {
          "data": {
            "text/plain": [
              "<matplotlib.image.AxesImage at 0x7f5fb23bfe10>"
            ]
          },
          "execution_count": 63,
          "metadata": {
            "tags": []
          },
          "output_type": "execute_result"
        },
        {
          "data": {
            "image/png": "[encoded data removed]",
            "text/plain": [
              "<Figure size 432x288 with 1 Axes>"
            ]
          },
          "metadata": {
            "tags": []
          },
          "output_type": "display_data"
        }
      ],
      "source": [
        "import matplotlib.pyplot as plt\n",
        "plt.imshow(pp[0])"
      ]
    },
    {
      "cell_type": "code",
      "execution_count": null,
      "metadata": {
        "colab": {
          "base_uri": "https://localhost:8080/",
          "height": 34
        },
        "id": "3jcrqbXa_DTs",
        "outputId": "8a88ede2-0979-447a-fc7f-5cb2c5eb604a"
      },
      "outputs": [
        {
          "data": {
            "text/plain": [
              "array([0, 0, 1, 1, 1, 1, 5, 1, 1, 5, 5, 5, 4, 6, 1, 5, 5])"
            ]
          },
          "execution_count": 64,
          "metadata": {
            "tags": []
          },
          "output_type": "execute_result"
        }
      ],
      "source": [
        "model.predict_classes(pp)"
      ]
    },
    {
      "cell_type": "code",
      "execution_count": null,
      "metadata": {
        "id": "ZuJQsCsI_Ng6"
      },
      "outputs": [],
      "source": [
        "image_generator.flow_from_dataframe()"
      ]
    },
    {
      "cell_type": "code",
      "execution_count": null,
      "metadata": {
        "id": "FOkCi2K5BGmK"
      },
      "outputs": [],
      "source": [
        "import cv2"
      ]
    },
    {
      "cell_type": "code",
      "execution_count": null,
      "metadata": {
        "id": "F0OfmaeOYish"
      },
      "outputs": [],
      "source": [
        "img=cv2.imread(\"/content/drive/My Drive/Colab Notebooks/Dataset/NORM/NORM-TCGA-AFDFLMWV.tif\")"
      ]
    },
    {
      "cell_type": "code",
      "execution_count": null,
      "metadata": {
        "id": "U6zlNG_9Y-KT"
      },
      "outputs": [],
      "source": [
        "img=img/255.0"
      ]
    },
    {
      "cell_type": "code",
      "execution_count": null,
      "metadata": {
        "id": "7bDy4pezZBAk"
      },
      "outputs": [],
      "source": [
        "img=cv2.resize(img,(224,224))"
      ]
    },
    {
      "cell_type": "code",
      "execution_count": null,
      "metadata": {
        "colab": {
          "base_uri": "https://localhost:8080/",
          "height": 34
        },
        "id": "oqU4lkkdZFlk",
        "outputId": "f605b543-cabf-4f08-860f-fdde22c9b175"
      },
      "outputs": [
        {
          "data": {
            "text/plain": [
              "(224, 224, 3)"
            ]
          },
          "execution_count": 50,
          "metadata": {
            "tags": []
          },
          "output_type": "execute_result"
        }
      ],
      "source": [
        "img.shape"
      ]
    },
    {
      "cell_type": "code",
      "execution_count": null,
      "metadata": {
        "colab": {
          "base_uri": "https://localhost:8080/",
          "height": 34
        },
        "id": "trzFRrcXZG65",
        "outputId": "367d97fc-5a48-4b8a-9a26-81bc54ba95fe"
      },
      "outputs": [
        {
          "data": {
            "text/plain": [
              "array([4])"
            ]
          },
          "execution_count": 51,
          "metadata": {
            "tags": []
          },
          "output_type": "execute_result"
        }
      ],
      "source": [
        "model.predict_classes(img.reshape(1,224,224,3))"
      ]
    },
    {
      "cell_type": "code",
      "execution_count": null,
      "metadata": {
        "id": "pb1yGdXZZSli"
      },
      "outputs": [],
      "source": [
        "img=cv2.cvtColor(img, cv2.COLOR_RGB2GRAY)"
      ]
    },
    {
      "cell_type": "code",
      "execution_count": null,
      "metadata": {
        "id": "IYcvhietZ--t"
      },
      "outputs": [],
      "source": [
        "img=cv2.cvtColor(img, cv2.COLOR_GRAY2RGB)"
      ]
    },
    {
      "cell_type": "code",
      "execution_count": null,
      "metadata": {
        "colab": {
          "base_uri": "https://localhost:8080/",
          "height": 286
        },
        "id": "29epUnVIa3br",
        "outputId": "c90150ec-75ad-4e84-d999-4b6105caecfa"
      },
      "outputs": [
        {
          "data": {
            "text/plain": [
              "<matplotlib.image.AxesImage at 0x7fcb5af1c9b0>"
            ]
          },
          "execution_count": 202,
          "metadata": {
            "tags": []
          },
          "output_type": "execute_result"
        },
        {
          "data": {
            "image/png": "[encoded data removed]",
            "text/plain": [
              "<Figure size 432x288 with 1 Axes>"
            ]
          },
          "metadata": {
            "tags": []
          },
          "output_type": "display_data"
        }
      ],
      "source": [
        "plt.imshow(img)"
      ]
    },
    {
      "cell_type": "code",
      "execution_count": null,
      "metadata": {
        "colab": {
          "base_uri": "https://localhost:8080/",
          "height": 34
        },
        "id": "ws6TJnnubhd2",
        "outputId": "79858498-121b-4800-db96-4b39ac2fc28b"
      },
      "outputs": [
        {
          "name": "stdout",
          "output_type": "stream",
          "text": [
            "Found 341 images belonging to 9 classes.\n"
          ]
        }
      ],
      "source": [
        "imag_test2=image_generator.flow_from_directory(\"/content/drive/My Drive/Dataset/data/Test2\",target_size=(224,224),class_mode=\"categorical\",shuffle=true,batch_size=341)"
      ]
    },
    {
      "cell_type": "code",
      "execution_count": null,
      "metadata": {
        "id": "GkmnaRLbj40I"
      },
      "outputs": [],
      "source": [
        "p,q=next(imag_test2)"
      ]
    },
    {
      "cell_type": "code",
      "execution_count": null,
      "metadata": {
        "id": "1dKO96Z_kAO_"
      },
      "outputs": [],
      "source": [
        "p=p/255.0"
      ]
    },
    {
      "cell_type": "code",
      "execution_count": null,
      "metadata": {
        "id": "--FZaZkvkPcU"
      },
      "outputs": [],
      "source": [
        "pa=tf.image.rgb_to_grayscale(p)"
      ]
    },
    {
      "cell_type": "code",
      "execution_count": null,
      "metadata": {
        "id": "19nFIrVXkU0z"
      },
      "outputs": [],
      "source": [
        "paa=tf.image.grayscale_to_rgb(pa)"
      ]
    },
    {
      "cell_type": "code",
      "execution_count": null,
      "metadata": {
        "colab": {
          "base_uri": "https://localhost:8080/",
          "height": 34
        },
        "id": "2yv8muoWkbOw",
        "outputId": "d6acc471-c557-483a-f223-93823c1d34b6"
      },
      "outputs": [
        {
          "data": {
            "text/plain": [
              "TensorShape([341, 224, 224, 3])"
            ]
          },
          "execution_count": 266,
          "metadata": {
            "tags": []
          },
          "output_type": "execute_result"
        }
      ],
      "source": [
        "paa.shape"
      ]
    },
    {
      "cell_type": "code",
      "execution_count": null,
      "metadata": {
        "colab": {
          "base_uri": "https://localhost:8080/",
          "height": 51
        },
        "id": "IRuw9kDjkdil",
        "outputId": "95d15075-5618-4844-85d1-f375d31c133d"
      },
      "outputs": [
        {
          "name": "stdout",
          "output_type": "stream",
          "text": [
            "11/11 [==============================] - 0s 30ms/step - loss: 2.4179 - accuracy: 0.2991\n"
          ]
        },
        {
          "data": {
            "text/plain": [
              "[2.4179365634918213, 0.2991202473640442]"
            ]
          },
          "execution_count": 296,
          "metadata": {
            "tags": []
          },
          "output_type": "execute_result"
        }
      ],
      "source": [
        "model.evaluate(paa,q)"
      ]
    },
    {
      "cell_type": "code",
      "execution_count": null,
      "metadata": {
        "id": "aFz-rfEcmac5"
      },
      "outputs": [],
      "source": [
        "# keras imports for the dataset and building our neural network\n",
        "from keras.datasets import mnist\n",
        "from keras.models import Sequential\n",
        "from keras.layers import Dense, Dropout, Conv2D, MaxPool2D, Flatten\n",
        "from keras.utils import np_utils\n",
        "\n",
        "# to calculate accuracy\n",
        "from sklearn.metrics import accuracy_score\n",
        "\n"
      ]
    },
    {
      "cell_type": "code",
      "execution_count": null,
      "metadata": {
        "id": "6iPXGmMZttgB"
      },
      "outputs": [],
      "source": [
        "# loading the dataset\n",
        "(X_train, y_train), (X_test, y_test) = mnist.load_data()\n",
        "\n",
        "# building the input vector from the 28x28 pixels\n",
        "X_train = X_train.reshape(X_train.shape[0], 28, 28, 1)\n",
        "X_test = X_test.reshape(X_test.shape[0], 28, 28, 1)\n",
        "X_train = X_train.astype('float32')\n",
        "X_test = X_test.astype('float32')\n",
        "\n"
      ]
    },
    {
      "cell_type": "code",
      "execution_count": null,
      "metadata": {
        "colab": {
          "base_uri": "https://localhost:8080/",
          "height": 51
        },
        "id": "Bal7H-mmtz0K",
        "outputId": "a406c3cf-b365-42bf-c651-87319e3e27d6"
      },
      "outputs": [
        {
          "name": "stdout",
          "output_type": "stream",
          "text": [
            "Shape before one-hot encoding:  (60000,)\n",
            "Shape after one-hot encoding:  (60000, 10)\n"
          ]
        }
      ],
      "source": [
        "# normalizing the data to help with the training\n",
        "X_train /= 255\n",
        "X_test /= 255\n",
        "\n",
        "# one-hot encoding using keras' numpy-related utilities\n",
        "n_classes = 10\n",
        "print(\"Shape before one-hot encoding: \", y_train.shape)\n",
        "Y_train = np_utils.to_categorical(y_train, n_classes)\n",
        "Y_test = np_utils.to_categorical(y_test, n_classes)\n",
        "print(\"Shape after one-hot encoding: \", Y_train.shape)\n",
        "\n"
      ]
    },
    {
      "cell_type": "code",
      "execution_count": null,
      "metadata": {
        "id": "dHsoeBPzt5PM"
      },
      "outputs": [],
      "source": [
        "# building a linear stack of layers with the sequential model\n",
        "model = Sequential()\n",
        "# convolutional layer\n",
        "model.add(Conv2D(25, kernel_size=(3,3), strides=(1,1), padding='valid', activation='relu', input_shape=(28,28,1)))\n",
        "model.add(MaxPool2D(pool_size=(1,1)))\n",
        "# flatten output of conv\n",
        "model.add(Flatten())\n",
        "# hidden layer\n",
        "model.add(Dense(100, activation='relu'))\n",
        "# output layer\n",
        "model.add(Dense(10, activation='softmax'))\n",
        "\n"
      ]
    },
    {
      "cell_type": "code",
      "execution_count": null,
      "metadata": {
        "id": "U8AVKG9Kt_G9"
      },
      "outputs": [],
      "source": [
        "# compiling the sequential model\n",
        "model.compile(loss='categorical_crossentropy', metrics=['accuracy'], optimizer='adam')\n",
        "\n"
      ]
    },
    {
      "cell_type": "code",
      "execution_count": null,
      "metadata": {
        "colab": {
          "base_uri": "https://localhost:8080/",
          "height": 323
        },
        "id": "JYyRun9uuDNJ",
        "outputId": "3cdec07f-c012-4316-9e2d-f914f430435c"
      },
      "outputs": [
        {
          "name": "stdout",
          "output_type": "stream",
          "text": [
            "Model: \"sequential_1\"\n",
            "_________________________________________________________________\n",
            "Layer (type)                 Output Shape              Param #   \n",
            "=================================================================\n",
            "conv2d_1 (Conv2D)            (None, 26, 26, 25)        250       \n",
            "_________________________________________________________________\n",
            "max_pooling2d_1 (MaxPooling2 (None, 26, 26, 25)        0         \n",
            "_________________________________________________________________\n",
            "flatten_1 (Flatten)          (None, 16900)             0         \n",
            "_________________________________________________________________\n",
            "dense_2 (Dense)              (None, 100)               1690100   \n",
            "_________________________________________________________________\n",
            "dense_3 (Dense)              (None, 10)                1010      \n",
            "=================================================================\n",
            "Total params: 1,691,360\n",
            "Trainable params: 1,691,360\n",
            "Non-trainable params: 0\n",
            "_________________________________________________________________\n"
          ]
        }
      ],
      "source": [
        "model.summary()"
      ]
    },
    {
      "cell_type": "code",
      "execution_count": null,
      "metadata": {
        "colab": {
          "base_uri": "https://localhost:8080/",
          "height": 394
        },
        "id": "duBz6m-kuGKg",
        "outputId": "ccf99cd3-bb73-4e51-830c-c40c3cc2e75a"
      },
      "outputs": [
        {
          "name": "stdout",
          "output_type": "stream",
          "text": [
            "Epoch 1/10\n",
            "469/469 [==============================] - 2s 5ms/step - loss: 0.1944 - accuracy: 0.9441 - val_loss: 0.0804 - val_accuracy: 0.9754\n",
            "Epoch 2/10\n",
            "469/469 [==============================] - 2s 4ms/step - loss: 0.0610 - accuracy: 0.9822 - val_loss: 0.0578 - val_accuracy: 0.9799\n",
            "Epoch 3/10\n",
            "469/469 [==============================] - 2s 4ms/step - loss: 0.0377 - accuracy: 0.9884 - val_loss: 0.0549 - val_accuracy: 0.9813\n",
            "Epoch 4/10\n",
            "469/469 [==============================] - 2s 4ms/step - loss: 0.0241 - accuracy: 0.9924 - val_loss: 0.0526 - val_accuracy: 0.9824\n",
            "Epoch 5/10\n",
            "469/469 [==============================] - 2s 4ms/step - loss: 0.0155 - accuracy: 0.9953 - val_loss: 0.0586 - val_accuracy: 0.9820\n",
            "Epoch 6/10\n",
            "469/469 [==============================] - 2s 4ms/step - loss: 0.0107 - accuracy: 0.9970 - val_loss: 0.0607 - val_accuracy: 0.9823\n",
            "Epoch 7/10\n",
            "469/469 [==============================] - 2s 4ms/step - loss: 0.0086 - accuracy: 0.9974 - val_loss: 0.0639 - val_accuracy: 0.9805\n",
            "Epoch 8/10\n",
            "469/469 [==============================] - 2s 4ms/step - loss: 0.0064 - accuracy: 0.9981 - val_loss: 0.0535 - val_accuracy: 0.9852\n",
            "Epoch 9/10\n",
            "469/469 [==============================] - 2s 4ms/step - loss: 0.0041 - accuracy: 0.9989 - val_loss: 0.0575 - val_accuracy: 0.9841\n",
            "Epoch 10/10\n",
            "469/469 [==============================] - 2s 4ms/step - loss: 0.0048 - accuracy: 0.9986 - val_loss: 0.0663 - val_accuracy: 0.9831\n"
          ]
        },
        {
          "data": {
            "text/plain": [
              "<tensorflow.python.keras.callbacks.History at 0x7f9107680f98>"
            ]
          },
          "execution_count": 9,
          "metadata": {
            "tags": []
          },
          "output_type": "execute_result"
        }
      ],
      "source": [
        "# training the model for 10 epochs\n",
        "model.fit(X_train, Y_train, batch_size=128, epochs=10, validation_data=(X_test, Y_test))"
      ]
    },
    {
      "cell_type": "code",
      "execution_count": null,
      "metadata": {
        "id": "e09JggB2uI9A"
      },
      "outputs": [],
      "source": [
        "from sklearn.metrics import  confusion_matrix"
      ]
    },
    {
      "cell_type": "code",
      "execution_count": null,
      "metadata": {
        "colab": {
          "base_uri": "https://localhost:8080/",
          "height": 306
        },
        "id": "DeCbsjpmrJWH",
        "outputId": "244bc040-3e34-4d01-d3fd-e039cb07a13d"
      },
      "outputs": [
        {
          "ename": "ValueError",
          "evalue": "ignored",
          "output_type": "error",
          "traceback": [
            "\u001b[0;31m---------------------------------------------------------------------------\u001b[0m",
            "\u001b[0;31mValueError\u001b[0m                                Traceback (most recent call last)",
            "\u001b[0;32m<ipython-input-97-fdc926b89173>\u001b[0m in \u001b[0;36m<module>\u001b[0;34m()\u001b[0m\n\u001b[0;32m----> 1\u001b[0;31m \u001b[0mcmt\u001b[0m\u001b[0;34m=\u001b[0m\u001b[0mconfusion_matrix\u001b[0m\u001b[0;34m(\u001b[0m\u001b[0my\u001b[0m\u001b[0;34m,\u001b[0m\u001b[0my_predict\u001b[0m\u001b[0;34m)\u001b[0m\u001b[0;34m\u001b[0m\u001b[0;34m\u001b[0m\u001b[0m\n\u001b[0m",
            "\u001b[0;32m/usr/local/lib/python3.6/dist-packages/sklearn/metrics/_classification.py\u001b[0m in \u001b[0;36mconfusion_matrix\u001b[0;34m(y_true, y_pred, labels, sample_weight, normalize)\u001b[0m\n\u001b[1;32m    266\u001b[0m \u001b[0;34m\u001b[0m\u001b[0m\n\u001b[1;32m    267\u001b[0m     \"\"\"\n\u001b[0;32m--> 268\u001b[0;31m     \u001b[0my_type\u001b[0m\u001b[0;34m,\u001b[0m \u001b[0my_true\u001b[0m\u001b[0;34m,\u001b[0m \u001b[0my_pred\u001b[0m \u001b[0;34m=\u001b[0m \u001b[0m_check_targets\u001b[0m\u001b[0;34m(\u001b[0m\u001b[0my_true\u001b[0m\u001b[0;34m,\u001b[0m \u001b[0my_pred\u001b[0m\u001b[0;34m)\u001b[0m\u001b[0;34m\u001b[0m\u001b[0;34m\u001b[0m\u001b[0m\n\u001b[0m\u001b[1;32m    269\u001b[0m     \u001b[0;32mif\u001b[0m \u001b[0my_type\u001b[0m \u001b[0;32mnot\u001b[0m \u001b[0;32min\u001b[0m \u001b[0;34m(\u001b[0m\u001b[0;34m\"binary\"\u001b[0m\u001b[0;34m,\u001b[0m \u001b[0;34m\"multiclass\"\u001b[0m\u001b[0;34m)\u001b[0m\u001b[0;34m:\u001b[0m\u001b[0;34m\u001b[0m\u001b[0;34m\u001b[0m\u001b[0m\n\u001b[1;32m    270\u001b[0m         \u001b[0;32mraise\u001b[0m \u001b[0mValueError\u001b[0m\u001b[0;34m(\u001b[0m\u001b[0;34m\"%s is not supported\"\u001b[0m \u001b[0;34m%\u001b[0m \u001b[0my_type\u001b[0m\u001b[0;34m)\u001b[0m\u001b[0;34m\u001b[0m\u001b[0;34m\u001b[0m\u001b[0m\n",
            "\u001b[0;32m/usr/local/lib/python3.6/dist-packages/sklearn/metrics/_classification.py\u001b[0m in \u001b[0;36m_check_targets\u001b[0;34m(y_true, y_pred)\u001b[0m\n\u001b[1;32m     78\u001b[0m     \u001b[0my_pred\u001b[0m \u001b[0;34m:\u001b[0m \u001b[0marray\u001b[0m \u001b[0;32mor\u001b[0m \u001b[0mindicator\u001b[0m \u001b[0mmatrix\u001b[0m\u001b[0;34m\u001b[0m\u001b[0;34m\u001b[0m\u001b[0m\n\u001b[1;32m     79\u001b[0m     \"\"\"\n\u001b[0;32m---> 80\u001b[0;31m     \u001b[0mcheck_consistent_length\u001b[0m\u001b[0;34m(\u001b[0m\u001b[0my_true\u001b[0m\u001b[0;34m,\u001b[0m \u001b[0my_pred\u001b[0m\u001b[0;34m)\u001b[0m\u001b[0;34m\u001b[0m\u001b[0;34m\u001b[0m\u001b[0m\n\u001b[0m\u001b[1;32m     81\u001b[0m     \u001b[0mtype_true\u001b[0m \u001b[0;34m=\u001b[0m \u001b[0mtype_of_target\u001b[0m\u001b[0;34m(\u001b[0m\u001b[0my_true\u001b[0m\u001b[0;34m)\u001b[0m\u001b[0;34m\u001b[0m\u001b[0;34m\u001b[0m\u001b[0m\n\u001b[1;32m     82\u001b[0m     \u001b[0mtype_pred\u001b[0m \u001b[0;34m=\u001b[0m \u001b[0mtype_of_target\u001b[0m\u001b[0;34m(\u001b[0m\u001b[0my_pred\u001b[0m\u001b[0;34m)\u001b[0m\u001b[0;34m\u001b[0m\u001b[0;34m\u001b[0m\u001b[0m\n",
            "\u001b[0;32m/usr/local/lib/python3.6/dist-packages/sklearn/utils/validation.py\u001b[0m in \u001b[0;36mcheck_consistent_length\u001b[0;34m(*arrays)\u001b[0m\n\u001b[1;32m    210\u001b[0m     \u001b[0;32mif\u001b[0m \u001b[0mlen\u001b[0m\u001b[0;34m(\u001b[0m\u001b[0muniques\u001b[0m\u001b[0;34m)\u001b[0m \u001b[0;34m>\u001b[0m \u001b[0;36m1\u001b[0m\u001b[0;34m:\u001b[0m\u001b[0;34m\u001b[0m\u001b[0;34m\u001b[0m\u001b[0m\n\u001b[1;32m    211\u001b[0m         raise ValueError(\"Found input variables with inconsistent numbers of\"\n\u001b[0;32m--> 212\u001b[0;31m                          \" samples: %r\" % [int(l) for l in lengths])\n\u001b[0m\u001b[1;32m    213\u001b[0m \u001b[0;34m\u001b[0m\u001b[0m\n\u001b[1;32m    214\u001b[0m \u001b[0;34m\u001b[0m\u001b[0m\n",
            "\u001b[0;31mValueError\u001b[0m: Found input variables with inconsistent numbers of samples: [5000, 17]"
          ]
        }
      ],
      "source": [
        "cmt=confusion_matrix(y,y_predict)"
      ]
    },
    {
      "cell_type": "code",
      "execution_count": null,
      "metadata": {
        "id": "aLr_77b1rmaD"
      },
      "outputs": [],
      "source": []
    }
  ],
  "metadata": {
    "accelerator": "GPU",
    "colab": {
      "collapsed_sections": [
        "aWDPVmxjY7Gm"
      ],
      "toc_visible": true,
      "provenance": [],
      "include_colab_link": true
    },
    "kernelspec": {
      "display_name": "Python 3",
      "name": "python3"
    }
  },
  "nbformat": 4,
  "nbformat_minor": 0
}
