{
  "cells": [
    {
      "cell_type": "markdown",
      "metadata": {
        "id": "view-in-github",
        "colab_type": "text"
      },
      "source": [
        "<a href=\"https://colab.research.google.com/github/prashantmane091318/Computer_Vision/blob/main/Perceptron.ipynb\" target=\"_parent\"><img src=\"https://colab.research.google.com/assets/colab-badge.svg\" alt=\"Open In Colab\"/></a>"
      ]
    },
    {
      "cell_type": "code",
      "execution_count": null,
      "metadata": {
        "id": "1F6RceiyZk4x"
      },
      "outputs": [],
      "source": [
        "import numpy as np"
      ]
    },
    {
      "cell_type": "code",
      "execution_count": null,
      "metadata": {
        "id": "B31LE7oQZk41"
      },
      "outputs": [],
      "source": [
        "X = np.array([[0,0,0],\n",
        "             [0,0,1],\n",
        "             [0,1,0],\n",
        "             [0,1,1],\n",
        "             [1,0,0],\n",
        "             [1,0,1],\n",
        "             [1,1,0],\n",
        "             [1,1,1]])\n",
        "y_actual = X[:,0] + X[:,1] - X[:,2]"
      ]
    },
    {
      "cell_type": "code",
      "execution_count": null,
      "metadata": {
        "id": "QctfacXFZk42",
        "outputId": "a85978ad-ef22-445d-ca22-35b1d39c29a6"
      },
      "outputs": [
        {
          "data": {
            "text/plain": [
              "(8, 3)"
            ]
          },
          "execution_count": 3,
          "metadata": {},
          "output_type": "execute_result"
        }
      ],
      "source": [
        "X.shape"
      ]
    },
    {
      "cell_type": "code",
      "execution_count": null,
      "metadata": {
        "id": "1YEXHD7MZk43",
        "outputId": "dd39c09e-fc5e-4426-e163-f0fe50481e98"
      },
      "outputs": [
        {
          "data": {
            "text/plain": [
              "array([ 0, -1,  1,  0,  1,  0,  2,  1])"
            ]
          },
          "execution_count": 4,
          "metadata": {},
          "output_type": "execute_result"
        }
      ],
      "source": [
        "np.where(y_actual>0,1,0)"
      ]
    },
    {
      "cell_type": "code",
      "execution_count": null,
      "metadata": {
        "id": "RZS671B0Zk43"
      },
      "outputs": [],
      "source": [
        "y_actual = np.where(y_actual>0,1,0).reshape(-1,1)"
      ]
    },
    {
      "cell_type": "code",
      "execution_count": null,
      "metadata": {
        "id": "6vLnQkodZk43",
        "outputId": "c81286ec-e596-4d08-e4ec-7022c451aa1d"
      },
      "outputs": [
        {
          "data": {
            "text/plain": [
              "array([[0],\n",
              "       [0],\n",
              "       [1],\n",
              "       [0],\n",
              "       [1],\n",
              "       [0],\n",
              "       [1],\n",
              "       [1]])"
            ]
          },
          "execution_count": 7,
          "metadata": {},
          "output_type": "execute_result"
        }
      ],
      "source": [
        "y_actual"
      ]
    },
    {
      "cell_type": "code",
      "execution_count": null,
      "metadata": {
        "id": "IJ4oj7lxZk44",
        "outputId": "f4b75e37-b90f-4791-9c94-e03023696ddc"
      },
      "outputs": [
        {
          "data": {
            "text/plain": [
              "array([[ 2.11552311],\n",
              "       [ 0.204649  ],\n",
              "       [-0.09539394]])"
            ]
          },
          "execution_count": 29,
          "metadata": {},
          "output_type": "execute_result"
        }
      ],
      "source": [
        "W = np.random.randn(3,1)\n",
        "W"
      ]
    },
    {
      "cell_type": "code",
      "execution_count": null,
      "metadata": {
        "id": "sdeNjt-WZk44"
      },
      "outputs": [],
      "source": [
        "def sigmoid(P):\n",
        "    return 1/(1+np.exp(-P))"
      ]
    },
    {
      "cell_type": "code",
      "execution_count": null,
      "metadata": {
        "id": "XZgt3FFyZk45"
      },
      "outputs": [],
      "source": [
        "for i in range(100): #epochs\n",
        "    y_predict = sigmoid(np.dot(X,W))\n",
        "    error = y_predict - y_actual\n",
        "    dw = np.dot(X.T,error)\n",
        "    W = W - dw"
      ]
    },
    {
      "cell_type": "code",
      "execution_count": null,
      "metadata": {
        "id": "4RyPxLdSZk45",
        "outputId": "7aca3eec-1f51-4c29-a4f2-45e4f784d799"
      },
      "outputs": [
        {
          "data": {
            "text/plain": [
              "array([[ 4.84238843],\n",
              "       [ 4.84263877],\n",
              "       [-7.42113116]])"
            ]
          },
          "execution_count": 16,
          "metadata": {},
          "output_type": "execute_result"
        }
      ],
      "source": [
        "W"
      ]
    },
    {
      "cell_type": "code",
      "execution_count": null,
      "metadata": {
        "id": "Me6FNmfBZk46",
        "outputId": "da8768dc-f59e-41d0-8b63-c1593ae6f1fd"
      },
      "outputs": [
        {
          "data": {
            "text/plain": [
              "array([[0],\n",
              "       [0],\n",
              "       [1],\n",
              "       [0],\n",
              "       [1],\n",
              "       [0],\n",
              "       [1],\n",
              "       [1]])"
            ]
          },
          "execution_count": 17,
          "metadata": {},
          "output_type": "execute_result"
        }
      ],
      "source": [
        "y_actual"
      ]
    },
    {
      "cell_type": "code",
      "execution_count": null,
      "metadata": {
        "id": "sxOirqDBZk46",
        "outputId": "1af3c984-0095-49c3-fcfc-31bd37fcb0a3"
      },
      "outputs": [
        {
          "data": {
            "text/plain": [
              "array([[0.],\n",
              "       [0.],\n",
              "       [1.],\n",
              "       [0.],\n",
              "       [1.],\n",
              "       [0.],\n",
              "       [1.],\n",
              "       [0.]])"
            ]
          },
          "execution_count": 31,
          "metadata": {},
          "output_type": "execute_result"
        }
      ],
      "source": [
        "np.round(sigmoid(np.dot(X,W)))"
      ]
    },
    {
      "cell_type": "code",
      "execution_count": null,
      "metadata": {
        "id": "nCESLIZhZk46"
      },
      "outputs": [],
      "source": [
        "X = np.random.random((50,1))\n",
        "y_actual = X*2"
      ]
    },
    {
      "cell_type": "code",
      "execution_count": null,
      "metadata": {
        "id": "1orZJVTpZk47"
      },
      "outputs": [],
      "source": [
        "W = np.random.randn(1,1)"
      ]
    },
    {
      "cell_type": "code",
      "execution_count": null,
      "metadata": {
        "id": "p5e-1qeNZk47",
        "outputId": "defcbb14-3b25-45f5-9387-14a671e54ac6"
      },
      "outputs": [
        {
          "data": {
            "text/plain": [
              "array([[-0.98538029]])"
            ]
          },
          "execution_count": 58,
          "metadata": {},
          "output_type": "execute_result"
        }
      ],
      "source": [
        "W"
      ]
    },
    {
      "cell_type": "code",
      "execution_count": null,
      "metadata": {
        "id": "iRMszmqCZk47"
      },
      "outputs": [],
      "source": [
        "for i in range(50):\n",
        "    y_predict = np.dot(X,W) #linear\n",
        "    error = y_predict - y_actual\n",
        "    dw = np.dot(X.T,error*0.01)\n",
        "    W = W - dw"
      ]
    },
    {
      "cell_type": "code",
      "execution_count": null,
      "metadata": {
        "id": "lZFOyVoWZk48",
        "outputId": "60b53313-9a6d-4bfb-d9f8-ca4d93385d0f"
      },
      "outputs": [
        {
          "data": {
            "text/plain": [
              "array([[1.99923852]])"
            ]
          },
          "execution_count": 60,
          "metadata": {},
          "output_type": "execute_result"
        }
      ],
      "source": [
        "W"
      ]
    },
    {
      "cell_type": "code",
      "execution_count": null,
      "metadata": {
        "id": "3aK-CO_PZk48"
      },
      "outputs": [],
      "source": []
    },
    {
      "cell_type": "code",
      "execution_count": null,
      "metadata": {
        "id": "VxP2DxXdZk48"
      },
      "outputs": [],
      "source": []
    },
    {
      "cell_type": "code",
      "execution_count": null,
      "metadata": {
        "id": "PiiBeA4bZk48",
        "outputId": "3656440c-733f-49d7-ea55-98c6caf05352"
      },
      "outputs": [
        {
          "data": {
            "text/plain": [
              "array([[0.53826231, 0.28953327, 0.28972631],\n",
              "       [0.22363859, 0.05267322, 0.05001422],\n",
              "       [0.30835192, 0.10188203, 0.09508091],\n",
              "       [0.40801784, 0.15942181, 0.16647856],\n",
              "       [0.23265486, 0.04963085, 0.05412828],\n",
              "       [0.27789491, 0.07629592, 0.07722558],\n",
              "       [0.98163296, 0.96816014, 0.96360327],\n",
              "       [0.66834898, 0.44481406, 0.44669036],\n",
              "       [0.67254199, 0.44437855, 0.45231272],\n",
              "       [0.32108039, 0.1284243 , 0.10309262],\n",
              "       [0.4778013 , 0.23561639, 0.22829409],\n",
              "       [0.5230546 , 0.26599987, 0.27358611],\n",
              "       [0.67788381, 0.44334709, 0.45952646],\n",
              "       [0.84624841, 0.71214729, 0.71613636],\n",
              "       [0.23480922, 0.04868746, 0.05513537],\n",
              "       [0.82330837, 0.66808551, 0.67783667],\n",
              "       [0.19069491, 0.04030168, 0.03636455],\n",
              "       [0.50759009, 0.27433786, 0.2576477 ],\n",
              "       [0.22570293, 0.05312489, 0.05094181],\n",
              "       [0.40378819, 0.14451403, 0.1630449 ],\n",
              "       [0.54647821, 0.30416769, 0.29863844],\n",
              "       [0.94686391, 0.88124752, 0.89655127],\n",
              "       [0.36419559, 0.14474333, 0.13263843],\n",
              "       [0.20029943, 0.0368363 , 0.04011986],\n",
              "       [0.3754102 , 0.14128943, 0.14093282],\n",
              "       [0.48077105, 0.23217297, 0.2311408 ],\n",
              "       [0.53102951, 0.27660947, 0.28199234],\n",
              "       [0.93981202, 0.87681747, 0.88324662],\n",
              "       [0.56094551, 0.30915518, 0.31465987],\n",
              "       [0.14142912, 0.01138886, 0.0200022 ],\n",
              "       [0.35130591, 0.12596559, 0.12341584],\n",
              "       [0.65760606, 0.43745027, 0.43244573],\n",
              "       [0.18135168, 0.04400778, 0.03288843],\n",
              "       [0.14337945, 0.01505476, 0.02055767],\n",
              "       [0.15713485, 0.0302216 , 0.02469136],\n",
              "       [0.16934173, 0.03308937, 0.02867662],\n",
              "       [0.61716277, 0.37455231, 0.38088988],\n",
              "       [0.75316271, 0.56866327, 0.56725406],\n",
              "       [0.8513336 , 0.74919034, 0.7247689 ],\n",
              "       [0.86456795, 0.75045624, 0.74747774],\n",
              "       [0.93861923, 0.8800541 , 0.88100606],\n",
              "       [0.57065236, 0.33536292, 0.32564411],\n",
              "       [0.97011269, 0.9463571 , 0.94111863],\n",
              "       [0.39276542, 0.14031372, 0.15426468],\n",
              "       [0.44674098, 0.20557812, 0.1995775 ],\n",
              "       [0.98941323, 0.96299935, 0.97893854],\n",
              "       [0.71739791, 0.5203616 , 0.51465976],\n",
              "       [0.47739029, 0.20867465, 0.22790149],\n",
              "       [0.80162466, 0.64873025, 0.6426021 ],\n",
              "       [0.81404338, 0.67437095, 0.66266663]])"
            ]
          },
          "execution_count": 44,
          "metadata": {},
          "output_type": "execute_result"
        }
      ],
      "source": []
    },
    {
      "cell_type": "code",
      "execution_count": null,
      "metadata": {
        "id": "Vmrq32J-Zk48"
      },
      "outputs": [],
      "source": []
    },
    {
      "cell_type": "code",
      "execution_count": null,
      "metadata": {
        "id": "oHTN01PvZk49"
      },
      "outputs": [],
      "source": []
    },
    {
      "cell_type": "code",
      "execution_count": null,
      "metadata": {
        "id": "_iekGpF5Zk49"
      },
      "outputs": [],
      "source": []
    }
  ],
  "metadata": {
    "kernelspec": {
      "display_name": "Python 3",
      "language": "python",
      "name": "python3"
    },
    "language_info": {
      "codemirror_mode": {
        "name": "ipython",
        "version": 3
      },
      "file_extension": ".py",
      "mimetype": "text/x-python",
      "name": "python",
      "nbconvert_exporter": "python",
      "pygments_lexer": "ipython3",
      "version": "3.7.4"
    },
    "colab": {
      "provenance": [],
      "include_colab_link": true
    }
  },
  "nbformat": 4,
  "nbformat_minor": 0
}