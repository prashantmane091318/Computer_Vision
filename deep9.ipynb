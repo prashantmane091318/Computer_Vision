{
  "nbformat": 4,
  "nbformat_minor": 0,
  "metadata": {
    "colab": {
      "provenance": [],
      "include_colab_link": true
    },
    "kernelspec": {
      "name": "python3",
      "display_name": "Python 3"
    }
  },
  "cells": [
    {
      "cell_type": "markdown",
      "metadata": {
        "id": "view-in-github",
        "colab_type": "text"
      },
      "source": [
        "<a href=\"https://colab.research.google.com/github/prashantmane091318/Computer_Vision/blob/main/deep9.ipynb\" target=\"_parent\"><img src=\"https://colab.research.google.com/assets/colab-badge.svg\" alt=\"Open In Colab\"/></a>"
      ]
    },
    {
      "cell_type": "code",
      "metadata": {
        "id": "bEs1Rk1Np4y7"
      },
      "source": [
        "import tensorflow as tf\n"
      ],
      "execution_count": null,
      "outputs": []
    },
    {
      "cell_type": "code",
      "metadata": {
        "id": "QKl_23UIJdR9"
      },
      "source": [
        "data=tf.keras.datasets.mnist"
      ],
      "execution_count": null,
      "outputs": []
    },
    {
      "cell_type": "code",
      "metadata": {
        "id": "fIpg_0xjJyK-",
        "colab": {
          "base_uri": "https://localhost:8080/",
          "height": 51
        },
        "outputId": "fd178c6a-e034-4f13-ffda-e1150176a31e"
      },
      "source": [
        "(xtrain,ytrain),(xtest,ytest)=data.load_data()"
      ],
      "execution_count": null,
      "outputs": [
        {
          "output_type": "stream",
          "text": [
            "Downloading data from https://storage.googleapis.com/tensorflow/tf-keras-datasets/mnist.npz\n",
            "11493376/11490434 [==============================] - 0s 0us/step\n"
          ],
          "name": "stdout"
        }
      ]
    },
    {
      "cell_type": "code",
      "metadata": {
        "id": "iB3lDcnpJ4u0",
        "colab": {
          "base_uri": "https://localhost:8080/",
          "height": 34
        },
        "outputId": "0cd550e1-765e-4d82-871c-49064ec0140b"
      },
      "source": [
        "xtrain.shape"
      ],
      "execution_count": null,
      "outputs": [
        {
          "output_type": "execute_result",
          "data": {
            "text/plain": [
              "(60000, 28, 28)"
            ]
          },
          "metadata": {
            "tags": []
          },
          "execution_count": 4
        }
      ]
    },
    {
      "cell_type": "code",
      "metadata": {
        "id": "S_D3OQPWKIlD",
        "colab": {
          "base_uri": "https://localhost:8080/",
          "height": 34
        },
        "outputId": "f41d0efd-f8f9-49f4-81ae-ea84db2f83cd"
      },
      "source": [
        "ytrain.shape"
      ],
      "execution_count": null,
      "outputs": [
        {
          "output_type": "execute_result",
          "data": {
            "text/plain": [
              "(60000,)"
            ]
          },
          "metadata": {
            "tags": []
          },
          "execution_count": 5
        }
      ]
    },
    {
      "cell_type": "code",
      "metadata": {
        "id": "JSPSmIDfKKng",
        "colab": {
          "base_uri": "https://localhost:8080/",
          "height": 35
        },
        "outputId": "3c694d3b-b432-4361-b6fa-f94e8162ea22"
      },
      "source": [
        "xtest.shape"
      ],
      "execution_count": null,
      "outputs": [
        {
          "output_type": "execute_result",
          "data": {
            "text/plain": [
              "(10000, 28, 28)"
            ]
          },
          "metadata": {
            "tags": []
          },
          "execution_count": 74
        }
      ]
    },
    {
      "cell_type": "code",
      "metadata": {
        "id": "_JZpfRT4KQWp",
        "colab": {
          "base_uri": "https://localhost:8080/",
          "height": 35
        },
        "outputId": "d804716b-fc04-498e-949d-cd35a6387286"
      },
      "source": [
        "ytest.shape"
      ],
      "execution_count": null,
      "outputs": [
        {
          "output_type": "execute_result",
          "data": {
            "text/plain": [
              "(10000,)"
            ]
          },
          "metadata": {
            "tags": []
          },
          "execution_count": 75
        }
      ]
    },
    {
      "cell_type": "code",
      "metadata": {
        "id": "YyPNkakZKSC9"
      },
      "source": [
        "import matplotlib.pyplot as plt"
      ],
      "execution_count": null,
      "outputs": []
    },
    {
      "cell_type": "code",
      "metadata": {
        "id": "EtgGJ9hGKjxm"
      },
      "source": [
        "x_train=xtrain.reshape(-1,28,28,1)/255.0"
      ],
      "execution_count": null,
      "outputs": []
    },
    {
      "cell_type": "code",
      "metadata": {
        "id": "onMmYyP1Ko14",
        "colab": {
          "base_uri": "https://localhost:8080/",
          "height": 34
        },
        "outputId": "8728e3e0-8024-451e-fe3e-b9de6d329da1"
      },
      "source": [
        "x_train.shape"
      ],
      "execution_count": null,
      "outputs": [
        {
          "output_type": "execute_result",
          "data": {
            "text/plain": [
              "(60000, 28, 28, 1)"
            ]
          },
          "metadata": {
            "tags": []
          },
          "execution_count": 7
        }
      ]
    },
    {
      "cell_type": "code",
      "metadata": {
        "id": "vPLkNVhyKu8g"
      },
      "source": [
        "x_test=xtest.reshape(-1,28,28,1)/255.0"
      ],
      "execution_count": null,
      "outputs": []
    },
    {
      "cell_type": "code",
      "metadata": {
        "id": "4NExGGWvK3Oq"
      },
      "source": [
        "xtrain.shape"
      ],
      "execution_count": null,
      "outputs": []
    },
    {
      "cell_type": "code",
      "metadata": {
        "id": "ONAlFmg0La5f"
      },
      "source": [
        "x_train=xtrain.reshape(60000,-1)/255.0"
      ],
      "execution_count": null,
      "outputs": []
    },
    {
      "cell_type": "code",
      "metadata": {
        "id": "wvQgJGNqbk_D",
        "colab": {
          "base_uri": "https://localhost:8080/",
          "height": 35
        },
        "outputId": "80f86207-fb3f-41e4-f86a-91647df1318a"
      },
      "source": [
        "x_train.shape"
      ],
      "execution_count": null,
      "outputs": [
        {
          "output_type": "execute_result",
          "data": {
            "text/plain": [
              "(60000, 784)"
            ]
          },
          "metadata": {
            "tags": []
          },
          "execution_count": 77
        }
      ]
    },
    {
      "cell_type": "code",
      "metadata": {
        "id": "ziLKoVqnggTb"
      },
      "source": [
        "x_test=xtest.reshape(10000,-1)/255.0"
      ],
      "execution_count": null,
      "outputs": []
    },
    {
      "cell_type": "code",
      "metadata": {
        "id": "pVYRN5mubpWH"
      },
      "source": [
        "y_train=tf.keras.utils.to_categorical(ytrain)"
      ],
      "execution_count": null,
      "outputs": []
    },
    {
      "cell_type": "code",
      "metadata": {
        "id": "5-f-PJ92b1l_",
        "colab": {
          "base_uri": "https://localhost:8080/",
          "height": 34
        },
        "outputId": "d9c5606a-5e91-4707-9a53-31507e3f2ee8"
      },
      "source": [
        "y_train.shape"
      ],
      "execution_count": null,
      "outputs": [
        {
          "output_type": "execute_result",
          "data": {
            "text/plain": [
              "(60000, 10)"
            ]
          },
          "metadata": {
            "tags": []
          },
          "execution_count": 12
        }
      ]
    },
    {
      "cell_type": "code",
      "metadata": {
        "id": "FYN_iiTXb3Lr"
      },
      "source": [
        "model=tf.keras.models.Sequential()"
      ],
      "execution_count": null,
      "outputs": []
    },
    {
      "cell_type": "code",
      "metadata": {
        "id": "_Z8dNvglcAiw"
      },
      "source": [
        "from tensorflow.keras.layers import Dense,Conv2D,MaxPool2D,Flatten"
      ],
      "execution_count": null,
      "outputs": []
    },
    {
      "cell_type": "code",
      "metadata": {
        "id": "UJIF0_MVdp5_"
      },
      "source": [
        "model.add(Conv2D(32,(3,3),strides=(1,1),padding=\"valid\",activation=\"relu\",input_shape=(28,28,1)))"
      ],
      "execution_count": null,
      "outputs": []
    },
    {
      "cell_type": "code",
      "metadata": {
        "id": "jRokB7YudqJM"
      },
      "source": [
        "model.add(MaxPool2D(pool_size=(2,2)))"
      ],
      "execution_count": null,
      "outputs": []
    },
    {
      "cell_type": "code",
      "metadata": {
        "id": "kLmL_-iQdqWU"
      },
      "source": [
        "model.add(Flatten())"
      ],
      "execution_count": null,
      "outputs": []
    },
    {
      "cell_type": "code",
      "metadata": {
        "id": "Wmayu2dXcOBK"
      },
      "source": [
        "model.add(Dense(100,activation=\"relu\"))"
      ],
      "execution_count": null,
      "outputs": []
    },
    {
      "cell_type": "code",
      "metadata": {
        "id": "M31NAc9fcg6I"
      },
      "source": [
        "model.add(Dense(10,activation=\"relu\"))"
      ],
      "execution_count": null,
      "outputs": []
    },
    {
      "cell_type": "code",
      "metadata": {
        "id": "Ujz3RX_IcnOf"
      },
      "source": [
        "model.add(Dense(10,activation=\"softmax\"))"
      ],
      "execution_count": null,
      "outputs": []
    },
    {
      "cell_type": "code",
      "metadata": {
        "id": "E3LX_7IxcuiI",
        "colab": {
          "base_uri": "https://localhost:8080/",
          "height": 391
        },
        "outputId": "d56cf2a5-013f-489a-9091-e173cc1a370a"
      },
      "source": [
        "model.summary()"
      ],
      "execution_count": null,
      "outputs": [
        {
          "output_type": "stream",
          "text": [
            "Model: \"sequential\"\n",
            "_________________________________________________________________\n",
            "Layer (type)                 Output Shape              Param #   \n",
            "=================================================================\n",
            "conv2d (Conv2D)              (None, 26, 26, 32)        320       \n",
            "_________________________________________________________________\n",
            "max_pooling2d (MaxPooling2D) (None, 13, 13, 32)        0         \n",
            "_________________________________________________________________\n",
            "flatten (Flatten)            (None, 5408)              0         \n",
            "_________________________________________________________________\n",
            "dense (Dense)                (None, 100)               540900    \n",
            "_________________________________________________________________\n",
            "dense_1 (Dense)              (None, 100)               10100     \n",
            "_________________________________________________________________\n",
            "dense_2 (Dense)              (None, 10)                1010      \n",
            "_________________________________________________________________\n",
            "dense_3 (Dense)              (None, 10)                110       \n",
            "=================================================================\n",
            "Total params: 552,440\n",
            "Trainable params: 552,440\n",
            "Non-trainable params: 0\n",
            "_________________________________________________________________\n"
          ],
          "name": "stdout"
        }
      ]
    },
    {
      "cell_type": "code",
      "metadata": {
        "id": "gY5MRGR7cwVr"
      },
      "source": [
        "model.compile(optimizer=\"adam\",loss=\"categorical_crossentropy\",metrics=[\"accuracy\"])"
      ],
      "execution_count": null,
      "outputs": []
    },
    {
      "cell_type": "code",
      "metadata": {
        "id": "qewhgUVIeOfg",
        "colab": {
          "base_uri": "https://localhost:8080/",
          "height": 1000
        },
        "outputId": "4ddb9f1b-f5e5-45f8-f9ca-d40903c079d2"
      },
      "source": [
        "model.fit(x_train,y_train,epochs=50,batch_size=32)"
      ],
      "execution_count": null,
      "outputs": [
        {
          "output_type": "stream",
          "text": [
            "Epoch 1/50\n",
            "1875/1875 [==============================] - 29s 16ms/step - loss: 0.2248 - accuracy: 0.9331\n",
            "Epoch 2/50\n",
            "1875/1875 [==============================] - 30s 16ms/step - loss: 0.0659 - accuracy: 0.9801\n",
            "Epoch 3/50\n",
            "1875/1875 [==============================] - 29s 15ms/step - loss: 0.0440 - accuracy: 0.9867\n",
            "Epoch 4/50\n",
            "1875/1875 [==============================] - 29s 15ms/step - loss: 0.0296 - accuracy: 0.9909\n",
            "Epoch 5/50\n",
            "1875/1875 [==============================] - 29s 15ms/step - loss: 0.0224 - accuracy: 0.9931\n",
            "Epoch 6/50\n",
            "1875/1875 [==============================] - 29s 15ms/step - loss: 0.0165 - accuracy: 0.9945\n",
            "Epoch 7/50\n",
            "1875/1875 [==============================] - 29s 15ms/step - loss: 0.0136 - accuracy: 0.9955\n",
            "Epoch 8/50\n",
            "1875/1875 [==============================] - 29s 15ms/step - loss: 0.0111 - accuracy: 0.9965\n",
            "Epoch 9/50\n",
            "1875/1875 [==============================] - 29s 15ms/step - loss: 0.0090 - accuracy: 0.9970\n",
            "Epoch 10/50\n",
            "1875/1875 [==============================] - 29s 15ms/step - loss: 0.0072 - accuracy: 0.9977\n",
            "Epoch 11/50\n",
            "1875/1875 [==============================] - 29s 15ms/step - loss: 0.0076 - accuracy: 0.9977\n",
            "Epoch 12/50\n",
            "1875/1875 [==============================] - 29s 16ms/step - loss: 0.0057 - accuracy: 0.9982\n",
            "Epoch 13/50\n",
            "1875/1875 [==============================] - 29s 16ms/step - loss: 0.0054 - accuracy: 0.9984\n",
            "Epoch 14/50\n",
            "1875/1875 [==============================] - 29s 15ms/step - loss: 0.0051 - accuracy: 0.9984\n",
            "Epoch 15/50\n",
            "1875/1875 [==============================] - 29s 15ms/step - loss: 0.0054 - accuracy: 0.9982\n",
            "Epoch 16/50\n",
            "1875/1875 [==============================] - 29s 15ms/step - loss: 0.0045 - accuracy: 0.9987\n",
            "Epoch 17/50\n",
            "1875/1875 [==============================] - 29s 15ms/step - loss: 0.0052 - accuracy: 0.9983\n",
            "Epoch 18/50\n",
            "1875/1875 [==============================] - 29s 15ms/step - loss: 0.0051 - accuracy: 0.9984\n",
            "Epoch 19/50\n",
            "1875/1875 [==============================] - 29s 15ms/step - loss: 0.0036 - accuracy: 0.9989\n",
            "Epoch 20/50\n",
            "1875/1875 [==============================] - 29s 15ms/step - loss: 0.0036 - accuracy: 0.9987\n",
            "Epoch 21/50\n",
            "1875/1875 [==============================] - 29s 16ms/step - loss: 0.0025 - accuracy: 0.9993\n",
            "Epoch 22/50\n",
            "1875/1875 [==============================] - 29s 15ms/step - loss: 0.0052 - accuracy: 0.9984\n",
            "Epoch 23/50\n",
            "1875/1875 [==============================] - 29s 16ms/step - loss: 0.0030 - accuracy: 0.9991\n",
            "Epoch 24/50\n",
            "1875/1875 [==============================] - 29s 16ms/step - loss: 0.0037 - accuracy: 0.9991\n",
            "Epoch 25/50\n",
            "1875/1875 [==============================] - 29s 15ms/step - loss: 0.0020 - accuracy: 0.9994\n",
            "Epoch 26/50\n",
            "1875/1875 [==============================] - 29s 15ms/step - loss: 0.0028 - accuracy: 0.9991\n",
            "Epoch 27/50\n",
            "1875/1875 [==============================] - 29s 16ms/step - loss: 0.0050 - accuracy: 0.9984\n",
            "Epoch 28/50\n",
            "1875/1875 [==============================] - 29s 15ms/step - loss: 0.0021 - accuracy: 0.9994\n",
            "Epoch 29/50\n",
            "1875/1875 [==============================] - 29s 15ms/step - loss: 0.0030 - accuracy: 0.9991\n",
            "Epoch 30/50\n",
            "1875/1875 [==============================] - 29s 15ms/step - loss: 0.0016 - accuracy: 0.9997\n",
            "Epoch 31/50\n",
            "1875/1875 [==============================] - 29s 15ms/step - loss: 0.0044 - accuracy: 0.9989\n",
            "Epoch 32/50\n",
            "1875/1875 [==============================] - 29s 15ms/step - loss: 0.0027 - accuracy: 0.9993\n",
            "Epoch 33/50\n",
            "1875/1875 [==============================] - 29s 15ms/step - loss: 0.0022 - accuracy: 0.9993\n",
            "Epoch 34/50\n",
            "1875/1875 [==============================] - 29s 16ms/step - loss: 0.0028 - accuracy: 0.9992\n",
            "Epoch 35/50\n",
            "1875/1875 [==============================] - 28s 15ms/step - loss: 0.0023 - accuracy: 0.9994\n",
            "Epoch 36/50\n",
            "1875/1875 [==============================] - 29s 15ms/step - loss: 0.0025 - accuracy: 0.9993\n",
            "Epoch 37/50\n",
            "1875/1875 [==============================] - 29s 15ms/step - loss: 0.0017 - accuracy: 0.9996\n",
            "Epoch 38/50\n",
            "1875/1875 [==============================] - 28s 15ms/step - loss: 0.0028 - accuracy: 0.9994\n",
            "Epoch 39/50\n",
            "1875/1875 [==============================] - 28s 15ms/step - loss: 0.0017 - accuracy: 0.9996\n",
            "Epoch 40/50\n",
            "1875/1875 [==============================] - 29s 15ms/step - loss: 0.0010 - accuracy: 0.9997\n",
            "Epoch 41/50\n",
            "1875/1875 [==============================] - 28s 15ms/step - loss: 0.0026 - accuracy: 0.9992\n",
            "Epoch 42/50\n",
            "1875/1875 [==============================] - 28s 15ms/step - loss: 0.0016 - accuracy: 0.9995\n",
            "Epoch 43/50\n",
            "1875/1875 [==============================] - 28s 15ms/step - loss: 0.0012 - accuracy: 0.9997\n",
            "Epoch 44/50\n",
            "1875/1875 [==============================] - 29s 15ms/step - loss: 0.0033 - accuracy: 0.9991\n",
            "Epoch 45/50\n",
            "1875/1875 [==============================] - 29s 15ms/step - loss: 0.0018 - accuracy: 0.9995\n",
            "Epoch 46/50\n",
            "1875/1875 [==============================] - 29s 15ms/step - loss: 0.0023 - accuracy: 0.9995\n",
            "Epoch 47/50\n",
            "1875/1875 [==============================] - 29s 15ms/step - loss: 0.0022 - accuracy: 0.9994\n",
            "Epoch 48/50\n",
            "1875/1875 [==============================] - 29s 15ms/step - loss: 0.0016 - accuracy: 0.9997\n",
            "Epoch 49/50\n",
            "1875/1875 [==============================] - 29s 15ms/step - loss: 0.0035 - accuracy: 0.9991\n",
            "Epoch 50/50\n",
            "1875/1875 [==============================] - 29s 15ms/step - loss: 0.0017 - accuracy: 0.9997\n"
          ],
          "name": "stdout"
        },
        {
          "output_type": "execute_result",
          "data": {
            "text/plain": [
              "<tensorflow.python.keras.callbacks.History at 0x7f4d73157ef0>"
            ]
          },
          "metadata": {
            "tags": []
          },
          "execution_count": 24
        }
      ]
    },
    {
      "cell_type": "code",
      "metadata": {
        "id": "NGUDyP6tedTL",
        "colab": {
          "base_uri": "https://localhost:8080/",
          "height": 51
        },
        "outputId": "3e00258f-8b42-455d-b22d-153174023851"
      },
      "source": [
        "model.evaluate(x_test,y_test)"
      ],
      "execution_count": null,
      "outputs": [
        {
          "output_type": "stream",
          "text": [
            "313/313 [==============================] - 2s 6ms/step - loss: 0.1467 - accuracy: 0.9812\n"
          ],
          "name": "stdout"
        },
        {
          "output_type": "execute_result",
          "data": {
            "text/plain": [
              "[0.14674825966358185, 0.9811999797821045]"
            ]
          },
          "metadata": {
            "tags": []
          },
          "execution_count": 26
        }
      ]
    },
    {
      "cell_type": "code",
      "metadata": {
        "id": "cWNGeqXciT3J"
      },
      "source": [
        "y_test=tf.keras.utils.to_categorical(ytest)"
      ],
      "execution_count": null,
      "outputs": []
    },
    {
      "cell_type": "code",
      "metadata": {
        "id": "R-hDPKZeijIB",
        "colab": {
          "base_uri": "https://localhost:8080/",
          "height": 146
        },
        "outputId": "84e8c809-e129-463e-8b2f-6643796c4a12"
      },
      "source": [
        "y_test"
      ],
      "execution_count": null,
      "outputs": [
        {
          "output_type": "execute_result",
          "data": {
            "text/plain": [
              "array([[0., 0., 0., ..., 1., 0., 0.],\n",
              "       [0., 0., 1., ..., 0., 0., 0.],\n",
              "       [0., 1., 0., ..., 0., 0., 0.],\n",
              "       ...,\n",
              "       [0., 0., 0., ..., 0., 0., 0.],\n",
              "       [0., 0., 0., ..., 0., 0., 0.],\n",
              "       [0., 0., 0., ..., 0., 0., 0.]], dtype=float32)"
            ]
          },
          "metadata": {
            "tags": []
          },
          "execution_count": 88
        }
      ]
    },
    {
      "cell_type": "code",
      "metadata": {
        "id": "FES67tXQilVH"
      },
      "source": [
        "yp=model.predict(x_test).argmax(axis=1)"
      ],
      "execution_count": null,
      "outputs": []
    },
    {
      "cell_type": "code",
      "metadata": {
        "id": "BcA96QCviyG6",
        "colab": {
          "base_uri": "https://localhost:8080/",
          "height": 34
        },
        "outputId": "db816c57-5ed4-4a25-fecf-5bb5a9fe47c2"
      },
      "source": [
        "yp"
      ],
      "execution_count": null,
      "outputs": [
        {
          "output_type": "execute_result",
          "data": {
            "text/plain": [
              "array([7, 2, 1, ..., 4, 5, 6])"
            ]
          },
          "metadata": {
            "tags": []
          },
          "execution_count": 28
        }
      ]
    },
    {
      "cell_type": "code",
      "metadata": {
        "id": "Rm2J0dbVi5Te",
        "colab": {
          "base_uri": "https://localhost:8080/",
          "height": 34
        },
        "outputId": "0ee49ffe-6cc0-45a3-fff3-cae5234a8b7a"
      },
      "source": [
        "ytest"
      ],
      "execution_count": null,
      "outputs": [
        {
          "output_type": "execute_result",
          "data": {
            "text/plain": [
              "array([7, 2, 1, ..., 4, 5, 6], dtype=uint8)"
            ]
          },
          "metadata": {
            "tags": []
          },
          "execution_count": 29
        }
      ]
    },
    {
      "cell_type": "code",
      "metadata": {
        "id": "edVO8AVri_OG",
        "colab": {
          "base_uri": "https://localhost:8080/",
          "height": 34
        },
        "outputId": "47f2dbac-2c12-414c-d8e8-8cd8024e3d99"
      },
      "source": [
        "sum(yp==ytest)"
      ],
      "execution_count": null,
      "outputs": [
        {
          "output_type": "execute_result",
          "data": {
            "text/plain": [
              "9812"
            ]
          },
          "metadata": {
            "tags": []
          },
          "execution_count": 30
        }
      ]
    },
    {
      "cell_type": "code",
      "metadata": {
        "id": "nZ_IRRymjJP1"
      },
      "source": [
        "import cv2"
      ],
      "execution_count": null,
      "outputs": []
    },
    {
      "cell_type": "code",
      "metadata": {
        "id": "W2FMe7V-jqOY"
      },
      "source": [
        "img=cv2.imread(\"/content/77.jpg\")"
      ],
      "execution_count": null,
      "outputs": []
    },
    {
      "cell_type": "code",
      "metadata": {
        "id": "8XdM2O0YllWN",
        "colab": {
          "base_uri": "https://localhost:8080/",
          "height": 35
        },
        "outputId": "606076d1-7e36-40e5-bca1-034a6803e2a1"
      },
      "source": [
        "img.shape"
      ],
      "execution_count": null,
      "outputs": [
        {
          "output_type": "execute_result",
          "data": {
            "text/plain": [
              "(177, 225, 3)"
            ]
          },
          "metadata": {
            "tags": []
          },
          "execution_count": 146
        }
      ]
    },
    {
      "cell_type": "code",
      "metadata": {
        "id": "YwLGnOufloWQ",
        "colab": {
          "base_uri": "https://localhost:8080/",
          "height": 287
        },
        "outputId": "d3a53027-78a0-4446-b00a-107b05616984"
      },
      "source": [
        "plt.imshow(img)"
      ],
      "execution_count": null,
      "outputs": [
        {
          "output_type": "execute_result",
          "data": {
            "text/plain": [
              "<matplotlib.image.AxesImage at 0x7f5383a847b8>"
            ]
          },
          "metadata": {
            "tags": []
          },
          "execution_count": 166
        },
        {
          "output_type": "display_data",
          "data": {
            "image/png": "[encoded data removed]",
            "text/plain": [
              "<Figure size 432x288 with 1 Axes>"
            ]
          },
          "metadata": {
            "tags": [],
            "needs_background": "light"
          }
        }
      ]
    },
    {
      "cell_type": "code",
      "metadata": {
        "id": "VvzgiBZzl1zO"
      },
      "source": [
        "img=cv2.cvtColor(img,cv2.COLOR_BGR2GRAY)"
      ],
      "execution_count": null,
      "outputs": []
    },
    {
      "cell_type": "code",
      "metadata": {
        "id": "8_hYhdQgmtls",
        "colab": {
          "base_uri": "https://localhost:8080/",
          "height": 35
        },
        "outputId": "d02f9987-7ccd-475c-dee2-96f2d2c1a183"
      },
      "source": [
        "img.shape"
      ],
      "execution_count": null,
      "outputs": [
        {
          "output_type": "execute_result",
          "data": {
            "text/plain": [
              "(177, 225)"
            ]
          },
          "metadata": {
            "tags": []
          },
          "execution_count": 149
        }
      ]
    },
    {
      "cell_type": "code",
      "metadata": {
        "id": "X5Ec1scxmwp9"
      },
      "source": [
        "img=cv2.resize(img,(28,28))"
      ],
      "execution_count": null,
      "outputs": []
    },
    {
      "cell_type": "code",
      "metadata": {
        "id": "r1C7Wlgpm9WB",
        "colab": {
          "base_uri": "https://localhost:8080/",
          "height": 35
        },
        "outputId": "83740b20-7188-425a-b5e0-1d6950160bd3"
      },
      "source": [
        "img.shape"
      ],
      "execution_count": null,
      "outputs": [
        {
          "output_type": "execute_result",
          "data": {
            "text/plain": [
              "(28, 28)"
            ]
          },
          "metadata": {
            "tags": []
          },
          "execution_count": 151
        }
      ]
    },
    {
      "cell_type": "code",
      "metadata": {
        "id": "AzTHiNBlm-TV",
        "colab": {
          "base_uri": "https://localhost:8080/",
          "height": 35
        },
        "outputId": "adf74b04-77f1-4844-d5bc-5dbcc3fbcf8d"
      },
      "source": [
        "model.predict(img.reshape(1,784)).argmax()"
      ],
      "execution_count": null,
      "outputs": [
        {
          "output_type": "execute_result",
          "data": {
            "text/plain": [
              "7"
            ]
          },
          "metadata": {
            "tags": []
          },
          "execution_count": 170
        }
      ]
    },
    {
      "cell_type": "code",
      "metadata": {
        "id": "4cMLA4yPnPZx"
      },
      "source": [
        "image=[\"/content/0.jpg\",\"/content/1.jpg\",\"/content/2.jpg\",\"/content/3.jpg\",\"/content/4.jpg\",\"/content/5.jpg\",\"/content/6.jpg\",\"/content/77.jpg\",\"/content/8.jpg\",\"/content/9.jpg\"]"
      ],
      "execution_count": null,
      "outputs": []
    },
    {
      "cell_type": "code",
      "metadata": {
        "id": "D9JdjyK4n7Zb"
      },
      "source": [
        "predict=[]\n",
        "for img in image:\n",
        "  im=cv2.imread(img)\n",
        "  im=cv2.cvtColor(im,cv2.COLOR_BGR2GRAY)\n",
        "  im=cv2.resize(im,(28,28))\n",
        "  pr=model.predict(im.reshape(1,28,28,1)).argmax()\n",
        "  predict.append(pr)"
      ],
      "execution_count": null,
      "outputs": []
    },
    {
      "cell_type": "code",
      "metadata": {
        "id": "yDvYmER6ocbo",
        "colab": {
          "base_uri": "https://localhost:8080/",
          "height": 34
        },
        "outputId": "7a926681-feea-4d80-be53-3c96de24c9f8"
      },
      "source": [
        "predict"
      ],
      "execution_count": null,
      "outputs": [
        {
          "output_type": "execute_result",
          "data": {
            "text/plain": [
              "[0, 0, 2, 3, 5, 5, 8, 7, 3, 8]"
            ]
          },
          "metadata": {
            "tags": []
          },
          "execution_count": 35
        }
      ]
    },
    {
      "cell_type": "code",
      "metadata": {
        "id": "c2XwGY_bohNQ"
      },
      "source": [
        "def predict_image(filename):\n",
        "  img=cv2.imread(filename)\n",
        "  img=cv2.cvtColor(img,cv2.COLOR_BGR2GRAY)\n",
        "  img=cv2.resize(img,(28,28))\n",
        "\n",
        "  return model.predict(img.reshape(1,28,28,1)).argmax()"
      ],
      "execution_count": null,
      "outputs": []
    },
    {
      "cell_type": "code",
      "metadata": {
        "id": "S0cW4g8nr3ii",
        "colab": {
          "base_uri": "https://localhost:8080/",
          "height": 187
        },
        "outputId": "849fc33c-e0a4-429f-ae85-7fafb5cf4d06"
      },
      "source": [
        "for name in image:\n",
        "  val=predict_image(name)\n",
        "  print(val)"
      ],
      "execution_count": null,
      "outputs": [
        {
          "output_type": "stream",
          "text": [
            "0\n",
            "0\n",
            "2\n",
            "3\n",
            "5\n",
            "5\n",
            "8\n",
            "7\n",
            "3\n",
            "8\n"
          ],
          "name": "stdout"
        }
      ]
    },
    {
      "cell_type": "code",
      "metadata": {
        "id": "em9hqYd0sDih"
      },
      "source": [
        "model_json=model.to_json()"
      ],
      "execution_count": null,
      "outputs": []
    },
    {
      "cell_type": "code",
      "metadata": {
        "id": "SVd7YQ5iwSvL"
      },
      "source": [
        "file=open(\"file.json\",\"w\")"
      ],
      "execution_count": null,
      "outputs": []
    },
    {
      "cell_type": "code",
      "metadata": {
        "id": "WxcWXZUhwbXJ",
        "colab": {
          "base_uri": "https://localhost:8080/",
          "height": 35
        },
        "outputId": "6901f318-9bc7-4028-9e13-8e13e636ca77"
      },
      "source": [
        "file.write(model_json)"
      ],
      "execution_count": null,
      "outputs": [
        {
          "output_type": "execute_result",
          "data": {
            "text/plain": [
              "2056"
            ]
          },
          "metadata": {
            "tags": []
          },
          "execution_count": 175
        }
      ]
    },
    {
      "cell_type": "code",
      "metadata": {
        "id": "VgrbNqm_wiGH"
      },
      "source": [
        "model.save_weights(\"model_weight.h5\")"
      ],
      "execution_count": null,
      "outputs": []
    },
    {
      "cell_type": "code",
      "metadata": {
        "id": "djWYIsPrwt_Q"
      },
      "source": [
        "from tensorflow.keras.models import model_from_json"
      ],
      "execution_count": null,
      "outputs": []
    },
    {
      "cell_type": "code",
      "metadata": {
        "id": "Yyq-CiYxyJUX"
      },
      "source": [
        "file=open(\"file.json\",\"r\")"
      ],
      "execution_count": null,
      "outputs": []
    },
    {
      "cell_type": "code",
      "metadata": {
        "id": "8yX6bqk0yOdh"
      },
      "source": [
        "model1=file.read()"
      ],
      "execution_count": null,
      "outputs": []
    },
    {
      "cell_type": "code",
      "metadata": {
        "id": "O-CouOgXyUuM"
      },
      "source": [
        "load_model=model_from_json(model1)"
      ],
      "execution_count": null,
      "outputs": []
    },
    {
      "cell_type": "code",
      "metadata": {
        "id": "TY7kcU0rye7T"
      },
      "source": [
        "load_model.load_weights(\"model_weight.h5\")"
      ],
      "execution_count": null,
      "outputs": []
    },
    {
      "cell_type": "code",
      "metadata": {
        "id": "ZyLhSpznynOZ",
        "colab": {
          "base_uri": "https://localhost:8080/",
          "height": 35
        },
        "outputId": "86f0da08-c429-4f23-beba-bdca737ef864"
      },
      "source": [
        "load_model.predict(x_test[0].reshape(1,784)).argmax()"
      ],
      "execution_count": null,
      "outputs": [
        {
          "output_type": "execute_result",
          "data": {
            "text/plain": [
              "7"
            ]
          },
          "metadata": {
            "tags": []
          },
          "execution_count": 182
        }
      ]
    },
    {
      "cell_type": "code",
      "metadata": {
        "id": "JfjnM-2ty33j"
      },
      "source": [],
      "execution_count": null,
      "outputs": []
    }
  ]
}