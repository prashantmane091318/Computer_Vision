{
  "nbformat": 4,
  "nbformat_minor": 0,
  "metadata": {
    "colab": {
      "provenance": [],
      "authorship_tag": "ABX9TyMH0xUQMGpBbrI5XQHOFaVO",
      "include_colab_link": true
    },
    "kernelspec": {
      "name": "python3",
      "display_name": "Python 3"
    }
  },
  "cells": [
    {
      "cell_type": "markdown",
      "metadata": {
        "id": "view-in-github",
        "colab_type": "text"
      },
      "source": [
        "<a href=\"https://colab.research.google.com/github/prashantmane091318/Computer_Vision/blob/main/deep_learning_1.ipynb\" target=\"_parent\"><img src=\"https://colab.research.google.com/assets/colab-badge.svg\" alt=\"Open In Colab\"/></a>"
      ]
    },
    {
      "cell_type": "code",
      "metadata": {
        "id": "Y_z58lJo3jeT"
      },
      "source": [
        "import numpy as np"
      ],
      "execution_count": null,
      "outputs": []
    },
    {
      "cell_type": "code",
      "metadata": {
        "id": "hycIf75M_7Ej"
      },
      "source": [
        "xs=np.array([-1.0,0.0,2.0,3.0,4.0,5.0,1.0])"
      ],
      "execution_count": null,
      "outputs": []
    },
    {
      "cell_type": "code",
      "metadata": {
        "id": "kZgGUzEAAFex"
      },
      "source": [
        "ys=np.array([-3.0,-1.0,3.0,5.0,7.0,9.0,1.0])"
      ],
      "execution_count": null,
      "outputs": []
    },
    {
      "cell_type": "code",
      "metadata": {
        "id": "LmiAdZIsAStB",
        "colab": {
          "base_uri": "https://localhost:8080/",
          "height": 34
        },
        "outputId": "e9b7c40e-5736-4077-8a0e-25cb28a3cf9a"
      },
      "source": [
        "ys"
      ],
      "execution_count": null,
      "outputs": [
        {
          "output_type": "execute_result",
          "data": {
            "text/plain": [
              "array([ 1., -1.,  3.,  5.,  7.,  9.,  1.])"
            ]
          },
          "metadata": {
            "tags": []
          },
          "execution_count": 4
        }
      ]
    },
    {
      "cell_type": "code",
      "metadata": {
        "id": "jU0okA7HATl1"
      },
      "source": [
        "import tensorflow as tf"
      ],
      "execution_count": null,
      "outputs": []
    },
    {
      "cell_type": "code",
      "metadata": {
        "id": "XHtE-qC5AaR_"
      },
      "source": [
        "from tensorflow.keras.layers import Dense"
      ],
      "execution_count": null,
      "outputs": []
    },
    {
      "cell_type": "code",
      "metadata": {
        "id": "Sr78zqmAAivx"
      },
      "source": [
        "model=tf.keras.models.Sequential()"
      ],
      "execution_count": null,
      "outputs": []
    },
    {
      "cell_type": "code",
      "metadata": {
        "id": "dbsxJNsoAokP"
      },
      "source": [
        "model.add(Dense(1,input_shape=(1,)))"
      ],
      "execution_count": null,
      "outputs": []
    },
    {
      "cell_type": "code",
      "metadata": {
        "id": "6wM8j_hjAxvg"
      },
      "source": [
        "model.compile(optimizer=\"sgd\",loss=\"mean_squared_error\",metrics=[\"accuracy\"])"
      ],
      "execution_count": null,
      "outputs": []
    },
    {
      "cell_type": "code",
      "metadata": {
        "id": "o6byePXHA9xH",
        "colab": {
          "base_uri": "https://localhost:8080/",
          "height": 1000
        },
        "outputId": "2d360ade-d863-4eba-d419-7b130a2cfdea"
      },
      "source": [
        "model.fit(xs,ys,epochs=100)"
      ],
      "execution_count": null,
      "outputs": [
        {
          "output_type": "stream",
          "text": [
            "Epoch 1/100\n",
            "1/1 [==============================] - 0s 2ms/step - loss: 6.5738 - accuracy: 0.1429\n",
            "Epoch 2/100\n",
            "1/1 [==============================] - 0s 2ms/step - loss: 4.7384 - accuracy: 0.1429\n",
            "Epoch 3/100\n",
            "1/1 [==============================] - 0s 4ms/step - loss: 3.4718 - accuracy: 0.1429\n",
            "Epoch 4/100\n",
            "1/1 [==============================] - 0s 2ms/step - loss: 2.5966 - accuracy: 0.1429\n",
            "Epoch 5/100\n",
            "1/1 [==============================] - 0s 2ms/step - loss: 1.9907 - accuracy: 0.1429\n",
            "Epoch 6/100\n",
            "1/1 [==============================] - 0s 3ms/step - loss: 1.5701 - accuracy: 0.1429\n",
            "Epoch 7/100\n",
            "1/1 [==============================] - 0s 2ms/step - loss: 1.2770 - accuracy: 0.1429\n",
            "Epoch 8/100\n",
            "1/1 [==============================] - 0s 2ms/step - loss: 1.0718 - accuracy: 0.1429\n",
            "Epoch 9/100\n",
            "1/1 [==============================] - 0s 2ms/step - loss: 0.9270 - accuracy: 0.1429\n",
            "Epoch 10/100\n",
            "1/1 [==============================] - 0s 1ms/step - loss: 0.8238 - accuracy: 0.1429\n",
            "Epoch 11/100\n",
            "1/1 [==============================] - 0s 2ms/step - loss: 0.7494 - accuracy: 0.1429\n",
            "Epoch 12/100\n",
            "1/1 [==============================] - 0s 3ms/step - loss: 0.6948 - accuracy: 0.1429\n",
            "Epoch 13/100\n",
            "1/1 [==============================] - 0s 3ms/step - loss: 0.6539 - accuracy: 0.1429\n",
            "Epoch 14/100\n",
            "1/1 [==============================] - 0s 3ms/step - loss: 0.6224 - accuracy: 0.1429\n",
            "Epoch 15/100\n",
            "1/1 [==============================] - 0s 2ms/step - loss: 0.5976 - accuracy: 0.1429\n",
            "Epoch 16/100\n",
            "1/1 [==============================] - 0s 2ms/step - loss: 0.5774 - accuracy: 0.1429\n",
            "Epoch 17/100\n",
            "1/1 [==============================] - 0s 2ms/step - loss: 0.5603 - accuracy: 0.1429\n",
            "Epoch 18/100\n",
            "1/1 [==============================] - 0s 2ms/step - loss: 0.5456 - accuracy: 0.1429\n",
            "Epoch 19/100\n",
            "1/1 [==============================] - 0s 3ms/step - loss: 0.5324 - accuracy: 0.1429\n",
            "Epoch 20/100\n",
            "1/1 [==============================] - 0s 3ms/step - loss: 0.5204 - accuracy: 0.1429\n",
            "Epoch 21/100\n",
            "1/1 [==============================] - 0s 1ms/step - loss: 0.5093 - accuracy: 0.1429\n",
            "Epoch 22/100\n",
            "1/1 [==============================] - 0s 3ms/step - loss: 0.4989 - accuracy: 0.1429\n",
            "Epoch 23/100\n",
            "1/1 [==============================] - 0s 3ms/step - loss: 0.4889 - accuracy: 0.1429\n",
            "Epoch 24/100\n",
            "1/1 [==============================] - 0s 3ms/step - loss: 0.4793 - accuracy: 0.1429\n",
            "Epoch 25/100\n",
            "1/1 [==============================] - 0s 2ms/step - loss: 0.4700 - accuracy: 0.1429\n",
            "Epoch 26/100\n",
            "1/1 [==============================] - 0s 3ms/step - loss: 0.4611 - accuracy: 0.1429\n",
            "Epoch 27/100\n",
            "1/1 [==============================] - 0s 2ms/step - loss: 0.4523 - accuracy: 0.1429\n",
            "Epoch 28/100\n",
            "1/1 [==============================] - 0s 2ms/step - loss: 0.4438 - accuracy: 0.1429\n",
            "Epoch 29/100\n",
            "1/1 [==============================] - 0s 2ms/step - loss: 0.4354 - accuracy: 0.1429\n",
            "Epoch 30/100\n",
            "1/1 [==============================] - 0s 3ms/step - loss: 0.4272 - accuracy: 0.1429\n",
            "Epoch 31/100\n",
            "1/1 [==============================] - 0s 3ms/step - loss: 0.4192 - accuracy: 0.1429\n",
            "Epoch 32/100\n",
            "1/1 [==============================] - 0s 2ms/step - loss: 0.4114 - accuracy: 0.1429\n",
            "Epoch 33/100\n",
            "1/1 [==============================] - 0s 4ms/step - loss: 0.4037 - accuracy: 0.1429\n",
            "Epoch 34/100\n",
            "1/1 [==============================] - 0s 2ms/step - loss: 0.3961 - accuracy: 0.1429\n",
            "Epoch 35/100\n",
            "1/1 [==============================] - 0s 2ms/step - loss: 0.3887 - accuracy: 0.1429\n",
            "Epoch 36/100\n",
            "1/1 [==============================] - 0s 3ms/step - loss: 0.3815 - accuracy: 0.1429\n",
            "Epoch 37/100\n",
            "1/1 [==============================] - 0s 2ms/step - loss: 0.3743 - accuracy: 0.1429\n",
            "Epoch 38/100\n",
            "1/1 [==============================] - 0s 3ms/step - loss: 0.3673 - accuracy: 0.1429\n",
            "Epoch 39/100\n",
            "1/1 [==============================] - 0s 2ms/step - loss: 0.3605 - accuracy: 0.1429\n",
            "Epoch 40/100\n",
            "1/1 [==============================] - 0s 3ms/step - loss: 0.3538 - accuracy: 0.1429\n",
            "Epoch 41/100\n",
            "1/1 [==============================] - 0s 4ms/step - loss: 0.3472 - accuracy: 0.1429\n",
            "Epoch 42/100\n",
            "1/1 [==============================] - 0s 3ms/step - loss: 0.3407 - accuracy: 0.1429\n",
            "Epoch 43/100\n",
            "1/1 [==============================] - 0s 3ms/step - loss: 0.3343 - accuracy: 0.1429\n",
            "Epoch 44/100\n",
            "1/1 [==============================] - 0s 3ms/step - loss: 0.3281 - accuracy: 0.1429\n",
            "Epoch 45/100\n",
            "1/1 [==============================] - 0s 3ms/step - loss: 0.3219 - accuracy: 0.1429\n",
            "Epoch 46/100\n",
            "1/1 [==============================] - 0s 2ms/step - loss: 0.3159 - accuracy: 0.1429\n",
            "Epoch 47/100\n",
            "1/1 [==============================] - 0s 2ms/step - loss: 0.3100 - accuracy: 0.1429\n",
            "Epoch 48/100\n",
            "1/1 [==============================] - 0s 3ms/step - loss: 0.3043 - accuracy: 0.1429\n",
            "Epoch 49/100\n",
            "1/1 [==============================] - 0s 3ms/step - loss: 0.2986 - accuracy: 0.1429\n",
            "Epoch 50/100\n",
            "1/1 [==============================] - 0s 2ms/step - loss: 0.2930 - accuracy: 0.1429\n",
            "Epoch 51/100\n",
            "1/1 [==============================] - 0s 3ms/step - loss: 0.2875 - accuracy: 0.1429\n",
            "Epoch 52/100\n",
            "1/1 [==============================] - 0s 3ms/step - loss: 0.2822 - accuracy: 0.1429\n",
            "Epoch 53/100\n",
            "1/1 [==============================] - 0s 3ms/step - loss: 0.2769 - accuracy: 0.1429\n",
            "Epoch 54/100\n",
            "1/1 [==============================] - 0s 2ms/step - loss: 0.2717 - accuracy: 0.1429\n",
            "Epoch 55/100\n",
            "1/1 [==============================] - 0s 3ms/step - loss: 0.2667 - accuracy: 0.1429\n",
            "Epoch 56/100\n",
            "1/1 [==============================] - 0s 3ms/step - loss: 0.2617 - accuracy: 0.1429\n",
            "Epoch 57/100\n",
            "1/1 [==============================] - 0s 3ms/step - loss: 0.2568 - accuracy: 0.1429\n",
            "Epoch 58/100\n",
            "1/1 [==============================] - 0s 2ms/step - loss: 0.2520 - accuracy: 0.1429\n",
            "Epoch 59/100\n",
            "1/1 [==============================] - 0s 4ms/step - loss: 0.2473 - accuracy: 0.1429\n",
            "Epoch 60/100\n",
            "1/1 [==============================] - 0s 3ms/step - loss: 0.2427 - accuracy: 0.1429\n",
            "Epoch 61/100\n",
            "1/1 [==============================] - 0s 5ms/step - loss: 0.2381 - accuracy: 0.1429\n",
            "Epoch 62/100\n",
            "1/1 [==============================] - 0s 4ms/step - loss: 0.2337 - accuracy: 0.1429\n",
            "Epoch 63/100\n",
            "1/1 [==============================] - 0s 2ms/step - loss: 0.2293 - accuracy: 0.1429\n",
            "Epoch 64/100\n",
            "1/1 [==============================] - 0s 3ms/step - loss: 0.2251 - accuracy: 0.1429\n",
            "Epoch 65/100\n",
            "1/1 [==============================] - 0s 4ms/step - loss: 0.2209 - accuracy: 0.1429\n",
            "Epoch 66/100\n",
            "1/1 [==============================] - 0s 4ms/step - loss: 0.2167 - accuracy: 0.1429\n",
            "Epoch 67/100\n",
            "1/1 [==============================] - 0s 3ms/step - loss: 0.2127 - accuracy: 0.1429\n",
            "Epoch 68/100\n",
            "1/1 [==============================] - 0s 13ms/step - loss: 0.2087 - accuracy: 0.1429\n",
            "Epoch 69/100\n",
            "1/1 [==============================] - 0s 5ms/step - loss: 0.2048 - accuracy: 0.1429\n",
            "Epoch 70/100\n",
            "1/1 [==============================] - 0s 3ms/step - loss: 0.2010 - accuracy: 0.1429\n",
            "Epoch 71/100\n",
            "1/1 [==============================] - 0s 3ms/step - loss: 0.1972 - accuracy: 0.1429\n",
            "Epoch 72/100\n",
            "1/1 [==============================] - 0s 4ms/step - loss: 0.1936 - accuracy: 0.1429\n",
            "Epoch 73/100\n",
            "1/1 [==============================] - 0s 2ms/step - loss: 0.1900 - accuracy: 0.1429\n",
            "Epoch 74/100\n",
            "1/1 [==============================] - 0s 2ms/step - loss: 0.1864 - accuracy: 0.1429\n",
            "Epoch 75/100\n",
            "1/1 [==============================] - 0s 3ms/step - loss: 0.1829 - accuracy: 0.1429\n",
            "Epoch 76/100\n",
            "1/1 [==============================] - 0s 4ms/step - loss: 0.1795 - accuracy: 0.1429\n",
            "Epoch 77/100\n",
            "1/1 [==============================] - 0s 2ms/step - loss: 0.1762 - accuracy: 0.1429\n",
            "Epoch 78/100\n",
            "1/1 [==============================] - 0s 2ms/step - loss: 0.1729 - accuracy: 0.1429\n",
            "Epoch 79/100\n",
            "1/1 [==============================] - 0s 2ms/step - loss: 0.1696 - accuracy: 0.1429\n",
            "Epoch 80/100\n",
            "1/1 [==============================] - 0s 3ms/step - loss: 0.1665 - accuracy: 0.1429\n",
            "Epoch 81/100\n",
            "1/1 [==============================] - 0s 2ms/step - loss: 0.1634 - accuracy: 0.1429\n",
            "Epoch 82/100\n",
            "1/1 [==============================] - 0s 3ms/step - loss: 0.1603 - accuracy: 0.1429\n",
            "Epoch 83/100\n",
            "1/1 [==============================] - 0s 3ms/step - loss: 0.1573 - accuracy: 0.1429\n",
            "Epoch 84/100\n",
            "1/1 [==============================] - 0s 3ms/step - loss: 0.1544 - accuracy: 0.1429\n",
            "Epoch 85/100\n",
            "1/1 [==============================] - 0s 3ms/step - loss: 0.1515 - accuracy: 0.1429\n",
            "Epoch 86/100\n",
            "1/1 [==============================] - 0s 3ms/step - loss: 0.1487 - accuracy: 0.1429\n",
            "Epoch 87/100\n",
            "1/1 [==============================] - 0s 5ms/step - loss: 0.1459 - accuracy: 0.1429\n",
            "Epoch 88/100\n",
            "1/1 [==============================] - 0s 3ms/step - loss: 0.1432 - accuracy: 0.1429\n",
            "Epoch 89/100\n",
            "1/1 [==============================] - 0s 3ms/step - loss: 0.1405 - accuracy: 0.1429\n",
            "Epoch 90/100\n",
            "1/1 [==============================] - 0s 3ms/step - loss: 0.1379 - accuracy: 0.1429\n",
            "Epoch 91/100\n",
            "1/1 [==============================] - 0s 2ms/step - loss: 0.1353 - accuracy: 0.1429\n",
            "Epoch 92/100\n",
            "1/1 [==============================] - 0s 3ms/step - loss: 0.1328 - accuracy: 0.1429\n",
            "Epoch 93/100\n",
            "1/1 [==============================] - 0s 3ms/step - loss: 0.1303 - accuracy: 0.1429\n",
            "Epoch 94/100\n",
            "1/1 [==============================] - 0s 3ms/step - loss: 0.1279 - accuracy: 0.1429\n",
            "Epoch 95/100\n",
            "1/1 [==============================] - 0s 3ms/step - loss: 0.1255 - accuracy: 0.1429\n",
            "Epoch 96/100\n",
            "1/1 [==============================] - 0s 4ms/step - loss: 0.1231 - accuracy: 0.1429\n",
            "Epoch 97/100\n",
            "1/1 [==============================] - 0s 3ms/step - loss: 0.1208 - accuracy: 0.1429\n",
            "Epoch 98/100\n",
            "1/1 [==============================] - 0s 2ms/step - loss: 0.1186 - accuracy: 0.1429\n",
            "Epoch 99/100\n",
            "1/1 [==============================] - 0s 2ms/step - loss: 0.1164 - accuracy: 0.1429\n",
            "Epoch 100/100\n",
            "1/1 [==============================] - 0s 2ms/step - loss: 0.1142 - accuracy: 0.1429\n"
          ],
          "name": "stdout"
        },
        {
          "output_type": "execute_result",
          "data": {
            "text/plain": [
              "<tensorflow.python.keras.callbacks.History at 0x7fa04b4f37f0>"
            ]
          },
          "metadata": {
            "tags": []
          },
          "execution_count": 30
        }
      ]
    },
    {
      "cell_type": "code",
      "metadata": {
        "id": "f5iTmq9YBBz7",
        "colab": {
          "base_uri": "https://localhost:8080/",
          "height": 34
        },
        "outputId": "005a748a-6c71-4525-a5b7-4e12f4163e41"
      },
      "source": [
        "model.predict([10.0])"
      ],
      "execution_count": null,
      "outputs": [
        {
          "output_type": "execute_result",
          "data": {
            "text/plain": [
              "array([[18.217659]], dtype=float32)"
            ]
          },
          "metadata": {
            "tags": []
          },
          "execution_count": 32
        }
      ]
    },
    {
      "cell_type": "code",
      "metadata": {
        "id": "fLcOyLcaBbZJ"
      },
      "source": [
        "w=np.random.rand(7,1)"
      ],
      "execution_count": null,
      "outputs": []
    },
    {
      "cell_type": "code",
      "metadata": {
        "id": "rNliTxq5De81",
        "colab": {
          "base_uri": "https://localhost:8080/",
          "height": 136
        },
        "outputId": "75f71b3c-652e-4bc9-fbd8-21aeb61fee9f"
      },
      "source": [
        "w"
      ],
      "execution_count": null,
      "outputs": [
        {
          "output_type": "execute_result",
          "data": {
            "text/plain": [
              "array([[0.79629289],\n",
              "       [0.21357574],\n",
              "       [0.77817553],\n",
              "       [0.64968284],\n",
              "       [0.99658824],\n",
              "       [0.96915385],\n",
              "       [0.90691139]])"
            ]
          },
          "metadata": {
            "tags": []
          },
          "execution_count": 41
        }
      ]
    },
    {
      "cell_type": "code",
      "metadata": {
        "id": "fbjdlZOTE-eZ"
      },
      "source": [
        "xs=xs.reshape(1,7)"
      ],
      "execution_count": null,
      "outputs": []
    },
    {
      "cell_type": "code",
      "metadata": {
        "id": "jau9i_F4DfsB"
      },
      "source": [
        "for i in range(100):\n",
        "  result=np.dot(xs,w)\n",
        "  error=ys-result\n",
        "  dw=np.dot(xs.T,error*0.0001)\n",
        "  w=w-dw\n"
      ],
      "execution_count": null,
      "outputs": []
    },
    {
      "cell_type": "code",
      "metadata": {
        "id": "CuYNkbR5D7S9",
        "colab": {
          "base_uri": "https://localhost:8080/",
          "height": 68
        },
        "outputId": "5073200b-7ca5-41e4-812a-9507a1f706a2"
      },
      "source": [
        "result"
      ],
      "execution_count": null,
      "outputs": [
        {
          "output_type": "execute_result",
          "data": {
            "text/plain": [
              "array([[1.92006692e+278, 1.67148465e+278, 1.17432010e+278,\n",
              "        9.25737825e+277, 6.77155552e+277, 4.28573278e+277,\n",
              "        1.42290237e+278]])"
            ]
          },
          "metadata": {
            "tags": []
          },
          "execution_count": 51
        }
      ]
    },
    {
      "cell_type": "code",
      "metadata": {
        "id": "Y-x_JR6_EBPQ"
      },
      "source": [
        "fashion_dataset=tf.keras.datasets.fashion_mnist"
      ],
      "execution_count": null,
      "outputs": []
    },
    {
      "cell_type": "code",
      "metadata": {
        "id": "B6bZ97TfXB9r",
        "colab": {
          "base_uri": "https://localhost:8080/",
          "height": 153
        },
        "outputId": "6de5baf8-1491-48ea-8376-b20c5b8d4b69"
      },
      "source": [
        "(xtrain,ytrain),(xtest,ytest)=fashion_dataset.load_data()"
      ],
      "execution_count": null,
      "outputs": [
        {
          "output_type": "stream",
          "text": [
            "Downloading data from https://storage.googleapis.com/tensorflow/tf-keras-datasets/train-labels-idx1-ubyte.gz\n",
            "32768/29515 [=================================] - 0s 0us/step\n",
            "Downloading data from https://storage.googleapis.com/tensorflow/tf-keras-datasets/train-images-idx3-ubyte.gz\n",
            "26427392/26421880 [==============================] - 1s 0us/step\n",
            "Downloading data from https://storage.googleapis.com/tensorflow/tf-keras-datasets/t10k-labels-idx1-ubyte.gz\n",
            "8192/5148 [===============================================] - 0s 0us/step\n",
            "Downloading data from https://storage.googleapis.com/tensorflow/tf-keras-datasets/t10k-images-idx3-ubyte.gz\n",
            "4423680/4422102 [==============================] - 0s 0us/step\n"
          ],
          "name": "stdout"
        }
      ]
    },
    {
      "cell_type": "code",
      "metadata": {
        "id": "WgnBrjzrXKQ_",
        "colab": {
          "base_uri": "https://localhost:8080/",
          "height": 34
        },
        "outputId": "f46c07e9-8c5a-4367-b04e-4da1e6d1b51c"
      },
      "source": [
        "xtrain.shape,ytrain.shape"
      ],
      "execution_count": null,
      "outputs": [
        {
          "output_type": "execute_result",
          "data": {
            "text/plain": [
              "((60000, 28, 28), (60000,))"
            ]
          },
          "metadata": {
            "tags": []
          },
          "execution_count": 56
        }
      ]
    },
    {
      "cell_type": "code",
      "metadata": {
        "id": "IL_PnHBhXO6n",
        "colab": {
          "base_uri": "https://localhost:8080/",
          "height": 34
        },
        "outputId": "61350103-72c1-443b-8f82-acebf125bc47"
      },
      "source": [
        "xtrain[0].shape"
      ],
      "execution_count": null,
      "outputs": [
        {
          "output_type": "execute_result",
          "data": {
            "text/plain": [
              "(28, 28)"
            ]
          },
          "metadata": {
            "tags": []
          },
          "execution_count": 57
        }
      ]
    },
    {
      "cell_type": "code",
      "metadata": {
        "id": "zkAPr1qNaofB"
      },
      "source": [
        "xtrain1=xtrain.reshape(-1,784)/255.0"
      ],
      "execution_count": null,
      "outputs": []
    },
    {
      "cell_type": "code",
      "metadata": {
        "id": "6fuWz8TAa6Wm"
      },
      "source": [
        "xtest1=xtest.reshape(-1,784)/255.0"
      ],
      "execution_count": null,
      "outputs": []
    },
    {
      "cell_type": "code",
      "metadata": {
        "id": "o8aAxMDqXZkm"
      },
      "source": [
        "ytrain1=tf.keras.utils.to_categorical(ytrain)"
      ],
      "execution_count": null,
      "outputs": []
    },
    {
      "cell_type": "code",
      "metadata": {
        "id": "7fMir5zxXoIW",
        "colab": {
          "base_uri": "https://localhost:8080/",
          "height": 34
        },
        "outputId": "2475da17-9be9-49ab-b55c-4a98448e807f"
      },
      "source": [
        "ytrain1.shape"
      ],
      "execution_count": null,
      "outputs": [
        {
          "output_type": "execute_result",
          "data": {
            "text/plain": [
              "(60000, 10)"
            ]
          },
          "metadata": {
            "tags": []
          },
          "execution_count": 59
        }
      ]
    },
    {
      "cell_type": "code",
      "metadata": {
        "id": "TQOtnhbNXpw2"
      },
      "source": [
        "ytest1=tf.keras.utils.to_categorical(ytest)"
      ],
      "execution_count": null,
      "outputs": []
    },
    {
      "cell_type": "code",
      "metadata": {
        "id": "gL9Nn9uJXxy-",
        "colab": {
          "base_uri": "https://localhost:8080/",
          "height": 34
        },
        "outputId": "ce5f45ca-28f5-408a-f7d8-d43e8112a42c"
      },
      "source": [
        "ytest1.shape"
      ],
      "execution_count": null,
      "outputs": [
        {
          "output_type": "execute_result",
          "data": {
            "text/plain": [
              "(10000, 10)"
            ]
          },
          "metadata": {
            "tags": []
          },
          "execution_count": 62
        }
      ]
    },
    {
      "cell_type": "code",
      "metadata": {
        "id": "jSDs8Ht8Xy-V",
        "colab": {
          "base_uri": "https://localhost:8080/",
          "height": 34
        },
        "outputId": "16052380-3f41-489c-fd61-ebc2096ea4df"
      },
      "source": [
        "xtest[0].shape"
      ],
      "execution_count": null,
      "outputs": [
        {
          "output_type": "execute_result",
          "data": {
            "text/plain": [
              "(28, 28)"
            ]
          },
          "metadata": {
            "tags": []
          },
          "execution_count": 63
        }
      ]
    },
    {
      "cell_type": "code",
      "metadata": {
        "id": "tbaPdRTnYFBH"
      },
      "source": [
        "model=tf.keras.models.Sequential()"
      ],
      "execution_count": null,
      "outputs": []
    },
    {
      "cell_type": "code",
      "metadata": {
        "id": "l1MuMwe3YUka"
      },
      "source": [
        "from tensorflow.keras.layers import Dense,Flatten,Conv2D,MaxPool2D,LSTMCell"
      ],
      "execution_count": null,
      "outputs": []
    },
    {
      "cell_type": "code",
      "metadata": {
        "id": "3Zw1d8NmZrfU"
      },
      "source": [],
      "execution_count": null,
      "outputs": []
    },
    {
      "cell_type": "code",
      "metadata": {
        "id": "cTKd-mlJYiYa"
      },
      "source": [
        "model.add(Dense(50,activation=\"relu\",input_shape=(784,)))"
      ],
      "execution_count": null,
      "outputs": []
    },
    {
      "cell_type": "code",
      "metadata": {
        "id": "2iibKpWuYvs9"
      },
      "source": [
        "model.add(Dense(10,activation=\"softmax\"))"
      ],
      "execution_count": null,
      "outputs": []
    },
    {
      "cell_type": "code",
      "metadata": {
        "id": "eVyM7Z6_Y70V",
        "colab": {
          "base_uri": "https://localhost:8080/",
          "height": 221
        },
        "outputId": "ea725365-4852-44b0-9053-cba9b9e70faa"
      },
      "source": [
        "model.summary()"
      ],
      "execution_count": null,
      "outputs": [
        {
          "output_type": "stream",
          "text": [
            "Model: \"sequential_7\"\n",
            "_________________________________________________________________\n",
            "Layer (type)                 Output Shape              Param #   \n",
            "=================================================================\n",
            "dense_16 (Dense)             (None, 50)                39250     \n",
            "_________________________________________________________________\n",
            "dense_17 (Dense)             (None, 10)                510       \n",
            "=================================================================\n",
            "Total params: 39,760\n",
            "Trainable params: 39,760\n",
            "Non-trainable params: 0\n",
            "_________________________________________________________________\n"
          ],
          "name": "stdout"
        }
      ]
    },
    {
      "cell_type": "code",
      "metadata": {
        "id": "GK7e-prJY-VT"
      },
      "source": [
        "model.compile(optimizer=\"adam\",loss=\"categorical_crossentropy\",metrics=[\"accuracy\"])"
      ],
      "execution_count": null,
      "outputs": []
    },
    {
      "cell_type": "code",
      "metadata": {
        "id": "0hKlsUWJcWrn",
        "colab": {
          "base_uri": "https://localhost:8080/",
          "height": 1000
        },
        "outputId": "66d53c39-7b70-47bc-9952-ec58f7662e8f"
      },
      "source": [
        "model.fit(xtrain1,ytrain1,batch_size=64,epochs=100)"
      ],
      "execution_count": null,
      "outputs": [
        {
          "output_type": "stream",
          "text": [
            "Epoch 1/100\n",
            "938/938 [==============================] - 2s 2ms/step - loss: 0.5551 - accuracy: 0.8081\n",
            "Epoch 2/100\n",
            "938/938 [==============================] - 2s 2ms/step - loss: 0.4129 - accuracy: 0.8561\n",
            "Epoch 3/100\n",
            "938/938 [==============================] - 2s 2ms/step - loss: 0.3774 - accuracy: 0.8670\n",
            "Epoch 4/100\n",
            "938/938 [==============================] - 2s 2ms/step - loss: 0.3538 - accuracy: 0.8756\n",
            "Epoch 5/100\n",
            "938/938 [==============================] - 2s 2ms/step - loss: 0.3371 - accuracy: 0.8803\n",
            "Epoch 6/100\n",
            "938/938 [==============================] - 2s 2ms/step - loss: 0.3226 - accuracy: 0.8855\n",
            "Epoch 7/100\n",
            "938/938 [==============================] - 2s 2ms/step - loss: 0.3127 - accuracy: 0.8883\n",
            "Epoch 8/100\n",
            "938/938 [==============================] - 2s 2ms/step - loss: 0.3027 - accuracy: 0.8909\n",
            "Epoch 9/100\n",
            "938/938 [==============================] - 2s 2ms/step - loss: 0.2936 - accuracy: 0.8936\n",
            "Epoch 10/100\n",
            "938/938 [==============================] - 2s 2ms/step - loss: 0.2870 - accuracy: 0.8952\n",
            "Epoch 11/100\n",
            "938/938 [==============================] - 2s 2ms/step - loss: 0.2829 - accuracy: 0.8969\n",
            "Epoch 12/100\n",
            "938/938 [==============================] - 2s 2ms/step - loss: 0.2756 - accuracy: 0.8996\n",
            "Epoch 13/100\n",
            "938/938 [==============================] - 2s 2ms/step - loss: 0.2706 - accuracy: 0.9022\n",
            "Epoch 14/100\n",
            "938/938 [==============================] - 2s 2ms/step - loss: 0.2630 - accuracy: 0.9035\n",
            "Epoch 15/100\n",
            "938/938 [==============================] - 2s 2ms/step - loss: 0.2585 - accuracy: 0.9061\n",
            "Epoch 16/100\n",
            "938/938 [==============================] - 2s 2ms/step - loss: 0.2566 - accuracy: 0.9064\n",
            "Epoch 17/100\n",
            "938/938 [==============================] - 2s 2ms/step - loss: 0.2491 - accuracy: 0.9089\n",
            "Epoch 18/100\n",
            "938/938 [==============================] - 2s 2ms/step - loss: 0.2444 - accuracy: 0.9104\n",
            "Epoch 19/100\n",
            "938/938 [==============================] - 2s 2ms/step - loss: 0.2430 - accuracy: 0.9111\n",
            "Epoch 20/100\n",
            "938/938 [==============================] - 2s 2ms/step - loss: 0.2384 - accuracy: 0.9121\n",
            "Epoch 21/100\n",
            "938/938 [==============================] - 2s 2ms/step - loss: 0.2334 - accuracy: 0.9137\n",
            "Epoch 22/100\n",
            "938/938 [==============================] - 2s 2ms/step - loss: 0.2302 - accuracy: 0.9143\n",
            "Epoch 23/100\n",
            "938/938 [==============================] - 2s 2ms/step - loss: 0.2269 - accuracy: 0.9159\n",
            "Epoch 24/100\n",
            "938/938 [==============================] - 2s 2ms/step - loss: 0.2232 - accuracy: 0.9180\n",
            "Epoch 25/100\n",
            "938/938 [==============================] - 2s 2ms/step - loss: 0.2211 - accuracy: 0.9183\n",
            "Epoch 26/100\n",
            "938/938 [==============================] - 2s 2ms/step - loss: 0.2183 - accuracy: 0.9194\n",
            "Epoch 27/100\n",
            "938/938 [==============================] - 2s 2ms/step - loss: 0.2166 - accuracy: 0.9200\n",
            "Epoch 28/100\n",
            "938/938 [==============================] - 2s 2ms/step - loss: 0.2121 - accuracy: 0.9229\n",
            "Epoch 29/100\n",
            "938/938 [==============================] - 2s 2ms/step - loss: 0.2085 - accuracy: 0.9225\n",
            "Epoch 30/100\n",
            "938/938 [==============================] - 2s 2ms/step - loss: 0.2052 - accuracy: 0.9248\n",
            "Epoch 31/100\n",
            "938/938 [==============================] - 2s 2ms/step - loss: 0.2037 - accuracy: 0.9241\n",
            "Epoch 32/100\n",
            "938/938 [==============================] - 2s 2ms/step - loss: 0.2035 - accuracy: 0.9244\n",
            "Epoch 33/100\n",
            "938/938 [==============================] - 2s 2ms/step - loss: 0.2005 - accuracy: 0.9257\n",
            "Epoch 34/100\n",
            "938/938 [==============================] - 2s 2ms/step - loss: 0.1965 - accuracy: 0.9283\n",
            "Epoch 35/100\n",
            "938/938 [==============================] - 2s 2ms/step - loss: 0.1953 - accuracy: 0.9274\n",
            "Epoch 36/100\n",
            "938/938 [==============================] - 2s 2ms/step - loss: 0.1910 - accuracy: 0.9287\n",
            "Epoch 37/100\n",
            "938/938 [==============================] - 2s 2ms/step - loss: 0.1886 - accuracy: 0.9301\n",
            "Epoch 38/100\n",
            "938/938 [==============================] - 2s 2ms/step - loss: 0.1882 - accuracy: 0.9309\n",
            "Epoch 39/100\n",
            "938/938 [==============================] - 2s 2ms/step - loss: 0.1857 - accuracy: 0.9313\n",
            "Epoch 40/100\n",
            "938/938 [==============================] - 2s 2ms/step - loss: 0.1848 - accuracy: 0.9320\n",
            "Epoch 41/100\n",
            "938/938 [==============================] - 2s 2ms/step - loss: 0.1810 - accuracy: 0.9333\n",
            "Epoch 42/100\n",
            "938/938 [==============================] - 2s 2ms/step - loss: 0.1816 - accuracy: 0.9331\n",
            "Epoch 43/100\n",
            "938/938 [==============================] - 2s 2ms/step - loss: 0.1768 - accuracy: 0.9350\n",
            "Epoch 44/100\n",
            "938/938 [==============================] - 2s 2ms/step - loss: 0.1765 - accuracy: 0.9353\n",
            "Epoch 45/100\n",
            "938/938 [==============================] - 2s 2ms/step - loss: 0.1728 - accuracy: 0.9364\n",
            "Epoch 46/100\n",
            "938/938 [==============================] - 2s 2ms/step - loss: 0.1727 - accuracy: 0.9369\n",
            "Epoch 47/100\n",
            "938/938 [==============================] - 2s 2ms/step - loss: 0.1703 - accuracy: 0.9376\n",
            "Epoch 48/100\n",
            "938/938 [==============================] - 2s 2ms/step - loss: 0.1691 - accuracy: 0.9374\n",
            "Epoch 49/100\n",
            "938/938 [==============================] - 2s 2ms/step - loss: 0.1673 - accuracy: 0.9391\n",
            "Epoch 50/100\n",
            "938/938 [==============================] - 2s 2ms/step - loss: 0.1660 - accuracy: 0.9401\n",
            "Epoch 51/100\n",
            "938/938 [==============================] - 2s 2ms/step - loss: 0.1635 - accuracy: 0.9397\n",
            "Epoch 52/100\n",
            "938/938 [==============================] - 2s 2ms/step - loss: 0.1629 - accuracy: 0.9405\n",
            "Epoch 53/100\n",
            "938/938 [==============================] - 2s 2ms/step - loss: 0.1633 - accuracy: 0.9401\n",
            "Epoch 54/100\n",
            "938/938 [==============================] - 2s 2ms/step - loss: 0.1595 - accuracy: 0.9407\n",
            "Epoch 55/100\n",
            "938/938 [==============================] - 2s 2ms/step - loss: 0.1580 - accuracy: 0.9422\n",
            "Epoch 56/100\n",
            "938/938 [==============================] - 2s 2ms/step - loss: 0.1552 - accuracy: 0.9429\n",
            "Epoch 57/100\n",
            "938/938 [==============================] - 2s 2ms/step - loss: 0.1555 - accuracy: 0.9432\n",
            "Epoch 58/100\n",
            "938/938 [==============================] - 2s 2ms/step - loss: 0.1558 - accuracy: 0.9425\n",
            "Epoch 59/100\n",
            "938/938 [==============================] - 2s 2ms/step - loss: 0.1518 - accuracy: 0.9445\n",
            "Epoch 60/100\n",
            "938/938 [==============================] - 2s 2ms/step - loss: 0.1506 - accuracy: 0.9444\n",
            "Epoch 61/100\n",
            "938/938 [==============================] - 2s 2ms/step - loss: 0.1513 - accuracy: 0.9445\n",
            "Epoch 62/100\n",
            "938/938 [==============================] - 2s 2ms/step - loss: 0.1497 - accuracy: 0.9450\n",
            "Epoch 63/100\n",
            "938/938 [==============================] - 2s 2ms/step - loss: 0.1477 - accuracy: 0.9458\n",
            "Epoch 64/100\n",
            "938/938 [==============================] - 2s 2ms/step - loss: 0.1488 - accuracy: 0.9445\n",
            "Epoch 65/100\n",
            "938/938 [==============================] - 2s 2ms/step - loss: 0.1453 - accuracy: 0.9470\n",
            "Epoch 66/100\n",
            "938/938 [==============================] - 2s 2ms/step - loss: 0.1433 - accuracy: 0.9466\n",
            "Epoch 67/100\n",
            "938/938 [==============================] - 2s 2ms/step - loss: 0.1445 - accuracy: 0.9478\n",
            "Epoch 68/100\n",
            "938/938 [==============================] - 2s 2ms/step - loss: 0.1403 - accuracy: 0.9484\n",
            "Epoch 69/100\n",
            "938/938 [==============================] - 2s 2ms/step - loss: 0.1409 - accuracy: 0.9481\n",
            "Epoch 70/100\n",
            "938/938 [==============================] - 2s 2ms/step - loss: 0.1399 - accuracy: 0.9492\n",
            "Epoch 71/100\n",
            "938/938 [==============================] - 2s 2ms/step - loss: 0.1389 - accuracy: 0.9493\n",
            "Epoch 72/100\n",
            "938/938 [==============================] - 2s 2ms/step - loss: 0.1384 - accuracy: 0.9488\n",
            "Epoch 73/100\n",
            "938/938 [==============================] - 2s 2ms/step - loss: 0.1357 - accuracy: 0.9496\n",
            "Epoch 74/100\n",
            "938/938 [==============================] - 2s 2ms/step - loss: 0.1343 - accuracy: 0.9504\n",
            "Epoch 75/100\n",
            "938/938 [==============================] - 2s 2ms/step - loss: 0.1332 - accuracy: 0.9519\n",
            "Epoch 76/100\n",
            "938/938 [==============================] - 2s 2ms/step - loss: 0.1353 - accuracy: 0.9506\n",
            "Epoch 77/100\n",
            "938/938 [==============================] - 2s 2ms/step - loss: 0.1326 - accuracy: 0.9512\n",
            "Epoch 78/100\n",
            "938/938 [==============================] - 2s 2ms/step - loss: 0.1303 - accuracy: 0.9530\n",
            "Epoch 79/100\n",
            "938/938 [==============================] - 2s 2ms/step - loss: 0.1323 - accuracy: 0.9513\n",
            "Epoch 80/100\n",
            "938/938 [==============================] - 2s 2ms/step - loss: 0.1274 - accuracy: 0.9530\n",
            "Epoch 81/100\n",
            "938/938 [==============================] - 2s 2ms/step - loss: 0.1268 - accuracy: 0.9551\n",
            "Epoch 82/100\n",
            "938/938 [==============================] - 2s 2ms/step - loss: 0.1297 - accuracy: 0.9532\n",
            "Epoch 83/100\n",
            "938/938 [==============================] - 2s 2ms/step - loss: 0.1305 - accuracy: 0.9516\n",
            "Epoch 84/100\n",
            "938/938 [==============================] - 2s 2ms/step - loss: 0.1271 - accuracy: 0.9541\n",
            "Epoch 85/100\n",
            "938/938 [==============================] - 2s 2ms/step - loss: 0.1263 - accuracy: 0.9532\n",
            "Epoch 86/100\n",
            "938/938 [==============================] - 2s 2ms/step - loss: 0.1223 - accuracy: 0.9549\n",
            "Epoch 87/100\n",
            "938/938 [==============================] - 2s 2ms/step - loss: 0.1232 - accuracy: 0.9553\n",
            "Epoch 88/100\n",
            "938/938 [==============================] - 2s 2ms/step - loss: 0.1220 - accuracy: 0.9549\n",
            "Epoch 89/100\n",
            "938/938 [==============================] - 2s 2ms/step - loss: 0.1218 - accuracy: 0.9556\n",
            "Epoch 90/100\n",
            "938/938 [==============================] - 2s 2ms/step - loss: 0.1211 - accuracy: 0.9548\n",
            "Epoch 91/100\n",
            "938/938 [==============================] - 2s 2ms/step - loss: 0.1223 - accuracy: 0.9561\n",
            "Epoch 92/100\n",
            "938/938 [==============================] - 2s 2ms/step - loss: 0.1177 - accuracy: 0.9571\n",
            "Epoch 93/100\n",
            "938/938 [==============================] - 2s 2ms/step - loss: 0.1189 - accuracy: 0.9576\n",
            "Epoch 94/100\n",
            "938/938 [==============================] - 2s 2ms/step - loss: 0.1180 - accuracy: 0.9567\n",
            "Epoch 95/100\n",
            "938/938 [==============================] - 2s 2ms/step - loss: 0.1153 - accuracy: 0.9578\n",
            "Epoch 96/100\n",
            "938/938 [==============================] - 2s 2ms/step - loss: 0.1186 - accuracy: 0.9571\n",
            "Epoch 97/100\n",
            "938/938 [==============================] - 2s 2ms/step - loss: 0.1135 - accuracy: 0.9586\n",
            "Epoch 98/100\n",
            "938/938 [==============================] - 2s 2ms/step - loss: 0.1145 - accuracy: 0.9586\n",
            "Epoch 99/100\n",
            "938/938 [==============================] - 2s 2ms/step - loss: 0.1145 - accuracy: 0.9582\n",
            "Epoch 100/100\n",
            "938/938 [==============================] - 2s 2ms/step - loss: 0.1139 - accuracy: 0.9583\n"
          ],
          "name": "stdout"
        },
        {
          "output_type": "execute_result",
          "data": {
            "text/plain": [
              "<tensorflow.python.keras.callbacks.History at 0x7fa049e56630>"
            ]
          },
          "metadata": {
            "tags": []
          },
          "execution_count": 104
        }
      ]
    },
    {
      "cell_type": "code",
      "metadata": {
        "id": "_pcVicbFcdG-"
      },
      "source": [
        "model1=tf.keras.models.Sequential()"
      ],
      "execution_count": null,
      "outputs": []
    },
    {
      "cell_type": "code",
      "metadata": {
        "id": "-W4m1WjBdzDt"
      },
      "source": [
        "model1.add(Conv2D(32,(5,5),activation=\"relu\",input_shape=(28,28,1)))"
      ],
      "execution_count": null,
      "outputs": []
    },
    {
      "cell_type": "code",
      "metadata": {
        "id": "M4dVMWGseK0l"
      },
      "source": [
        "xtrain2=xtrain.reshape(-1,28,28,1)/255.0"
      ],
      "execution_count": null,
      "outputs": []
    },
    {
      "cell_type": "code",
      "metadata": {
        "id": "dteey6rbfO3q"
      },
      "source": [
        "xtest2=xtest.reshape(-1,28,28,1)/255.0"
      ],
      "execution_count": null,
      "outputs": []
    },
    {
      "cell_type": "code",
      "metadata": {
        "id": "QjZwztCHfVQD"
      },
      "source": [
        "model1.add(MaxPool2D((2,2)))"
      ],
      "execution_count": null,
      "outputs": []
    },
    {
      "cell_type": "code",
      "metadata": {
        "id": "u5yoDm15fiqO"
      },
      "source": [
        "model1.add(Flatten())"
      ],
      "execution_count": null,
      "outputs": []
    },
    {
      "cell_type": "code",
      "metadata": {
        "id": "H6dK2OUNfl2R"
      },
      "source": [
        "model1.add(Dense(50,activation=\"relu\"))"
      ],
      "execution_count": null,
      "outputs": []
    },
    {
      "cell_type": "code",
      "metadata": {
        "id": "leqsW6dbfsgN"
      },
      "source": [
        "model1.add(Dense(10,activation=\"softmax\"))"
      ],
      "execution_count": null,
      "outputs": []
    },
    {
      "cell_type": "code",
      "metadata": {
        "id": "ceCM4DIrfxVs",
        "colab": {
          "base_uri": "https://localhost:8080/",
          "height": 323
        },
        "outputId": "a31c5013-364b-4eaa-aaf3-9647c14b4411"
      },
      "source": [
        "model1.summary()"
      ],
      "execution_count": null,
      "outputs": [
        {
          "output_type": "stream",
          "text": [
            "Model: \"sequential_8\"\n",
            "_________________________________________________________________\n",
            "Layer (type)                 Output Shape              Param #   \n",
            "=================================================================\n",
            "conv2d_3 (Conv2D)            (None, 24, 24, 32)        832       \n",
            "_________________________________________________________________\n",
            "max_pooling2d (MaxPooling2D) (None, 12, 12, 32)        0         \n",
            "_________________________________________________________________\n",
            "flatten_2 (Flatten)          (None, 4608)              0         \n",
            "_________________________________________________________________\n",
            "dense_18 (Dense)             (None, 50)                230450    \n",
            "_________________________________________________________________\n",
            "dense_19 (Dense)             (None, 10)                510       \n",
            "=================================================================\n",
            "Total params: 231,792\n",
            "Trainable params: 231,792\n",
            "Non-trainable params: 0\n",
            "_________________________________________________________________\n"
          ],
          "name": "stdout"
        }
      ]
    },
    {
      "cell_type": "code",
      "metadata": {
        "id": "S2oYwdJsfzQh"
      },
      "source": [
        "model1.compile(optimizer=\"adam\",loss=\"categorical_crossentropy\",metrics=[\"accuracy\"])"
      ],
      "execution_count": null,
      "outputs": []
    },
    {
      "cell_type": "code",
      "metadata": {
        "id": "cKDxfV3egaTa",
        "colab": {
          "base_uri": "https://localhost:8080/",
          "height": 1000
        },
        "outputId": "a1ee77b1-a154-4d70-d66c-8faa1403dc7b"
      },
      "source": [
        "model1.fit(xtrain2,ytrain1,batch_size=64,epochs=100)"
      ],
      "execution_count": null,
      "outputs": [
        {
          "output_type": "stream",
          "text": [
            "Epoch 1/100\n",
            "938/938 [==============================] - 30s 32ms/step - loss: 0.4687 - accuracy: 0.8337\n",
            "Epoch 2/100\n",
            "938/938 [==============================] - 30s 32ms/step - loss: 0.3143 - accuracy: 0.8880\n",
            "Epoch 3/100\n",
            "938/938 [==============================] - 30s 32ms/step - loss: 0.2748 - accuracy: 0.9006\n",
            "Epoch 4/100\n",
            "938/938 [==============================] - 30s 32ms/step - loss: 0.2480 - accuracy: 0.9104\n",
            "Epoch 5/100\n",
            "938/938 [==============================] - 30s 32ms/step - loss: 0.2268 - accuracy: 0.9171\n",
            "Epoch 6/100\n",
            "938/938 [==============================] - 30s 32ms/step - loss: 0.2084 - accuracy: 0.9233\n",
            "Epoch 7/100\n",
            "938/938 [==============================] - 30s 32ms/step - loss: 0.1929 - accuracy: 0.9288\n",
            "Epoch 8/100\n",
            "938/938 [==============================] - 30s 32ms/step - loss: 0.1758 - accuracy: 0.9356\n",
            "Epoch 9/100\n",
            "938/938 [==============================] - 30s 32ms/step - loss: 0.1626 - accuracy: 0.9401\n",
            "Epoch 10/100\n",
            "938/938 [==============================] - 30s 32ms/step - loss: 0.1502 - accuracy: 0.9450\n",
            "Epoch 11/100\n",
            "938/938 [==============================] - 30s 32ms/step - loss: 0.1367 - accuracy: 0.9491\n",
            "Epoch 12/100\n",
            "938/938 [==============================] - 30s 32ms/step - loss: 0.1275 - accuracy: 0.9533\n",
            "Epoch 13/100\n",
            "938/938 [==============================] - 30s 32ms/step - loss: 0.1197 - accuracy: 0.9562\n",
            "Epoch 14/100\n",
            "938/938 [==============================] - 30s 31ms/step - loss: 0.1092 - accuracy: 0.9603\n",
            "Epoch 15/100\n",
            "938/938 [==============================] - 30s 32ms/step - loss: 0.1017 - accuracy: 0.9621\n",
            "Epoch 16/100\n",
            "938/938 [==============================] - 30s 32ms/step - loss: 0.0937 - accuracy: 0.9658\n",
            "Epoch 17/100\n",
            "938/938 [==============================] - 29s 31ms/step - loss: 0.0865 - accuracy: 0.9688\n",
            "Epoch 18/100\n",
            "938/938 [==============================] - 30s 32ms/step - loss: 0.0789 - accuracy: 0.9715\n",
            "Epoch 19/100\n",
            "938/938 [==============================] - 30s 32ms/step - loss: 0.0734 - accuracy: 0.9735\n",
            "Epoch 20/100\n",
            "938/938 [==============================] - 30s 32ms/step - loss: 0.0694 - accuracy: 0.9746\n",
            "Epoch 21/100\n",
            "938/938 [==============================] - 30s 32ms/step - loss: 0.0627 - accuracy: 0.9779\n",
            "Epoch 22/100\n",
            "938/938 [==============================] - 29s 31ms/step - loss: 0.0600 - accuracy: 0.9786\n",
            "Epoch 23/100\n",
            "938/938 [==============================] - 29s 31ms/step - loss: 0.0573 - accuracy: 0.9793\n",
            "Epoch 24/100\n",
            "938/938 [==============================] - 30s 32ms/step - loss: 0.0513 - accuracy: 0.9809\n",
            "Epoch 25/100\n",
            "938/938 [==============================] - 29s 31ms/step - loss: 0.0477 - accuracy: 0.9828\n",
            "Epoch 26/100\n",
            "938/938 [==============================] - 29s 31ms/step - loss: 0.0439 - accuracy: 0.9843\n",
            "Epoch 27/100\n",
            "938/938 [==============================] - 29s 31ms/step - loss: 0.0439 - accuracy: 0.9846\n",
            "Epoch 28/100\n",
            "938/938 [==============================] - 29s 31ms/step - loss: 0.0363 - accuracy: 0.9873\n",
            "Epoch 29/100\n",
            "938/938 [==============================] - 30s 31ms/step - loss: 0.0382 - accuracy: 0.9861\n",
            "Epoch 30/100\n",
            "938/938 [==============================] - 30s 32ms/step - loss: 0.0328 - accuracy: 0.9886\n",
            "Epoch 31/100\n",
            "938/938 [==============================] - 30s 32ms/step - loss: 0.0330 - accuracy: 0.9883\n",
            "Epoch 32/100\n",
            "938/938 [==============================] - 30s 32ms/step - loss: 0.0323 - accuracy: 0.9884\n",
            "Epoch 33/100\n",
            "938/938 [==============================] - 30s 31ms/step - loss: 0.0280 - accuracy: 0.9901\n",
            "Epoch 34/100\n",
            "938/938 [==============================] - 30s 32ms/step - loss: 0.0300 - accuracy: 0.9898\n",
            "Epoch 35/100\n",
            "938/938 [==============================] - 30s 31ms/step - loss: 0.0274 - accuracy: 0.9905\n",
            "Epoch 36/100\n",
            "938/938 [==============================] - 29s 31ms/step - loss: 0.0223 - accuracy: 0.9924\n",
            "Epoch 37/100\n",
            "938/938 [==============================] - 29s 31ms/step - loss: 0.0264 - accuracy: 0.9902\n",
            "Epoch 38/100\n",
            "938/938 [==============================] - 29s 31ms/step - loss: 0.0259 - accuracy: 0.9910\n",
            "Epoch 39/100\n",
            "938/938 [==============================] - 29s 31ms/step - loss: 0.0216 - accuracy: 0.9926\n",
            "Epoch 40/100\n",
            "938/938 [==============================] - 29s 31ms/step - loss: 0.0238 - accuracy: 0.9916\n",
            "Epoch 41/100\n",
            "938/938 [==============================] - 29s 31ms/step - loss: 0.0190 - accuracy: 0.9936\n",
            "Epoch 42/100\n",
            "938/938 [==============================] - 30s 32ms/step - loss: 0.0196 - accuracy: 0.9928\n",
            "Epoch 43/100\n",
            "938/938 [==============================] - 29s 31ms/step - loss: 0.0223 - accuracy: 0.9922\n",
            "Epoch 44/100\n",
            "938/938 [==============================] - 30s 31ms/step - loss: 0.0175 - accuracy: 0.9944\n",
            "Epoch 45/100\n",
            "938/938 [==============================] - 30s 32ms/step - loss: 0.0208 - accuracy: 0.9927\n",
            "Epoch 46/100\n",
            "938/938 [==============================] - 29s 31ms/step - loss: 0.0169 - accuracy: 0.9944\n",
            "Epoch 47/100\n",
            "938/938 [==============================] - 29s 31ms/step - loss: 0.0180 - accuracy: 0.9938\n",
            "Epoch 48/100\n",
            "938/938 [==============================] - 29s 31ms/step - loss: 0.0175 - accuracy: 0.9937\n",
            "Epoch 49/100\n",
            "938/938 [==============================] - 29s 31ms/step - loss: 0.0173 - accuracy: 0.9938\n",
            "Epoch 50/100\n",
            "938/938 [==============================] - 29s 31ms/step - loss: 0.0214 - accuracy: 0.9924\n",
            "Epoch 51/100\n",
            "938/938 [==============================] - 29s 31ms/step - loss: 0.0130 - accuracy: 0.9957\n",
            "Epoch 52/100\n",
            "938/938 [==============================] - 29s 31ms/step - loss: 0.0165 - accuracy: 0.9946\n",
            "Epoch 53/100\n",
            "938/938 [==============================] - 29s 31ms/step - loss: 0.0186 - accuracy: 0.9936\n",
            "Epoch 54/100\n",
            "938/938 [==============================] - 29s 31ms/step - loss: 0.0127 - accuracy: 0.9955\n",
            "Epoch 55/100\n",
            "938/938 [==============================] - 30s 32ms/step - loss: 0.0160 - accuracy: 0.9948\n",
            "Epoch 56/100\n",
            "938/938 [==============================] - 30s 31ms/step - loss: 0.0143 - accuracy: 0.9954\n",
            "Epoch 57/100\n",
            "938/938 [==============================] - 29s 31ms/step - loss: 0.0157 - accuracy: 0.9950\n",
            "Epoch 58/100\n",
            "938/938 [==============================] - 29s 31ms/step - loss: 0.0166 - accuracy: 0.9943\n",
            "Epoch 59/100\n",
            "938/938 [==============================] - 29s 31ms/step - loss: 0.0131 - accuracy: 0.9957\n",
            "Epoch 60/100\n",
            "938/938 [==============================] - 29s 31ms/step - loss: 0.0150 - accuracy: 0.9950\n",
            "Epoch 61/100\n",
            "938/938 [==============================] - 30s 31ms/step - loss: 0.0156 - accuracy: 0.9948\n",
            "Epoch 62/100\n",
            "938/938 [==============================] - 30s 31ms/step - loss: 0.0129 - accuracy: 0.9957\n",
            "Epoch 63/100\n",
            "938/938 [==============================] - 30s 32ms/step - loss: 0.0135 - accuracy: 0.9954\n",
            "Epoch 64/100\n",
            "938/938 [==============================] - 30s 31ms/step - loss: 0.0120 - accuracy: 0.9959\n",
            "Epoch 65/100\n",
            "938/938 [==============================] - 29s 31ms/step - loss: 0.0122 - accuracy: 0.9961\n",
            "Epoch 66/100\n",
            "938/938 [==============================] - 30s 32ms/step - loss: 0.0118 - accuracy: 0.9962\n",
            "Epoch 67/100\n",
            "938/938 [==============================] - 29s 31ms/step - loss: 0.0198 - accuracy: 0.9937\n",
            "Epoch 68/100\n",
            "938/938 [==============================] - 29s 31ms/step - loss: 0.0088 - accuracy: 0.9971\n",
            "Epoch 69/100\n",
            "938/938 [==============================] - 29s 31ms/step - loss: 0.0151 - accuracy: 0.9950\n",
            "Epoch 70/100\n",
            "938/938 [==============================] - 30s 31ms/step - loss: 0.0102 - accuracy: 0.9964\n",
            "Epoch 71/100\n",
            "938/938 [==============================] - 29s 31ms/step - loss: 0.0137 - accuracy: 0.9958\n",
            "Epoch 72/100\n",
            "938/938 [==============================] - 29s 31ms/step - loss: 0.0130 - accuracy: 0.9957\n",
            "Epoch 73/100\n",
            "938/938 [==============================] - 30s 31ms/step - loss: 0.0114 - accuracy: 0.9963\n",
            "Epoch 74/100\n",
            "938/938 [==============================] - 29s 31ms/step - loss: 0.0072 - accuracy: 0.9977\n",
            "Epoch 75/100\n",
            "938/938 [==============================] - 29s 31ms/step - loss: 0.0162 - accuracy: 0.9948\n",
            "Epoch 76/100\n",
            "938/938 [==============================] - 30s 32ms/step - loss: 0.0148 - accuracy: 0.9953\n",
            "Epoch 77/100\n",
            "938/938 [==============================] - 30s 31ms/step - loss: 0.0038 - accuracy: 0.9991\n",
            "Epoch 78/100\n",
            "938/938 [==============================] - 29s 31ms/step - loss: 0.0191 - accuracy: 0.9940\n",
            "Epoch 79/100\n",
            "938/938 [==============================] - 29s 31ms/step - loss: 0.0109 - accuracy: 0.9964\n",
            "Epoch 80/100\n",
            "938/938 [==============================] - 29s 31ms/step - loss: 0.0069 - accuracy: 0.9976\n",
            "Epoch 81/100\n",
            "938/938 [==============================] - 29s 31ms/step - loss: 0.0141 - accuracy: 0.9953\n",
            "Epoch 82/100\n",
            "938/938 [==============================] - 29s 31ms/step - loss: 0.0083 - accuracy: 0.9972\n",
            "Epoch 83/100\n",
            "938/938 [==============================] - 29s 31ms/step - loss: 0.0089 - accuracy: 0.9969\n",
            "Epoch 84/100\n",
            "938/938 [==============================] - 29s 31ms/step - loss: 0.0157 - accuracy: 0.9952\n",
            "Epoch 85/100\n",
            "938/938 [==============================] - 29s 31ms/step - loss: 0.0049 - accuracy: 0.9984\n",
            "Epoch 86/100\n",
            "938/938 [==============================] - 29s 31ms/step - loss: 0.0140 - accuracy: 0.9952\n",
            "Epoch 87/100\n",
            "938/938 [==============================] - 30s 32ms/step - loss: 0.0089 - accuracy: 0.9972\n",
            "Epoch 88/100\n",
            "938/938 [==============================] - 29s 31ms/step - loss: 0.0127 - accuracy: 0.9958\n",
            "Epoch 89/100\n",
            "938/938 [==============================] - 29s 31ms/step - loss: 0.0096 - accuracy: 0.9970\n",
            "Epoch 90/100\n",
            "938/938 [==============================] - 29s 31ms/step - loss: 0.0123 - accuracy: 0.9959\n",
            "Epoch 91/100\n",
            "938/938 [==============================] - 29s 31ms/step - loss: 0.0067 - accuracy: 0.9977\n",
            "Epoch 92/100\n",
            "938/938 [==============================] - 29s 31ms/step - loss: 0.0134 - accuracy: 0.9958\n",
            "Epoch 93/100\n",
            "938/938 [==============================] - 29s 31ms/step - loss: 0.0075 - accuracy: 0.9975\n",
            "Epoch 94/100\n",
            "938/938 [==============================] - 29s 31ms/step - loss: 0.0100 - accuracy: 0.9968\n",
            "Epoch 95/100\n",
            "938/938 [==============================] - 29s 31ms/step - loss: 0.0099 - accuracy: 0.9968\n",
            "Epoch 96/100\n",
            "938/938 [==============================] - 29s 31ms/step - loss: 0.0113 - accuracy: 0.9964\n",
            "Epoch 97/100\n",
            "938/938 [==============================] - 29s 31ms/step - loss: 0.0113 - accuracy: 0.9967\n",
            "Epoch 98/100\n",
            "938/938 [==============================] - 29s 31ms/step - loss: 0.0075 - accuracy: 0.9975\n",
            "Epoch 99/100\n",
            "938/938 [==============================] - 29s 31ms/step - loss: 0.0100 - accuracy: 0.9968\n",
            "Epoch 100/100\n",
            "938/938 [==============================] - 29s 31ms/step - loss: 0.0094 - accuracy: 0.9970\n"
          ],
          "name": "stdout"
        },
        {
          "output_type": "execute_result",
          "data": {
            "text/plain": [
              "<tensorflow.python.keras.callbacks.History at 0x7fa049501748>"
            ]
          },
          "metadata": {
            "tags": []
          },
          "execution_count": 120
        }
      ]
    },
    {
      "cell_type": "code",
      "metadata": {
        "id": "t2Jkd9KEgj7S"
      },
      "source": [
        "def train_mnist():\n",
        "    # Please write your code only where you are indicated.\n",
        "    # please do not remove # model fitting inline comments.\n",
        "\n",
        "    # YOUR CODE SHOULD START HERE\n",
        "\n",
        "    # YOUR CODE SHOULD END HERE\n",
        "\n",
        "    mnist = tf.keras.datasets.mnist\n",
        "\n",
        "    (x_train, y_train),(x_test, y_test) = mnist.load_data()\n",
        "    # YOUR CODE SHOULD START HERE\n",
        "    x_train=x_train.reshape(-1,784)/255.0\n",
        "    y_train=tf.keras.utils.to_categorical(y_train)\n",
        "    x_test=x_test.reshape(-1,784)/255.0\n",
        "    y_test=tf.keras.utils.to_categorical(y_test)\n",
        "    # YOUR CODE SHOULD END HERE\n",
        "    model = tf.keras.models.Sequential()\n",
        "    from tensorflow.keras.layers import Dense\n",
        "    model.add(Dense(50,activation=\"relu\",input_shape=(784,)))\n",
        "    model.add(Dense(10,activation=\"softmax\"))\n",
        "\n",
        "    model.compile(optimizer='adam',\n",
        "                  loss='sparse_categorical_crossentropy',\n",
        "                  metrics=['accuracy'])\n",
        "\n",
        "    # model fitting\n",
        "    history = model.fit(x_train,y_train,epochs=50)\n",
        "\n",
        "    # model fitting\n",
        "    return history.epoch, history.history['acc'][-1]"
      ],
      "execution_count": null,
      "outputs": []
    },
    {
      "cell_type": "code",
      "metadata": {
        "id": "rfXZ8hPBxJjv",
        "colab": {
          "base_uri": "https://localhost:8080/",
          "height": 986
        },
        "outputId": "fb938edc-2b59-4363-d75c-2fb68af8ea69"
      },
      "source": [
        "train_mnist()"
      ],
      "execution_count": null,
      "outputs": [
        {
          "output_type": "stream",
          "text": [
            "Epoch 1/50\n"
          ],
          "name": "stdout"
        },
        {
          "output_type": "error",
          "ename": "ValueError",
          "evalue": "ignored",
          "traceback": [
            "\u001b[0;31m---------------------------------------------------------------------------\u001b[0m",
            "\u001b[0;31mValueError\u001b[0m                                Traceback (most recent call last)",
            "\u001b[0;32m<ipython-input-133-d3617ae8770d>\u001b[0m in \u001b[0;36m<module>\u001b[0;34m()\u001b[0m\n\u001b[0;32m----> 1\u001b[0;31m \u001b[0mtrain_mnist\u001b[0m\u001b[0;34m(\u001b[0m\u001b[0;34m)\u001b[0m\u001b[0;34m\u001b[0m\u001b[0;34m\u001b[0m\u001b[0m\n\u001b[0m",
            "\u001b[0;32m<ipython-input-132-7736d18ec434>\u001b[0m in \u001b[0;36mtrain_mnist\u001b[0;34m()\u001b[0m\n\u001b[1;32m     26\u001b[0m \u001b[0;34m\u001b[0m\u001b[0m\n\u001b[1;32m     27\u001b[0m     \u001b[0;31m# model fitting\u001b[0m\u001b[0;34m\u001b[0m\u001b[0;34m\u001b[0m\u001b[0;34m\u001b[0m\u001b[0m\n\u001b[0;32m---> 28\u001b[0;31m     \u001b[0mhistory\u001b[0m \u001b[0;34m=\u001b[0m \u001b[0mmodel\u001b[0m\u001b[0;34m.\u001b[0m\u001b[0mfit\u001b[0m\u001b[0;34m(\u001b[0m\u001b[0mx_train\u001b[0m\u001b[0;34m,\u001b[0m\u001b[0my_train\u001b[0m\u001b[0;34m,\u001b[0m\u001b[0mepochs\u001b[0m\u001b[0;34m=\u001b[0m\u001b[0;36m50\u001b[0m\u001b[0;34m)\u001b[0m\u001b[0;34m\u001b[0m\u001b[0;34m\u001b[0m\u001b[0m\n\u001b[0m\u001b[1;32m     29\u001b[0m \u001b[0;34m\u001b[0m\u001b[0m\n\u001b[1;32m     30\u001b[0m     \u001b[0;31m# model fitting\u001b[0m\u001b[0;34m\u001b[0m\u001b[0;34m\u001b[0m\u001b[0;34m\u001b[0m\u001b[0m\n",
            "\u001b[0;32m/usr/local/lib/python3.6/dist-packages/tensorflow/python/keras/engine/training.py\u001b[0m in \u001b[0;36m_method_wrapper\u001b[0;34m(self, *args, **kwargs)\u001b[0m\n\u001b[1;32m    106\u001b[0m   \u001b[0;32mdef\u001b[0m \u001b[0m_method_wrapper\u001b[0m\u001b[0;34m(\u001b[0m\u001b[0mself\u001b[0m\u001b[0;34m,\u001b[0m \u001b[0;34m*\u001b[0m\u001b[0margs\u001b[0m\u001b[0;34m,\u001b[0m \u001b[0;34m**\u001b[0m\u001b[0mkwargs\u001b[0m\u001b[0;34m)\u001b[0m\u001b[0;34m:\u001b[0m\u001b[0;34m\u001b[0m\u001b[0;34m\u001b[0m\u001b[0m\n\u001b[1;32m    107\u001b[0m     \u001b[0;32mif\u001b[0m \u001b[0;32mnot\u001b[0m \u001b[0mself\u001b[0m\u001b[0;34m.\u001b[0m\u001b[0m_in_multi_worker_mode\u001b[0m\u001b[0;34m(\u001b[0m\u001b[0;34m)\u001b[0m\u001b[0;34m:\u001b[0m  \u001b[0;31m# pylint: disable=protected-access\u001b[0m\u001b[0;34m\u001b[0m\u001b[0;34m\u001b[0m\u001b[0m\n\u001b[0;32m--> 108\u001b[0;31m       \u001b[0;32mreturn\u001b[0m \u001b[0mmethod\u001b[0m\u001b[0;34m(\u001b[0m\u001b[0mself\u001b[0m\u001b[0;34m,\u001b[0m \u001b[0;34m*\u001b[0m\u001b[0margs\u001b[0m\u001b[0;34m,\u001b[0m \u001b[0;34m**\u001b[0m\u001b[0mkwargs\u001b[0m\u001b[0;34m)\u001b[0m\u001b[0;34m\u001b[0m\u001b[0;34m\u001b[0m\u001b[0m\n\u001b[0m\u001b[1;32m    109\u001b[0m \u001b[0;34m\u001b[0m\u001b[0m\n\u001b[1;32m    110\u001b[0m     \u001b[0;31m# Running inside `run_distribute_coordinator` already.\u001b[0m\u001b[0;34m\u001b[0m\u001b[0;34m\u001b[0m\u001b[0;34m\u001b[0m\u001b[0m\n",
            "\u001b[0;32m/usr/local/lib/python3.6/dist-packages/tensorflow/python/keras/engine/training.py\u001b[0m in \u001b[0;36mfit\u001b[0;34m(self, x, y, batch_size, epochs, verbose, callbacks, validation_split, validation_data, shuffle, class_weight, sample_weight, initial_epoch, steps_per_epoch, validation_steps, validation_batch_size, validation_freq, max_queue_size, workers, use_multiprocessing)\u001b[0m\n\u001b[1;32m   1096\u001b[0m                 batch_size=batch_size):\n\u001b[1;32m   1097\u001b[0m               \u001b[0mcallbacks\u001b[0m\u001b[0;34m.\u001b[0m\u001b[0mon_train_batch_begin\u001b[0m\u001b[0;34m(\u001b[0m\u001b[0mstep\u001b[0m\u001b[0;34m)\u001b[0m\u001b[0;34m\u001b[0m\u001b[0;34m\u001b[0m\u001b[0m\n\u001b[0;32m-> 1098\u001b[0;31m               \u001b[0mtmp_logs\u001b[0m \u001b[0;34m=\u001b[0m \u001b[0mtrain_function\u001b[0m\u001b[0;34m(\u001b[0m\u001b[0miterator\u001b[0m\u001b[0;34m)\u001b[0m\u001b[0;34m\u001b[0m\u001b[0;34m\u001b[0m\u001b[0m\n\u001b[0m\u001b[1;32m   1099\u001b[0m               \u001b[0;32mif\u001b[0m \u001b[0mdata_handler\u001b[0m\u001b[0;34m.\u001b[0m\u001b[0mshould_sync\u001b[0m\u001b[0;34m:\u001b[0m\u001b[0;34m\u001b[0m\u001b[0;34m\u001b[0m\u001b[0m\n\u001b[1;32m   1100\u001b[0m                 \u001b[0mcontext\u001b[0m\u001b[0;34m.\u001b[0m\u001b[0masync_wait\u001b[0m\u001b[0;34m(\u001b[0m\u001b[0;34m)\u001b[0m\u001b[0;34m\u001b[0m\u001b[0;34m\u001b[0m\u001b[0m\n",
            "\u001b[0;32m/usr/local/lib/python3.6/dist-packages/tensorflow/python/eager/def_function.py\u001b[0m in \u001b[0;36m__call__\u001b[0;34m(self, *args, **kwds)\u001b[0m\n\u001b[1;32m    778\u001b[0m       \u001b[0;32melse\u001b[0m\u001b[0;34m:\u001b[0m\u001b[0;34m\u001b[0m\u001b[0;34m\u001b[0m\u001b[0m\n\u001b[1;32m    779\u001b[0m         \u001b[0mcompiler\u001b[0m \u001b[0;34m=\u001b[0m \u001b[0;34m\"nonXla\"\u001b[0m\u001b[0;34m\u001b[0m\u001b[0;34m\u001b[0m\u001b[0m\n\u001b[0;32m--> 780\u001b[0;31m         \u001b[0mresult\u001b[0m \u001b[0;34m=\u001b[0m \u001b[0mself\u001b[0m\u001b[0;34m.\u001b[0m\u001b[0m_call\u001b[0m\u001b[0;34m(\u001b[0m\u001b[0;34m*\u001b[0m\u001b[0margs\u001b[0m\u001b[0;34m,\u001b[0m \u001b[0;34m**\u001b[0m\u001b[0mkwds\u001b[0m\u001b[0;34m)\u001b[0m\u001b[0;34m\u001b[0m\u001b[0;34m\u001b[0m\u001b[0m\n\u001b[0m\u001b[1;32m    781\u001b[0m \u001b[0;34m\u001b[0m\u001b[0m\n\u001b[1;32m    782\u001b[0m       \u001b[0mnew_tracing_count\u001b[0m \u001b[0;34m=\u001b[0m \u001b[0mself\u001b[0m\u001b[0;34m.\u001b[0m\u001b[0m_get_tracing_count\u001b[0m\u001b[0;34m(\u001b[0m\u001b[0;34m)\u001b[0m\u001b[0;34m\u001b[0m\u001b[0;34m\u001b[0m\u001b[0m\n",
            "\u001b[0;32m/usr/local/lib/python3.6/dist-packages/tensorflow/python/eager/def_function.py\u001b[0m in \u001b[0;36m_call\u001b[0;34m(self, *args, **kwds)\u001b[0m\n\u001b[1;32m    821\u001b[0m       \u001b[0;31m# This is the first call of __call__, so we have to initialize.\u001b[0m\u001b[0;34m\u001b[0m\u001b[0;34m\u001b[0m\u001b[0;34m\u001b[0m\u001b[0m\n\u001b[1;32m    822\u001b[0m       \u001b[0minitializers\u001b[0m \u001b[0;34m=\u001b[0m \u001b[0;34m[\u001b[0m\u001b[0;34m]\u001b[0m\u001b[0;34m\u001b[0m\u001b[0;34m\u001b[0m\u001b[0m\n\u001b[0;32m--> 823\u001b[0;31m       \u001b[0mself\u001b[0m\u001b[0;34m.\u001b[0m\u001b[0m_initialize\u001b[0m\u001b[0;34m(\u001b[0m\u001b[0margs\u001b[0m\u001b[0;34m,\u001b[0m \u001b[0mkwds\u001b[0m\u001b[0;34m,\u001b[0m \u001b[0madd_initializers_to\u001b[0m\u001b[0;34m=\u001b[0m\u001b[0minitializers\u001b[0m\u001b[0;34m)\u001b[0m\u001b[0;34m\u001b[0m\u001b[0;34m\u001b[0m\u001b[0m\n\u001b[0m\u001b[1;32m    824\u001b[0m     \u001b[0;32mfinally\u001b[0m\u001b[0;34m:\u001b[0m\u001b[0;34m\u001b[0m\u001b[0;34m\u001b[0m\u001b[0m\n\u001b[1;32m    825\u001b[0m       \u001b[0;31m# At this point we know that the initialization is complete (or less\u001b[0m\u001b[0;34m\u001b[0m\u001b[0;34m\u001b[0m\u001b[0;34m\u001b[0m\u001b[0m\n",
            "\u001b[0;32m/usr/local/lib/python3.6/dist-packages/tensorflow/python/eager/def_function.py\u001b[0m in \u001b[0;36m_initialize\u001b[0;34m(self, args, kwds, add_initializers_to)\u001b[0m\n\u001b[1;32m    695\u001b[0m     self._concrete_stateful_fn = (\n\u001b[1;32m    696\u001b[0m         self._stateful_fn._get_concrete_function_internal_garbage_collected(  # pylint: disable=protected-access\n\u001b[0;32m--> 697\u001b[0;31m             *args, **kwds))\n\u001b[0m\u001b[1;32m    698\u001b[0m \u001b[0;34m\u001b[0m\u001b[0m\n\u001b[1;32m    699\u001b[0m     \u001b[0;32mdef\u001b[0m \u001b[0minvalid_creator_scope\u001b[0m\u001b[0;34m(\u001b[0m\u001b[0;34m*\u001b[0m\u001b[0munused_args\u001b[0m\u001b[0;34m,\u001b[0m \u001b[0;34m**\u001b[0m\u001b[0munused_kwds\u001b[0m\u001b[0;34m)\u001b[0m\u001b[0;34m:\u001b[0m\u001b[0;34m\u001b[0m\u001b[0;34m\u001b[0m\u001b[0m\n",
            "\u001b[0;32m/usr/local/lib/python3.6/dist-packages/tensorflow/python/eager/function.py\u001b[0m in \u001b[0;36m_get_concrete_function_internal_garbage_collected\u001b[0;34m(self, *args, **kwargs)\u001b[0m\n\u001b[1;32m   2853\u001b[0m       \u001b[0margs\u001b[0m\u001b[0;34m,\u001b[0m \u001b[0mkwargs\u001b[0m \u001b[0;34m=\u001b[0m \u001b[0;32mNone\u001b[0m\u001b[0;34m,\u001b[0m \u001b[0;32mNone\u001b[0m\u001b[0;34m\u001b[0m\u001b[0;34m\u001b[0m\u001b[0m\n\u001b[1;32m   2854\u001b[0m     \u001b[0;32mwith\u001b[0m \u001b[0mself\u001b[0m\u001b[0;34m.\u001b[0m\u001b[0m_lock\u001b[0m\u001b[0;34m:\u001b[0m\u001b[0;34m\u001b[0m\u001b[0;34m\u001b[0m\u001b[0m\n\u001b[0;32m-> 2855\u001b[0;31m       \u001b[0mgraph_function\u001b[0m\u001b[0;34m,\u001b[0m \u001b[0m_\u001b[0m\u001b[0;34m,\u001b[0m \u001b[0m_\u001b[0m \u001b[0;34m=\u001b[0m \u001b[0mself\u001b[0m\u001b[0;34m.\u001b[0m\u001b[0m_maybe_define_function\u001b[0m\u001b[0;34m(\u001b[0m\u001b[0margs\u001b[0m\u001b[0;34m,\u001b[0m \u001b[0mkwargs\u001b[0m\u001b[0;34m)\u001b[0m\u001b[0;34m\u001b[0m\u001b[0;34m\u001b[0m\u001b[0m\n\u001b[0m\u001b[1;32m   2856\u001b[0m     \u001b[0;32mreturn\u001b[0m \u001b[0mgraph_function\u001b[0m\u001b[0;34m\u001b[0m\u001b[0;34m\u001b[0m\u001b[0m\n\u001b[1;32m   2857\u001b[0m \u001b[0;34m\u001b[0m\u001b[0m\n",
            "\u001b[0;32m/usr/local/lib/python3.6/dist-packages/tensorflow/python/eager/function.py\u001b[0m in \u001b[0;36m_maybe_define_function\u001b[0;34m(self, args, kwargs)\u001b[0m\n\u001b[1;32m   3211\u001b[0m \u001b[0;34m\u001b[0m\u001b[0m\n\u001b[1;32m   3212\u001b[0m       \u001b[0mself\u001b[0m\u001b[0;34m.\u001b[0m\u001b[0m_function_cache\u001b[0m\u001b[0;34m.\u001b[0m\u001b[0mmissed\u001b[0m\u001b[0;34m.\u001b[0m\u001b[0madd\u001b[0m\u001b[0;34m(\u001b[0m\u001b[0mcall_context_key\u001b[0m\u001b[0;34m)\u001b[0m\u001b[0;34m\u001b[0m\u001b[0;34m\u001b[0m\u001b[0m\n\u001b[0;32m-> 3213\u001b[0;31m       \u001b[0mgraph_function\u001b[0m \u001b[0;34m=\u001b[0m \u001b[0mself\u001b[0m\u001b[0;34m.\u001b[0m\u001b[0m_create_graph_function\u001b[0m\u001b[0;34m(\u001b[0m\u001b[0margs\u001b[0m\u001b[0;34m,\u001b[0m \u001b[0mkwargs\u001b[0m\u001b[0;34m)\u001b[0m\u001b[0;34m\u001b[0m\u001b[0;34m\u001b[0m\u001b[0m\n\u001b[0m\u001b[1;32m   3214\u001b[0m       \u001b[0mself\u001b[0m\u001b[0;34m.\u001b[0m\u001b[0m_function_cache\u001b[0m\u001b[0;34m.\u001b[0m\u001b[0mprimary\u001b[0m\u001b[0;34m[\u001b[0m\u001b[0mcache_key\u001b[0m\u001b[0;34m]\u001b[0m \u001b[0;34m=\u001b[0m \u001b[0mgraph_function\u001b[0m\u001b[0;34m\u001b[0m\u001b[0;34m\u001b[0m\u001b[0m\n\u001b[1;32m   3215\u001b[0m       \u001b[0;32mreturn\u001b[0m \u001b[0mgraph_function\u001b[0m\u001b[0;34m,\u001b[0m \u001b[0margs\u001b[0m\u001b[0;34m,\u001b[0m \u001b[0mkwargs\u001b[0m\u001b[0;34m\u001b[0m\u001b[0;34m\u001b[0m\u001b[0m\n",
            "\u001b[0;32m/usr/local/lib/python3.6/dist-packages/tensorflow/python/eager/function.py\u001b[0m in \u001b[0;36m_create_graph_function\u001b[0;34m(self, args, kwargs, override_flat_arg_shapes)\u001b[0m\n\u001b[1;32m   3073\u001b[0m             \u001b[0marg_names\u001b[0m\u001b[0;34m=\u001b[0m\u001b[0marg_names\u001b[0m\u001b[0;34m,\u001b[0m\u001b[0;34m\u001b[0m\u001b[0;34m\u001b[0m\u001b[0m\n\u001b[1;32m   3074\u001b[0m             \u001b[0moverride_flat_arg_shapes\u001b[0m\u001b[0;34m=\u001b[0m\u001b[0moverride_flat_arg_shapes\u001b[0m\u001b[0;34m,\u001b[0m\u001b[0;34m\u001b[0m\u001b[0;34m\u001b[0m\u001b[0m\n\u001b[0;32m-> 3075\u001b[0;31m             capture_by_value=self._capture_by_value),\n\u001b[0m\u001b[1;32m   3076\u001b[0m         \u001b[0mself\u001b[0m\u001b[0;34m.\u001b[0m\u001b[0m_function_attributes\u001b[0m\u001b[0;34m,\u001b[0m\u001b[0;34m\u001b[0m\u001b[0;34m\u001b[0m\u001b[0m\n\u001b[1;32m   3077\u001b[0m         \u001b[0mfunction_spec\u001b[0m\u001b[0;34m=\u001b[0m\u001b[0mself\u001b[0m\u001b[0;34m.\u001b[0m\u001b[0mfunction_spec\u001b[0m\u001b[0;34m,\u001b[0m\u001b[0;34m\u001b[0m\u001b[0;34m\u001b[0m\u001b[0m\n",
            "\u001b[0;32m/usr/local/lib/python3.6/dist-packages/tensorflow/python/framework/func_graph.py\u001b[0m in \u001b[0;36mfunc_graph_from_py_func\u001b[0;34m(name, python_func, args, kwargs, signature, func_graph, autograph, autograph_options, add_control_dependencies, arg_names, op_return_value, collections, capture_by_value, override_flat_arg_shapes)\u001b[0m\n\u001b[1;32m    984\u001b[0m         \u001b[0m_\u001b[0m\u001b[0;34m,\u001b[0m \u001b[0moriginal_func\u001b[0m \u001b[0;34m=\u001b[0m \u001b[0mtf_decorator\u001b[0m\u001b[0;34m.\u001b[0m\u001b[0munwrap\u001b[0m\u001b[0;34m(\u001b[0m\u001b[0mpython_func\u001b[0m\u001b[0;34m)\u001b[0m\u001b[0;34m\u001b[0m\u001b[0;34m\u001b[0m\u001b[0m\n\u001b[1;32m    985\u001b[0m \u001b[0;34m\u001b[0m\u001b[0m\n\u001b[0;32m--> 986\u001b[0;31m       \u001b[0mfunc_outputs\u001b[0m \u001b[0;34m=\u001b[0m \u001b[0mpython_func\u001b[0m\u001b[0;34m(\u001b[0m\u001b[0;34m*\u001b[0m\u001b[0mfunc_args\u001b[0m\u001b[0;34m,\u001b[0m \u001b[0;34m**\u001b[0m\u001b[0mfunc_kwargs\u001b[0m\u001b[0;34m)\u001b[0m\u001b[0;34m\u001b[0m\u001b[0;34m\u001b[0m\u001b[0m\n\u001b[0m\u001b[1;32m    987\u001b[0m \u001b[0;34m\u001b[0m\u001b[0m\n\u001b[1;32m    988\u001b[0m       \u001b[0;31m# invariant: `func_outputs` contains only Tensors, CompositeTensors,\u001b[0m\u001b[0;34m\u001b[0m\u001b[0;34m\u001b[0m\u001b[0;34m\u001b[0m\u001b[0m\n",
            "\u001b[0;32m/usr/local/lib/python3.6/dist-packages/tensorflow/python/eager/def_function.py\u001b[0m in \u001b[0;36mwrapped_fn\u001b[0;34m(*args, **kwds)\u001b[0m\n\u001b[1;32m    598\u001b[0m         \u001b[0;31m# __wrapped__ allows AutoGraph to swap in a converted function. We give\u001b[0m\u001b[0;34m\u001b[0m\u001b[0;34m\u001b[0m\u001b[0;34m\u001b[0m\u001b[0m\n\u001b[1;32m    599\u001b[0m         \u001b[0;31m# the function a weak reference to itself to avoid a reference cycle.\u001b[0m\u001b[0;34m\u001b[0m\u001b[0;34m\u001b[0m\u001b[0;34m\u001b[0m\u001b[0m\n\u001b[0;32m--> 600\u001b[0;31m         \u001b[0;32mreturn\u001b[0m \u001b[0mweak_wrapped_fn\u001b[0m\u001b[0;34m(\u001b[0m\u001b[0;34m)\u001b[0m\u001b[0;34m.\u001b[0m\u001b[0m__wrapped__\u001b[0m\u001b[0;34m(\u001b[0m\u001b[0;34m*\u001b[0m\u001b[0margs\u001b[0m\u001b[0;34m,\u001b[0m \u001b[0;34m**\u001b[0m\u001b[0mkwds\u001b[0m\u001b[0;34m)\u001b[0m\u001b[0;34m\u001b[0m\u001b[0;34m\u001b[0m\u001b[0m\n\u001b[0m\u001b[1;32m    601\u001b[0m     \u001b[0mweak_wrapped_fn\u001b[0m \u001b[0;34m=\u001b[0m \u001b[0mweakref\u001b[0m\u001b[0;34m.\u001b[0m\u001b[0mref\u001b[0m\u001b[0;34m(\u001b[0m\u001b[0mwrapped_fn\u001b[0m\u001b[0;34m)\u001b[0m\u001b[0;34m\u001b[0m\u001b[0;34m\u001b[0m\u001b[0m\n\u001b[1;32m    602\u001b[0m \u001b[0;34m\u001b[0m\u001b[0m\n",
            "\u001b[0;32m/usr/local/lib/python3.6/dist-packages/tensorflow/python/framework/func_graph.py\u001b[0m in \u001b[0;36mwrapper\u001b[0;34m(*args, **kwargs)\u001b[0m\n\u001b[1;32m    971\u001b[0m           \u001b[0;32mexcept\u001b[0m \u001b[0mException\u001b[0m \u001b[0;32mas\u001b[0m \u001b[0me\u001b[0m\u001b[0;34m:\u001b[0m  \u001b[0;31m# pylint:disable=broad-except\u001b[0m\u001b[0;34m\u001b[0m\u001b[0;34m\u001b[0m\u001b[0m\n\u001b[1;32m    972\u001b[0m             \u001b[0;32mif\u001b[0m \u001b[0mhasattr\u001b[0m\u001b[0;34m(\u001b[0m\u001b[0me\u001b[0m\u001b[0;34m,\u001b[0m \u001b[0;34m\"ag_error_metadata\"\u001b[0m\u001b[0;34m)\u001b[0m\u001b[0;34m:\u001b[0m\u001b[0;34m\u001b[0m\u001b[0;34m\u001b[0m\u001b[0m\n\u001b[0;32m--> 973\u001b[0;31m               \u001b[0;32mraise\u001b[0m \u001b[0me\u001b[0m\u001b[0;34m.\u001b[0m\u001b[0mag_error_metadata\u001b[0m\u001b[0;34m.\u001b[0m\u001b[0mto_exception\u001b[0m\u001b[0;34m(\u001b[0m\u001b[0me\u001b[0m\u001b[0;34m)\u001b[0m\u001b[0;34m\u001b[0m\u001b[0;34m\u001b[0m\u001b[0m\n\u001b[0m\u001b[1;32m    974\u001b[0m             \u001b[0;32melse\u001b[0m\u001b[0;34m:\u001b[0m\u001b[0;34m\u001b[0m\u001b[0;34m\u001b[0m\u001b[0m\n\u001b[1;32m    975\u001b[0m               \u001b[0;32mraise\u001b[0m\u001b[0;34m\u001b[0m\u001b[0;34m\u001b[0m\u001b[0m\n",
            "\u001b[0;31mValueError\u001b[0m: in user code:\n\n    /usr/local/lib/python3.6/dist-packages/tensorflow/python/keras/engine/training.py:806 train_function  *\n        return step_function(self, iterator)\n    /usr/local/lib/python3.6/dist-packages/tensorflow/python/keras/engine/training.py:796 step_function  **\n        outputs = model.distribute_strategy.run(run_step, args=(data,))\n    /usr/local/lib/python3.6/dist-packages/tensorflow/python/distribute/distribute_lib.py:1211 run\n        return self._extended.call_for_each_replica(fn, args=args, kwargs=kwargs)\n    /usr/local/lib/python3.6/dist-packages/tensorflow/python/distribute/distribute_lib.py:2585 call_for_each_replica\n        return self._call_for_each_replica(fn, args, kwargs)\n    /usr/local/lib/python3.6/dist-packages/tensorflow/python/distribute/distribute_lib.py:2945 _call_for_each_replica\n        return fn(*args, **kwargs)\n    /usr/local/lib/python3.6/dist-packages/tensorflow/python/keras/engine/training.py:789 run_step  **\n        outputs = model.train_step(data)\n    /usr/local/lib/python3.6/dist-packages/tensorflow/python/keras/engine/training.py:749 train_step\n        y, y_pred, sample_weight, regularization_losses=self.losses)\n    /usr/local/lib/python3.6/dist-packages/tensorflow/python/keras/engine/compile_utils.py:204 __call__\n        loss_value = loss_obj(y_t, y_p, sample_weight=sw)\n    /usr/local/lib/python3.6/dist-packages/tensorflow/python/keras/losses.py:149 __call__\n        losses = ag_call(y_true, y_pred)\n    /usr/local/lib/python3.6/dist-packages/tensorflow/python/keras/losses.py:253 call  **\n        return ag_fn(y_true, y_pred, **self._fn_kwargs)\n    /usr/local/lib/python3.6/dist-packages/tensorflow/python/util/dispatch.py:201 wrapper\n        return target(*args, **kwargs)\n    /usr/local/lib/python3.6/dist-packages/tensorflow/python/keras/losses.py:1567 sparse_categorical_crossentropy\n        y_true, y_pred, from_logits=from_logits, axis=axis)\n    /usr/local/lib/python3.6/dist-packages/tensorflow/python/util/dispatch.py:201 wrapper\n        return target(*args, **kwargs)\n    /usr/local/lib/python3.6/dist-packages/tensorflow/python/keras/backend.py:4783 sparse_categorical_crossentropy\n        labels=target, logits=output)\n    /usr/local/lib/python3.6/dist-packages/tensorflow/python/util/dispatch.py:201 wrapper\n        return target(*args, **kwargs)\n    /usr/local/lib/python3.6/dist-packages/tensorflow/python/ops/nn_ops.py:4176 sparse_softmax_cross_entropy_with_logits_v2\n        labels=labels, logits=logits, name=name)\n    /usr/local/lib/python3.6/dist-packages/tensorflow/python/util/dispatch.py:201 wrapper\n        return target(*args, **kwargs)\n    /usr/local/lib/python3.6/dist-packages/tensorflow/python/ops/nn_ops.py:4091 sparse_softmax_cross_entropy_with_logits\n        logits.get_shape()))\n\n    ValueError: Shape mismatch: The shape of labels (received (320,)) should equal the shape of logits except for the last dimension (received (32, 10)).\n"
          ]
        }
      ]
    },
    {
      "cell_type": "code",
      "metadata": {
        "id": "v_Ga8fTZxOis"
      },
      "source": [
        "mnist=tf.keras.datasets.mnist\n",
        "(x_train, y_train),(x_test, y_test) = mnist.load_data()\n",
        "    # YOUR CODE SHOULD START HERE\n",
        "x_train=x_train.reshape(-1,784)/255.0\n",
        "y_train=tf.keras.utils.to_categorical(y_train)\n",
        "x_test=x_test.reshape(-1,784)/255.0"
      ],
      "execution_count": null,
      "outputs": []
    },
    {
      "cell_type": "code",
      "metadata": {
        "id": "YAzIZVNtxi4J",
        "colab": {
          "base_uri": "https://localhost:8080/",
          "height": 34
        },
        "outputId": "e260f4b7-cc49-4203-dee7-09198263c606"
      },
      "source": [
        "x_train.shape"
      ],
      "execution_count": null,
      "outputs": [
        {
          "output_type": "execute_result",
          "data": {
            "text/plain": [
              "(60000, 784)"
            ]
          },
          "metadata": {
            "tags": []
          },
          "execution_count": 127
        }
      ]
    },
    {
      "cell_type": "code",
      "metadata": {
        "id": "0tKW6poUxzvb",
        "colab": {
          "base_uri": "https://localhost:8080/",
          "height": 34
        },
        "outputId": "e64db6df-4ad4-41a2-8668-db24fd3fe09c"
      },
      "source": [
        "y_train.shape"
      ],
      "execution_count": null,
      "outputs": [
        {
          "output_type": "execute_result",
          "data": {
            "text/plain": [
              "(60000, 10)"
            ]
          },
          "metadata": {
            "tags": []
          },
          "execution_count": 129
        }
      ]
    },
    {
      "cell_type": "code",
      "metadata": {
        "id": "m8dIzWqfyAYU"
      },
      "source": [],
      "execution_count": null,
      "outputs": []
    }
  ]
}