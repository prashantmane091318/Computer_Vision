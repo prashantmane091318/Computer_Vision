{
  "nbformat": 4,
  "nbformat_minor": 0,
  "metadata": {
    "colab": {
      "provenance": [],
      "include_colab_link": true
    },
    "kernelspec": {
      "name": "python3",
      "display_name": "Python 3"
    },
    "accelerator": "GPU"
  },
  "cells": [
    {
      "cell_type": "markdown",
      "metadata": {
        "id": "view-in-github",
        "colab_type": "text"
      },
      "source": [
        "<a href=\"https://colab.research.google.com/github/prashantmane091318/Computer_Vision/blob/main/Traffic_signal_prediction_using_CNN.ipynb\" target=\"_parent\"><img src=\"https://colab.research.google.com/assets/colab-badge.svg\" alt=\"Open In Colab\"/></a>"
      ]
    },
    {
      "cell_type": "code",
      "metadata": {
        "id": "ZAlE8HCLuxk0"
      },
      "source": [
        "import pandas as pd"
      ],
      "execution_count": null,
      "outputs": []
    },
    {
      "cell_type": "code",
      "metadata": {
        "id": "zP8fzV32jiZA"
      },
      "source": [
        "from google.colab import drive\n",
        "drive.mount('/content/drive')"
      ],
      "execution_count": null,
      "outputs": []
    },
    {
      "cell_type": "code",
      "metadata": {
        "id": "0meZMuUCu8EW"
      },
      "source": [
        "file1_test=\"/content/drive/My Drive/Dataset/test.p\"\n",
        "file2_valid=\"/content/drive/My Drive/Dataset/valid.p\"\n",
        "file3_train=\"/content/drive/My Drive/Dataset/train.p\""
      ],
      "execution_count": null,
      "outputs": []
    },
    {
      "cell_type": "code",
      "metadata": {
        "id": "W-U7X8Vu0gGG"
      },
      "source": [
        "import pickle"
      ],
      "execution_count": null,
      "outputs": []
    },
    {
      "cell_type": "code",
      "metadata": {
        "id": "N8zaOZ7W0i1f"
      },
      "source": [
        "f_test=open(file1_test,\"rb\")"
      ],
      "execution_count": null,
      "outputs": []
    },
    {
      "cell_type": "code",
      "metadata": {
        "id": "fVkxanEQ0wRO"
      },
      "source": [
        "f_valid=open(file2_valid,\"rb\")"
      ],
      "execution_count": null,
      "outputs": []
    },
    {
      "cell_type": "code",
      "metadata": {
        "id": "F-4xB0uy00NC"
      },
      "source": [
        "f_train=open(file3_train,\"rb\")"
      ],
      "execution_count": null,
      "outputs": []
    },
    {
      "cell_type": "code",
      "metadata": {
        "id": "bscsTpFz0-RO"
      },
      "source": [
        "df_test=pickle.load(f_test)"
      ],
      "execution_count": null,
      "outputs": []
    },
    {
      "cell_type": "code",
      "metadata": {
        "id": "nxquRD8y1EIi"
      },
      "source": [
        "df_valid=pickle.load(f_valid)"
      ],
      "execution_count": null,
      "outputs": []
    },
    {
      "cell_type": "code",
      "metadata": {
        "id": "5or8RBRE1jrB"
      },
      "source": [
        "df_train=pickle.load(f_train)"
      ],
      "execution_count": null,
      "outputs": []
    },
    {
      "cell_type": "code",
      "metadata": {
        "id": "kAw5lff91pgw",
        "colab": {
          "base_uri": "https://localhost:8080/",
          "height": 1000
        },
        "outputId": "78683cd6-3d48-43cd-d726-a1ccfd426e0e"
      },
      "source": [
        "df_test"
      ],
      "execution_count": null,
      "outputs": [
        {
          "output_type": "execute_result",
          "data": {
            "text/plain": [
              "{'coords': array([[ 6,  5, 48, 49],\n",
              "        [ 5,  5, 36, 40],\n",
              "        [ 6,  6, 43, 47],\n",
              "        ...,\n",
              "        [ 6,  6, 24, 24],\n",
              "        [ 5,  6, 43, 44],\n",
              "        [ 6,  5, 27, 26]], dtype=uint8), 'features': array([[[[116, 139, 174],\n",
              "          [116, 137, 171],\n",
              "          [118, 138, 172],\n",
              "          ...,\n",
              "          [ 98, 114, 143],\n",
              "          [ 97, 121, 147],\n",
              "          [ 85, 105, 130]],\n",
              " \n",
              "         [[115, 142, 176],\n",
              "          [115, 140, 174],\n",
              "          [117, 141, 175],\n",
              "          ...,\n",
              "          [119, 143, 176],\n",
              "          [120, 141, 173],\n",
              "          [120, 139, 171]],\n",
              " \n",
              "         [[117, 141, 174],\n",
              "          [117, 142, 175],\n",
              "          [114, 140, 172],\n",
              "          ...,\n",
              "          [120, 144, 179],\n",
              "          [122, 144, 179],\n",
              "          [120, 143, 177]],\n",
              " \n",
              "         ...,\n",
              " \n",
              "         [[117, 137, 167],\n",
              "          [115, 134, 164],\n",
              "          [117, 135, 164],\n",
              "          ...,\n",
              "          [115, 137, 169],\n",
              "          [116, 136, 168],\n",
              "          [118, 139, 172]],\n",
              " \n",
              "         [[116, 136, 166],\n",
              "          [114, 134, 168],\n",
              "          [113, 131, 166],\n",
              "          ...,\n",
              "          [113, 135, 167],\n",
              "          [117, 136, 165],\n",
              "          [115, 139, 167]],\n",
              " \n",
              "         [[112, 135, 167],\n",
              "          [110, 134, 165],\n",
              "          [119, 135, 165],\n",
              "          ...,\n",
              "          [115, 138, 167],\n",
              "          [117, 138, 167],\n",
              "          [114, 140, 170]]],\n",
              " \n",
              " \n",
              "        [[[ 59,  70,  61],\n",
              "          [ 87,  80,  63],\n",
              "          [ 92,  81,  63],\n",
              "          ...,\n",
              "          [ 77,  64,  67],\n",
              "          [ 71,  65,  67],\n",
              "          [ 74,  69,  68]],\n",
              " \n",
              "         [[ 59,  68,  58],\n",
              "          [ 94,  83,  65],\n",
              "          [ 95,  80,  62],\n",
              "          ...,\n",
              "          [ 77,  64,  66],\n",
              "          [ 92,  69,  70],\n",
              "          [ 85,  68,  68]],\n",
              " \n",
              "         [[ 56,  68,  58],\n",
              "          [ 90,  84,  67],\n",
              "          [ 95,  82,  64],\n",
              "          ...,\n",
              "          [ 72,  65,  66],\n",
              "          [ 80,  67,  69],\n",
              "          [ 79,  69,  70]],\n",
              " \n",
              "         ...,\n",
              " \n",
              "         [[ 48,  47,  43],\n",
              "          [ 79,  68,  57],\n",
              "          [ 80,  66,  56],\n",
              "          ...,\n",
              "          [ 68,  63,  63],\n",
              "          [ 78,  65,  65],\n",
              "          [ 76,  66,  68]],\n",
              " \n",
              "         [[ 49,  46,  45],\n",
              "          [ 78,  66,  61],\n",
              "          [ 78,  65,  58],\n",
              "          ...,\n",
              "          [ 60,  60,  61],\n",
              "          [ 68,  65,  65],\n",
              "          [ 73,  67,  67]],\n",
              " \n",
              "         [[ 51,  45,  45],\n",
              "          [ 78,  66,  61],\n",
              "          [ 79,  66,  58],\n",
              "          ...,\n",
              "          [ 62,  59,  62],\n",
              "          [ 73,  67,  70],\n",
              "          [ 75,  70,  70]]],\n",
              " \n",
              " \n",
              "        [[[ 52,  40,  38],\n",
              "          [ 51,  39,  37],\n",
              "          [ 50,  38,  37],\n",
              "          ...,\n",
              "          [ 53,  44,  46],\n",
              "          [ 54,  45,  48],\n",
              "          [ 55,  45,  48]],\n",
              " \n",
              "         [[ 59,  45,  42],\n",
              "          [ 59,  44,  41],\n",
              "          [ 56,  44,  40],\n",
              "          ...,\n",
              "          [ 52,  41,  42],\n",
              "          [ 54,  44,  45],\n",
              "          [ 55,  46,  45]],\n",
              " \n",
              "         [[ 67,  49,  44],\n",
              "          [ 65,  50,  45],\n",
              "          [ 65,  49,  45],\n",
              "          ...,\n",
              "          [ 57,  42,  39],\n",
              "          [ 55,  42,  40],\n",
              "          [ 56,  43,  40]],\n",
              " \n",
              "         ...,\n",
              " \n",
              "         [[ 28,  24,  26],\n",
              "          [ 29,  25,  27],\n",
              "          [ 29,  27,  30],\n",
              "          ...,\n",
              "          [ 27,  24,  24],\n",
              "          [ 28,  25,  24],\n",
              "          [ 29,  27,  27]],\n",
              " \n",
              "         [[ 31,  28,  29],\n",
              "          [ 37,  32,  34],\n",
              "          [ 41,  35,  37],\n",
              "          ...,\n",
              "          [ 34,  31,  28],\n",
              "          [ 42,  40,  38],\n",
              "          [ 47,  45,  45]],\n",
              " \n",
              "         [[ 32,  29,  30],\n",
              "          [ 33,  28,  28],\n",
              "          [ 44,  34,  32],\n",
              "          ...,\n",
              "          [ 41,  40,  38],\n",
              "          [ 44,  43,  43],\n",
              "          [ 47,  46,  44]]],\n",
              " \n",
              " \n",
              "        ...,\n",
              " \n",
              " \n",
              "        [[[ 24,  27,  34],\n",
              "          [ 23,  25,  32],\n",
              "          [ 24,  25,  32],\n",
              "          ...,\n",
              "          [ 26,  27,  33],\n",
              "          [ 26,  27,  34],\n",
              "          [ 26,  27,  34]],\n",
              " \n",
              "         [[ 25,  26,  33],\n",
              "          [ 25,  26,  34],\n",
              "          [ 25,  26,  33],\n",
              "          ...,\n",
              "          [ 26,  27,  34],\n",
              "          [ 27,  27,  35],\n",
              "          [ 28,  28,  36]],\n",
              " \n",
              "         [[ 26,  26,  32],\n",
              "          [ 25,  25,  32],\n",
              "          [ 25,  25,  31],\n",
              "          ...,\n",
              "          [ 26,  27,  33],\n",
              "          [ 27,  27,  33],\n",
              "          [ 27,  26,  34]],\n",
              " \n",
              "         ...,\n",
              " \n",
              "         [[ 16,  17,  21],\n",
              "          [ 15,  16,  21],\n",
              "          [ 14,  16,  21],\n",
              "          ...,\n",
              "          [ 19,  21,  30],\n",
              "          [ 20,  22,  32],\n",
              "          [ 19,  21,  30]],\n",
              " \n",
              "         [[ 16,  17,  22],\n",
              "          [ 15,  16,  21],\n",
              "          [ 14,  16,  21],\n",
              "          ...,\n",
              "          [ 19,  21,  30],\n",
              "          [ 20,  22,  32],\n",
              "          [ 19,  22,  32]],\n",
              " \n",
              "         [[ 15,  16,  21],\n",
              "          [ 15,  16,  21],\n",
              "          [ 14,  16,  21],\n",
              "          ...,\n",
              "          [ 18,  21,  30],\n",
              "          [ 19,  22,  32],\n",
              "          [ 18,  22,  31]]],\n",
              " \n",
              " \n",
              "        [[[ 47,  58,  73],\n",
              "          [ 49,  53,  67],\n",
              "          [ 59,  57,  63],\n",
              "          ...,\n",
              "          [ 39,  36,  44],\n",
              "          [ 12,  10,  12],\n",
              "          [ 10,   9,  12]],\n",
              " \n",
              "         [[ 61,  68,  84],\n",
              "          [ 61,  58,  72],\n",
              "          [ 60,  57,  67],\n",
              "          ...,\n",
              "          [ 26,  23,  31],\n",
              "          [ 12,  10,   8],\n",
              "          [ 11,   9,  11]],\n",
              " \n",
              "         [[ 66,  75,  93],\n",
              "          [ 72,  79,  99],\n",
              "          [ 67,  73,  94],\n",
              "          ...,\n",
              "          [ 36,  36,  38],\n",
              "          [ 25,  21,  14],\n",
              "          [ 13,   9,  10]],\n",
              " \n",
              "         ...,\n",
              " \n",
              "         [[ 16,  16,  19],\n",
              "          [ 15,  15,  18],\n",
              "          [ 14,  13,  17],\n",
              "          ...,\n",
              "          [ 32,  31,  37],\n",
              "          [ 36,  37,  44],\n",
              "          [ 24,  24,  23]],\n",
              " \n",
              "         [[ 13,  12,  15],\n",
              "          [ 13,  12,  14],\n",
              "          [ 12,  11,  13],\n",
              "          ...,\n",
              "          [ 26,  28,  33],\n",
              "          [ 32,  35,  39],\n",
              "          [ 28,  27,  24]],\n",
              " \n",
              "         [[ 12,  11,  14],\n",
              "          [ 12,  11,  14],\n",
              "          [ 12,  10,  12],\n",
              "          ...,\n",
              "          [ 28,  32,  40],\n",
              "          [ 36,  37,  40],\n",
              "          [ 29,  27,  22]]],\n",
              " \n",
              " \n",
              "        [[[ 10,  10,  13],\n",
              "          [ 10,  10,  13],\n",
              "          [ 10,   9,  12],\n",
              "          ...,\n",
              "          [ 13,  12,  15],\n",
              "          [ 13,  12,  15],\n",
              "          [ 13,  12,  16]],\n",
              " \n",
              "         [[ 12,  11,  14],\n",
              "          [  9,   9,  12],\n",
              "          [  9,   9,  12],\n",
              "          ...,\n",
              "          [ 13,  12,  14],\n",
              "          [ 13,  12,  15],\n",
              "          [ 13,  12,  16]],\n",
              " \n",
              "         [[ 11,   9,  11],\n",
              "          [  9,   8,  11],\n",
              "          [  9,   9,  12],\n",
              "          ...,\n",
              "          [ 13,  12,  14],\n",
              "          [ 13,  12,  15],\n",
              "          [ 13,  12,  16]],\n",
              " \n",
              "         ...,\n",
              " \n",
              "         [[ 11,   9,  13],\n",
              "          [ 10,   9,  12],\n",
              "          [ 11,  10,  13],\n",
              "          ...,\n",
              "          [ 11,  10,  13],\n",
              "          [ 10,   9,  12],\n",
              "          [ 12,  11,  14]],\n",
              " \n",
              "         [[ 11,  10,  14],\n",
              "          [ 11,  10,  14],\n",
              "          [ 11,  10,  14],\n",
              "          ...,\n",
              "          [  9,   9,  12],\n",
              "          [  9,   9,  11],\n",
              "          [ 12,  11,  13]],\n",
              " \n",
              "         [[ 10,  10,  13],\n",
              "          [ 10,   9,  12],\n",
              "          [ 11,   9,  12],\n",
              "          ...,\n",
              "          [ 10,  10,  13],\n",
              "          [  9,  10,  12],\n",
              "          [ 11,  11,  13]]]], dtype=uint8), 'labels': array([16,  1, 38, ...,  6,  7, 10], dtype=uint8), 'sizes': array([[53, 54],\n",
              "        [42, 45],\n",
              "        [48, 52],\n",
              "        ...,\n",
              "        [29, 29],\n",
              "        [48, 49],\n",
              "        [32, 31]], dtype=uint8)}"
            ]
          },
          "metadata": {
            "tags": []
          },
          "execution_count": 47
        }
      ]
    },
    {
      "cell_type": "code",
      "metadata": {
        "id": "VTxZQjfm1uoi",
        "colab": {
          "base_uri": "https://localhost:8080/",
          "height": 34
        },
        "outputId": "b1a1f1b5-2b77-4d9a-dafa-073bdb786e52"
      },
      "source": [
        "df_test.keys()"
      ],
      "execution_count": null,
      "outputs": [
        {
          "output_type": "execute_result",
          "data": {
            "text/plain": [
              "dict_keys(['sizes', 'coords', 'features', 'labels'])"
            ]
          },
          "metadata": {
            "tags": []
          },
          "execution_count": 48
        }
      ]
    },
    {
      "cell_type": "code",
      "metadata": {
        "id": "MynWmwmv2S2W"
      },
      "source": [
        "xtest,ytest=df_test[\"features\"],df_test[\"labels\"]"
      ],
      "execution_count": null,
      "outputs": []
    },
    {
      "cell_type": "code",
      "metadata": {
        "id": "yueH4KJF2eTX",
        "colab": {
          "base_uri": "https://localhost:8080/",
          "height": 34
        },
        "outputId": "4a2f6fb0-65e6-407f-de52-213b041a9155"
      },
      "source": [
        "xtest.shape,ytest.shape"
      ],
      "execution_count": null,
      "outputs": [
        {
          "output_type": "execute_result",
          "data": {
            "text/plain": [
              "((12630, 32, 32, 3), (12630,))"
            ]
          },
          "metadata": {
            "tags": []
          },
          "execution_count": 11
        }
      ]
    },
    {
      "cell_type": "code",
      "metadata": {
        "id": "_u_GpC7a2f8K",
        "colab": {
          "base_uri": "https://localhost:8080/",
          "height": 34
        },
        "outputId": "7b8d58cd-af5f-44e7-aebc-a7ad319de848"
      },
      "source": [
        "ytest"
      ],
      "execution_count": null,
      "outputs": [
        {
          "output_type": "execute_result",
          "data": {
            "text/plain": [
              "array([16,  1, 38, ...,  6,  7, 10], dtype=uint8)"
            ]
          },
          "metadata": {
            "tags": []
          },
          "execution_count": 12
        }
      ]
    },
    {
      "cell_type": "code",
      "metadata": {
        "id": "2e3HLVGq2mvy"
      },
      "source": [
        "xvalid,yvalid=df_valid[\"features\"],df_valid[\"labels\"]"
      ],
      "execution_count": null,
      "outputs": []
    },
    {
      "cell_type": "code",
      "metadata": {
        "id": "c-607M-b2yI6",
        "colab": {
          "base_uri": "https://localhost:8080/",
          "height": 34
        },
        "outputId": "335a96df-c35b-4e07-e638-de10562e30ff"
      },
      "source": [
        "xvalid.shape,yvalid.shape"
      ],
      "execution_count": null,
      "outputs": [
        {
          "output_type": "execute_result",
          "data": {
            "text/plain": [
              "((4410, 32, 32, 3), (4410,))"
            ]
          },
          "metadata": {
            "tags": []
          },
          "execution_count": 53
        }
      ]
    },
    {
      "cell_type": "code",
      "metadata": {
        "id": "9xBEBza_21Wf",
        "colab": {
          "base_uri": "https://localhost:8080/",
          "height": 34
        },
        "outputId": "ca869f90-d225-40cd-9ef0-4ffa63ca5a9e"
      },
      "source": [
        "yvalid"
      ],
      "execution_count": null,
      "outputs": [
        {
          "output_type": "execute_result",
          "data": {
            "text/plain": [
              "array([41, 41, 41, ..., 25, 25, 25], dtype=uint8)"
            ]
          },
          "metadata": {
            "tags": []
          },
          "execution_count": 54
        }
      ]
    },
    {
      "cell_type": "code",
      "metadata": {
        "id": "9-4ypfz123vx"
      },
      "source": [
        "xtrain,ytrain=df_train[\"features\"],df_train[\"labels\"]"
      ],
      "execution_count": null,
      "outputs": []
    },
    {
      "cell_type": "code",
      "metadata": {
        "id": "0RpROx8K3C6r",
        "colab": {
          "base_uri": "https://localhost:8080/",
          "height": 34
        },
        "outputId": "062944b7-8771-4f2a-cf4b-c53028d556f1"
      },
      "source": [
        "xtrain.shape,ytrain.shape"
      ],
      "execution_count": null,
      "outputs": [
        {
          "output_type": "execute_result",
          "data": {
            "text/plain": [
              "((34799, 32, 32, 3), (34799,))"
            ]
          },
          "metadata": {
            "tags": []
          },
          "execution_count": 56
        }
      ]
    },
    {
      "cell_type": "code",
      "metadata": {
        "id": "3MfIPqnL3LRv",
        "colab": {
          "base_uri": "https://localhost:8080/",
          "height": 34
        },
        "outputId": "c8439474-8384-45fa-9a49-63d55d21c05b"
      },
      "source": [
        "ytrain"
      ],
      "execution_count": null,
      "outputs": [
        {
          "output_type": "execute_result",
          "data": {
            "text/plain": [
              "array([41, 41, 41, ..., 25, 25, 25], dtype=uint8)"
            ]
          },
          "metadata": {
            "tags": []
          },
          "execution_count": 57
        }
      ]
    },
    {
      "cell_type": "code",
      "metadata": {
        "id": "STsIleNy3PTk"
      },
      "source": [
        "xtrain=xtrain/255.0"
      ],
      "execution_count": null,
      "outputs": []
    },
    {
      "cell_type": "code",
      "metadata": {
        "id": "yo2l6nZD3e42"
      },
      "source": [
        "xvalid=xvalid/255.0"
      ],
      "execution_count": null,
      "outputs": []
    },
    {
      "cell_type": "code",
      "metadata": {
        "id": "uCNZo0Oh3hzj"
      },
      "source": [
        "xtest=xtest/255.0"
      ],
      "execution_count": null,
      "outputs": []
    },
    {
      "cell_type": "code",
      "metadata": {
        "id": "7GnbHV3o3kCI"
      },
      "source": [
        "import tensorflow as tf"
      ],
      "execution_count": null,
      "outputs": []
    },
    {
      "cell_type": "code",
      "metadata": {
        "id": "XGa31tbr3tVo"
      },
      "source": [
        "ytrain1=tf.keras.utils.to_categorical(ytrain)"
      ],
      "execution_count": null,
      "outputs": []
    },
    {
      "cell_type": "code",
      "metadata": {
        "id": "hI_tB5Un35hF",
        "colab": {
          "base_uri": "https://localhost:8080/",
          "height": 34
        },
        "outputId": "3117f68d-3ec1-40fc-8e96-0ca65cbfddeb"
      },
      "source": [
        "ytrain1.shape"
      ],
      "execution_count": null,
      "outputs": [
        {
          "output_type": "execute_result",
          "data": {
            "text/plain": [
              "(34799, 43)"
            ]
          },
          "metadata": {
            "tags": []
          },
          "execution_count": 20
        }
      ]
    },
    {
      "cell_type": "code",
      "metadata": {
        "id": "8Cw7gh0p37UY",
        "colab": {
          "base_uri": "https://localhost:8080/",
          "height": 68
        },
        "outputId": "b0ef0343-9c7f-4814-bc62-8a1e46b8556e"
      },
      "source": [
        "ytrain1[:1,:]"
      ],
      "execution_count": null,
      "outputs": [
        {
          "output_type": "execute_result",
          "data": {
            "text/plain": [
              "array([[0., 0., 0., 0., 0., 0., 0., 0., 0., 0., 0., 0., 0., 0., 0., 0.,\n",
              "        0., 0., 0., 0., 0., 0., 0., 0., 0., 0., 0., 0., 0., 0., 0., 0.,\n",
              "        0., 0., 0., 0., 0., 0., 0., 0., 0., 1., 0.]], dtype=float32)"
            ]
          },
          "metadata": {
            "tags": []
          },
          "execution_count": 21
        }
      ]
    },
    {
      "cell_type": "code",
      "metadata": {
        "id": "ZMJtt3A94Dzm"
      },
      "source": [
        "yvalid1=tf.keras.utils.to_categorical(yvalid)"
      ],
      "execution_count": null,
      "outputs": []
    },
    {
      "cell_type": "code",
      "metadata": {
        "id": "-npTOghf4cwH",
        "colab": {
          "base_uri": "https://localhost:8080/",
          "height": 34
        },
        "outputId": "7468bd16-42dc-4c7e-8413-82ecac353583"
      },
      "source": [
        "yvalid1.shape"
      ],
      "execution_count": null,
      "outputs": [
        {
          "output_type": "execute_result",
          "data": {
            "text/plain": [
              "(4410, 43)"
            ]
          },
          "metadata": {
            "tags": []
          },
          "execution_count": 66
        }
      ]
    },
    {
      "cell_type": "code",
      "metadata": {
        "id": "5viNLjvk4e7e",
        "colab": {
          "base_uri": "https://localhost:8080/",
          "height": 68
        },
        "outputId": "44f2979e-ddd5-4a14-9195-699afa71674b"
      },
      "source": [
        "yvalid1[:1,::]"
      ],
      "execution_count": null,
      "outputs": [
        {
          "output_type": "execute_result",
          "data": {
            "text/plain": [
              "array([[0., 0., 0., 0., 0., 0., 0., 0., 0., 0., 0., 0., 0., 0., 0., 0.,\n",
              "        0., 0., 0., 0., 0., 0., 0., 0., 0., 0., 0., 0., 0., 0., 0., 0.,\n",
              "        0., 0., 0., 0., 0., 0., 0., 0., 0., 1., 0.]], dtype=float32)"
            ]
          },
          "metadata": {
            "tags": []
          },
          "execution_count": 67
        }
      ]
    },
    {
      "cell_type": "code",
      "metadata": {
        "id": "QZENXVS84ipG"
      },
      "source": [
        "ytest1=tf.keras.utils.to_categorical(ytest)"
      ],
      "execution_count": null,
      "outputs": []
    },
    {
      "cell_type": "code",
      "metadata": {
        "id": "QrMLYYaF4uOe",
        "colab": {
          "base_uri": "https://localhost:8080/",
          "height": 34
        },
        "outputId": "65308abe-d39e-47e5-f9ab-27f8e54e8680"
      },
      "source": [
        "ytest1.shape"
      ],
      "execution_count": null,
      "outputs": [
        {
          "output_type": "execute_result",
          "data": {
            "text/plain": [
              "(12630, 43)"
            ]
          },
          "metadata": {
            "tags": []
          },
          "execution_count": 38
        }
      ]
    },
    {
      "cell_type": "code",
      "metadata": {
        "id": "o4J6SnLo4v0n",
        "colab": {
          "base_uri": "https://localhost:8080/",
          "height": 68
        },
        "outputId": "8a17bd24-e895-424b-9b00-6fff23dcac93"
      },
      "source": [
        "ytest1[:1,:]"
      ],
      "execution_count": null,
      "outputs": [
        {
          "output_type": "execute_result",
          "data": {
            "text/plain": [
              "array([[0., 0., 0., 0., 0., 0., 0., 0., 0., 0., 0., 0., 0., 0., 0., 0.,\n",
              "        1., 0., 0., 0., 0., 0., 0., 0., 0., 0., 0., 0., 0., 0., 0., 0.,\n",
              "        0., 0., 0., 0., 0., 0., 0., 0., 0., 0., 0.]], dtype=float32)"
            ]
          },
          "metadata": {
            "tags": []
          },
          "execution_count": 70
        }
      ]
    },
    {
      "cell_type": "code",
      "metadata": {
        "id": "cgVNnLJR4yc9"
      },
      "source": [
        "import matplotlib.pyplot as plt"
      ],
      "execution_count": null,
      "outputs": []
    },
    {
      "cell_type": "code",
      "metadata": {
        "id": "9ohPcMJh54eH",
        "colab": {
          "base_uri": "https://localhost:8080/",
          "height": 283
        },
        "outputId": "11e97eec-3481-4b62-9a31-29c29fc86f28"
      },
      "source": [
        "plt.imshow(xtest[0])"
      ],
      "execution_count": null,
      "outputs": [
        {
          "output_type": "execute_result",
          "data": {
            "text/plain": [
              "<matplotlib.image.AxesImage at 0x7f270dd14860>"
            ]
          },
          "metadata": {
            "tags": []
          },
          "execution_count": 25
        },
        {
          "output_type": "display_data",
          "data": {
            "image/png": "[encoded data removed]",
            "text/plain": [
              "<Figure size 432x288 with 1 Axes>"
            ]
          },
          "metadata": {
            "tags": [],
            "needs_background": "light"
          }
        }
      ]
    },
    {
      "cell_type": "code",
      "metadata": {
        "id": "Fo1fsX7S57eq",
        "colab": {
          "base_uri": "https://localhost:8080/",
          "height": 34
        },
        "outputId": "cabf321f-252d-41f1-dcec-fbb65c042fb5"
      },
      "source": [
        "ytest[0]"
      ],
      "execution_count": null,
      "outputs": [
        {
          "output_type": "execute_result",
          "data": {
            "text/plain": [
              "16"
            ]
          },
          "metadata": {
            "tags": []
          },
          "execution_count": 73
        }
      ]
    },
    {
      "cell_type": "code",
      "metadata": {
        "id": "7AFHV8Jk5_71"
      },
      "source": [
        "from tensorflow.keras.layers import Dense,Conv2D,Flatten,MaxPool2D"
      ],
      "execution_count": null,
      "outputs": []
    },
    {
      "cell_type": "code",
      "metadata": {
        "id": "1dSqac7-CCi9"
      },
      "source": [
        "import tensorflow as tf"
      ],
      "execution_count": null,
      "outputs": []
    },
    {
      "cell_type": "code",
      "metadata": {
        "id": "EzpSaOfV7UpD"
      },
      "source": [
        "model=tf.keras.models.Sequential()"
      ],
      "execution_count": null,
      "outputs": []
    },
    {
      "cell_type": "code",
      "metadata": {
        "id": "V7mVpSY07cfp"
      },
      "source": [
        "model.add(Conv2D(32,(5,5),activation=\"relu\",input_shape=(32,32,3)))"
      ],
      "execution_count": null,
      "outputs": []
    },
    {
      "cell_type": "code",
      "metadata": {
        "id": "o2EcynFy8xIT"
      },
      "source": [
        "model.add(MaxPool2D((2,2)))"
      ],
      "execution_count": null,
      "outputs": []
    },
    {
      "cell_type": "code",
      "metadata": {
        "id": "vyzZLV_I86Hg"
      },
      "source": [
        "model.add(Conv2D(32,(5,5),activation=\"relu\"))"
      ],
      "execution_count": null,
      "outputs": []
    },
    {
      "cell_type": "code",
      "metadata": {
        "id": "o0cQImIT9vqj"
      },
      "source": [
        "model.add(MaxPool2D(2,2))"
      ],
      "execution_count": null,
      "outputs": []
    },
    {
      "cell_type": "code",
      "metadata": {
        "id": "FUN4RdF_AH-u"
      },
      "source": [
        "model.add(Flatten())"
      ],
      "execution_count": null,
      "outputs": []
    },
    {
      "cell_type": "code",
      "metadata": {
        "id": "ykn8CybUAQdn",
        "colab": {
          "base_uri": "https://localhost:8080/",
          "height": 323
        },
        "outputId": "4c600116-d653-4a82-d0d4-c10e9e3d6dcd"
      },
      "source": [
        "model.summary()"
      ],
      "execution_count": null,
      "outputs": [
        {
          "output_type": "stream",
          "text": [
            "Model: \"sequential\"\n",
            "_________________________________________________________________\n",
            "Layer (type)                 Output Shape              Param #   \n",
            "=================================================================\n",
            "conv2d (Conv2D)              (None, 28, 28, 32)        2432      \n",
            "_________________________________________________________________\n",
            "max_pooling2d (MaxPooling2D) (None, 14, 14, 32)        0         \n",
            "_________________________________________________________________\n",
            "conv2d_1 (Conv2D)            (None, 10, 10, 32)        25632     \n",
            "_________________________________________________________________\n",
            "max_pooling2d_1 (MaxPooling2 (None, 5, 5, 32)          0         \n",
            "_________________________________________________________________\n",
            "flatten (Flatten)            (None, 800)               0         \n",
            "=================================================================\n",
            "Total params: 28,064\n",
            "Trainable params: 28,064\n",
            "Non-trainable params: 0\n",
            "_________________________________________________________________\n"
          ],
          "name": "stdout"
        }
      ]
    },
    {
      "cell_type": "code",
      "metadata": {
        "id": "F-udSEAKAiuN"
      },
      "source": [
        "model.add(Dense(50,activation=\"relu\"))"
      ],
      "execution_count": null,
      "outputs": []
    },
    {
      "cell_type": "code",
      "metadata": {
        "id": "0njTe0PkAsfp"
      },
      "source": [
        "model.add(Dense(43,activation=\"softmax\"))"
      ],
      "execution_count": null,
      "outputs": []
    },
    {
      "cell_type": "code",
      "metadata": {
        "id": "FkjUNRJ8A0rg",
        "colab": {
          "base_uri": "https://localhost:8080/",
          "height": 391
        },
        "outputId": "09d89554-cead-4584-b64a-48621464d638"
      },
      "source": [
        "model.summary()"
      ],
      "execution_count": null,
      "outputs": [
        {
          "output_type": "stream",
          "text": [
            "Model: \"sequential\"\n",
            "_________________________________________________________________\n",
            "Layer (type)                 Output Shape              Param #   \n",
            "=================================================================\n",
            "conv2d (Conv2D)              (None, 28, 28, 32)        2432      \n",
            "_________________________________________________________________\n",
            "max_pooling2d (MaxPooling2D) (None, 14, 14, 32)        0         \n",
            "_________________________________________________________________\n",
            "conv2d_1 (Conv2D)            (None, 10, 10, 32)        25632     \n",
            "_________________________________________________________________\n",
            "max_pooling2d_1 (MaxPooling2 (None, 5, 5, 32)          0         \n",
            "_________________________________________________________________\n",
            "flatten (Flatten)            (None, 800)               0         \n",
            "_________________________________________________________________\n",
            "dense (Dense)                (None, 50)                40050     \n",
            "_________________________________________________________________\n",
            "dense_1 (Dense)              (None, 43)                2193      \n",
            "=================================================================\n",
            "Total params: 70,307\n",
            "Trainable params: 70,307\n",
            "Non-trainable params: 0\n",
            "_________________________________________________________________\n"
          ],
          "name": "stdout"
        }
      ]
    },
    {
      "cell_type": "code",
      "metadata": {
        "id": "EcgRKZ47A3E1"
      },
      "source": [
        "model.compile(optimizer=\"adam\",loss=\"categorical_crossentropy\",metrics=[\"accuracy\"])"
      ],
      "execution_count": null,
      "outputs": []
    },
    {
      "cell_type": "code",
      "metadata": {
        "id": "PH3QZqJsBFgg",
        "colab": {
          "base_uri": "https://localhost:8080/",
          "height": 1000
        },
        "outputId": "87c3d123-d6ca-4fe3-cd3b-7df8fb8b8416"
      },
      "source": [
        "model.fit(xtrain,ytrain1,batch_size=32,epochs=50,validation_data=(xvalid,yvalid1))"
      ],
      "execution_count": null,
      "outputs": [
        {
          "output_type": "stream",
          "text": [
            "Epoch 1/50\n",
            "1088/1088 [==============================] - 7s 7ms/step - loss: 1.0241 - accuracy: 0.7409 - val_loss: 0.4357 - val_accuracy: 0.8896\n",
            "Epoch 2/50\n",
            "1088/1088 [==============================] - 7s 7ms/step - loss: 0.1847 - accuracy: 0.9532 - val_loss: 0.3377 - val_accuracy: 0.9043\n",
            "Epoch 3/50\n",
            "1088/1088 [==============================] - 7s 7ms/step - loss: 0.0980 - accuracy: 0.9753 - val_loss: 0.3045 - val_accuracy: 0.9290\n",
            "Epoch 4/50\n",
            "1088/1088 [==============================] - 7s 7ms/step - loss: 0.0635 - accuracy: 0.9834 - val_loss: 0.2761 - val_accuracy: 0.9263\n",
            "Epoch 5/50\n",
            "1088/1088 [==============================] - 7s 7ms/step - loss: 0.0453 - accuracy: 0.9874 - val_loss: 0.2600 - val_accuracy: 0.9388\n",
            "Epoch 6/50\n",
            "1088/1088 [==============================] - 7s 7ms/step - loss: 0.0389 - accuracy: 0.9891 - val_loss: 0.2743 - val_accuracy: 0.9340\n",
            "Epoch 7/50\n",
            "1088/1088 [==============================] - 7s 7ms/step - loss: 0.0315 - accuracy: 0.9915 - val_loss: 0.3072 - val_accuracy: 0.9374\n",
            "Epoch 8/50\n",
            "1088/1088 [==============================] - 7s 7ms/step - loss: 0.0259 - accuracy: 0.9930 - val_loss: 0.3475 - val_accuracy: 0.9399\n",
            "Epoch 9/50\n",
            "1088/1088 [==============================] - 7s 7ms/step - loss: 0.0219 - accuracy: 0.9941 - val_loss: 0.3160 - val_accuracy: 0.9354\n",
            "Epoch 10/50\n",
            "1088/1088 [==============================] - 7s 7ms/step - loss: 0.0219 - accuracy: 0.9940 - val_loss: 0.2714 - val_accuracy: 0.9492\n",
            "Epoch 11/50\n",
            "1088/1088 [==============================] - 7s 6ms/step - loss: 0.0205 - accuracy: 0.9943 - val_loss: 0.2771 - val_accuracy: 0.9435\n",
            "Epoch 12/50\n",
            "1088/1088 [==============================] - 7s 6ms/step - loss: 0.0157 - accuracy: 0.9954 - val_loss: 0.3281 - val_accuracy: 0.9401\n",
            "Epoch 13/50\n",
            "1088/1088 [==============================] - 7s 6ms/step - loss: 0.0139 - accuracy: 0.9959 - val_loss: 0.2677 - val_accuracy: 0.9497\n",
            "Epoch 14/50\n",
            "1088/1088 [==============================] - 7s 7ms/step - loss: 0.0167 - accuracy: 0.9954 - val_loss: 0.2788 - val_accuracy: 0.9508\n",
            "Epoch 15/50\n",
            "1088/1088 [==============================] - 7s 7ms/step - loss: 0.0128 - accuracy: 0.9966 - val_loss: 0.2228 - val_accuracy: 0.9590\n",
            "Epoch 16/50\n",
            "1088/1088 [==============================] - 7s 6ms/step - loss: 0.0128 - accuracy: 0.9963 - val_loss: 0.3318 - val_accuracy: 0.9519\n",
            "Epoch 17/50\n",
            "1088/1088 [==============================] - 7s 7ms/step - loss: 0.0131 - accuracy: 0.9963 - val_loss: 0.3240 - val_accuracy: 0.9481\n",
            "Epoch 18/50\n",
            "1088/1088 [==============================] - 7s 6ms/step - loss: 0.0157 - accuracy: 0.9957 - val_loss: 0.3433 - val_accuracy: 0.9415\n",
            "Epoch 19/50\n",
            "1088/1088 [==============================] - 7s 6ms/step - loss: 0.0064 - accuracy: 0.9982 - val_loss: 0.3168 - val_accuracy: 0.9533\n",
            "Epoch 20/50\n",
            "1088/1088 [==============================] - 7s 7ms/step - loss: 0.0135 - accuracy: 0.9963 - val_loss: 0.4542 - val_accuracy: 0.9458\n",
            "Epoch 21/50\n",
            "1088/1088 [==============================] - 7s 7ms/step - loss: 0.0091 - accuracy: 0.9971 - val_loss: 0.4007 - val_accuracy: 0.9519\n",
            "Epoch 22/50\n",
            "1088/1088 [==============================] - 7s 6ms/step - loss: 0.0107 - accuracy: 0.9975 - val_loss: 0.4425 - val_accuracy: 0.9408\n",
            "Epoch 23/50\n",
            "1088/1088 [==============================] - 7s 6ms/step - loss: 0.0127 - accuracy: 0.9971 - val_loss: 0.3672 - val_accuracy: 0.9488\n",
            "Epoch 24/50\n",
            "1088/1088 [==============================] - 7s 6ms/step - loss: 0.0170 - accuracy: 0.9962 - val_loss: 0.2546 - val_accuracy: 0.9549\n",
            "Epoch 25/50\n",
            "1088/1088 [==============================] - 7s 6ms/step - loss: 0.0076 - accuracy: 0.9983 - val_loss: 0.5092 - val_accuracy: 0.9567\n",
            "Epoch 26/50\n",
            "1088/1088 [==============================] - 8s 7ms/step - loss: 0.0072 - accuracy: 0.9983 - val_loss: 0.3709 - val_accuracy: 0.9494\n",
            "Epoch 27/50\n",
            "1088/1088 [==============================] - 8s 7ms/step - loss: 0.0104 - accuracy: 0.9971 - val_loss: 0.4381 - val_accuracy: 0.9458\n",
            "Epoch 28/50\n",
            "1088/1088 [==============================] - 7s 6ms/step - loss: 0.0100 - accuracy: 0.9969 - val_loss: 0.3260 - val_accuracy: 0.9542\n",
            "Epoch 29/50\n",
            "1088/1088 [==============================] - 7s 7ms/step - loss: 0.0076 - accuracy: 0.9977 - val_loss: 0.3157 - val_accuracy: 0.9549\n",
            "Epoch 30/50\n",
            "1088/1088 [==============================] - 7s 7ms/step - loss: 0.0075 - accuracy: 0.9978 - val_loss: 0.6873 - val_accuracy: 0.9426\n",
            "Epoch 31/50\n",
            "1088/1088 [==============================] - 7s 6ms/step - loss: 0.0120 - accuracy: 0.9973 - val_loss: 0.3969 - val_accuracy: 0.9503\n",
            "Epoch 32/50\n",
            "1088/1088 [==============================] - 7s 6ms/step - loss: 0.0057 - accuracy: 0.9983 - val_loss: 0.5502 - val_accuracy: 0.9449\n",
            "Epoch 33/50\n",
            "1088/1088 [==============================] - 7s 7ms/step - loss: 0.0108 - accuracy: 0.9974 - val_loss: 0.5075 - val_accuracy: 0.9463\n",
            "Epoch 34/50\n",
            "1088/1088 [==============================] - 7s 6ms/step - loss: 0.0077 - accuracy: 0.9974 - val_loss: 0.3422 - val_accuracy: 0.9542\n",
            "Epoch 35/50\n",
            "1088/1088 [==============================] - 7s 6ms/step - loss: 0.0066 - accuracy: 0.9982 - val_loss: 0.5756 - val_accuracy: 0.9431\n",
            "Epoch 36/50\n",
            "1088/1088 [==============================] - 7s 6ms/step - loss: 0.0073 - accuracy: 0.9980 - val_loss: 0.5136 - val_accuracy: 0.9553\n",
            "Epoch 37/50\n",
            "1088/1088 [==============================] - 7s 6ms/step - loss: 0.0141 - accuracy: 0.9968 - val_loss: 0.6729 - val_accuracy: 0.9379\n",
            "Epoch 38/50\n",
            "1088/1088 [==============================] - 7s 7ms/step - loss: 0.0067 - accuracy: 0.9984 - val_loss: 0.5130 - val_accuracy: 0.9512\n",
            "Epoch 39/50\n",
            "1088/1088 [==============================] - 7s 6ms/step - loss: 0.0081 - accuracy: 0.9980 - val_loss: 0.7070 - val_accuracy: 0.9483\n",
            "Epoch 40/50\n",
            "1088/1088 [==============================] - 7s 7ms/step - loss: 0.0085 - accuracy: 0.9979 - val_loss: 0.4926 - val_accuracy: 0.9463\n",
            "Epoch 41/50\n",
            "1088/1088 [==============================] - 7s 7ms/step - loss: 0.0118 - accuracy: 0.9974 - val_loss: 0.5382 - val_accuracy: 0.9494\n",
            "Epoch 42/50\n",
            "1088/1088 [==============================] - 7s 6ms/step - loss: 0.0050 - accuracy: 0.9987 - val_loss: 0.7658 - val_accuracy: 0.9404\n",
            "Epoch 43/50\n",
            "1088/1088 [==============================] - 8s 7ms/step - loss: 0.0071 - accuracy: 0.9981 - val_loss: 0.6288 - val_accuracy: 0.9420\n",
            "Epoch 44/50\n",
            "1088/1088 [==============================] - 7s 6ms/step - loss: 0.0100 - accuracy: 0.9980 - val_loss: 0.5585 - val_accuracy: 0.9424\n",
            "Epoch 45/50\n",
            "1088/1088 [==============================] - 7s 6ms/step - loss: 0.0072 - accuracy: 0.9980 - val_loss: 0.6536 - val_accuracy: 0.9481\n",
            "Epoch 46/50\n",
            "1088/1088 [==============================] - 7s 6ms/step - loss: 0.0073 - accuracy: 0.9982 - val_loss: 0.5355 - val_accuracy: 0.9533\n",
            "Epoch 47/50\n",
            "1088/1088 [==============================] - 7s 6ms/step - loss: 0.0061 - accuracy: 0.9988 - val_loss: 0.5429 - val_accuracy: 0.9526\n",
            "Epoch 48/50\n",
            "1088/1088 [==============================] - 7s 7ms/step - loss: 0.0076 - accuracy: 0.9985 - val_loss: 0.4494 - val_accuracy: 0.9515\n",
            "Epoch 49/50\n",
            "1088/1088 [==============================] - 7s 6ms/step - loss: 0.0110 - accuracy: 0.9971 - val_loss: 0.5199 - val_accuracy: 0.9565\n",
            "Epoch 50/50\n",
            "1088/1088 [==============================] - 7s 7ms/step - loss: 0.0025 - accuracy: 0.9992 - val_loss: 0.5787 - val_accuracy: 0.9578\n"
          ],
          "name": "stdout"
        },
        {
          "output_type": "execute_result",
          "data": {
            "text/plain": [
              "<tensorflow.python.keras.callbacks.History at 0x7f7aa03127f0>"
            ]
          },
          "metadata": {
            "tags": []
          },
          "execution_count": 52
        }
      ]
    },
    {
      "cell_type": "code",
      "metadata": {
        "id": "82C69t6qCflg",
        "colab": {
          "base_uri": "https://localhost:8080/",
          "height": 51
        },
        "outputId": "b3a250c2-77b6-4e84-ffaa-69fe806539fe"
      },
      "source": [
        "model.evaluate(xtest,ytest1)"
      ],
      "execution_count": null,
      "outputs": [
        {
          "output_type": "stream",
          "text": [
            "395/395 [==============================] - 2s 4ms/step - loss: 0.8312 - accuracy: 0.9475\n"
          ],
          "name": "stdout"
        },
        {
          "output_type": "execute_result",
          "data": {
            "text/plain": [
              "[0.8312071561813354, 0.9475059509277344]"
            ]
          },
          "metadata": {
            "tags": []
          },
          "execution_count": 53
        }
      ]
    },
    {
      "cell_type": "code",
      "metadata": {
        "id": "_0IoBjByEMD3",
        "colab": {
          "base_uri": "https://localhost:8080/",
          "height": 88
        },
        "outputId": "00993cbc-ac52-44cc-f933-b1250339598f"
      },
      "source": [
        "ytest_predict=model.predict_classes(xtest)"
      ],
      "execution_count": null,
      "outputs": [
        {
          "output_type": "stream",
          "text": [
            "WARNING:tensorflow:From <ipython-input-41-66a5f1d604ad>:1: Sequential.predict_classes (from tensorflow.python.keras.engine.sequential) is deprecated and will be removed after 2021-01-01.\n",
            "Instructions for updating:\n",
            "Please use instead:* `np.argmax(model.predict(x), axis=-1)`,   if your model does multi-class classification   (e.g. if it uses a `softmax` last-layer activation).* `(model.predict(x) > 0.5).astype(\"int32\")`,   if your model does binary classification   (e.g. if it uses a `sigmoid` last-layer activation).\n"
          ],
          "name": "stdout"
        }
      ]
    },
    {
      "cell_type": "code",
      "metadata": {
        "id": "puDjnyY2EwAo",
        "colab": {
          "base_uri": "https://localhost:8080/",
          "height": 34
        },
        "outputId": "c60d5dde-686f-4038-dbe8-53133ecee60e"
      },
      "source": [
        "ytest_predict"
      ],
      "execution_count": null,
      "outputs": [
        {
          "output_type": "execute_result",
          "data": {
            "text/plain": [
              "array([16,  1, 38, ..., 32,  7, 10])"
            ]
          },
          "metadata": {
            "tags": []
          },
          "execution_count": 42
        }
      ]
    },
    {
      "cell_type": "code",
      "metadata": {
        "id": "BJSPBY1jE3uP",
        "colab": {
          "base_uri": "https://localhost:8080/",
          "height": 34
        },
        "outputId": "a81c4f24-b716-4b7b-ae0e-56240bdd8d8d"
      },
      "source": [
        "ytest"
      ],
      "execution_count": null,
      "outputs": [
        {
          "output_type": "execute_result",
          "data": {
            "text/plain": [
              "array([16,  1, 38, ...,  6,  7, 10], dtype=uint8)"
            ]
          },
          "metadata": {
            "tags": []
          },
          "execution_count": 94
        }
      ]
    },
    {
      "cell_type": "code",
      "metadata": {
        "id": "P8pLihUvE5tQ"
      },
      "source": [
        "import cv2"
      ],
      "execution_count": null,
      "outputs": []
    },
    {
      "cell_type": "code",
      "metadata": {
        "id": "aChSmYHnFfuh"
      },
      "source": [
        "imag=cv2.imread(\"/content/drive/My Drive/Dataset/output_30_4.png\")"
      ],
      "execution_count": null,
      "outputs": []
    },
    {
      "cell_type": "code",
      "metadata": {
        "id": "Zoumhfa0F3ga"
      },
      "source": [
        "imag=imag/255.0"
      ],
      "execution_count": null,
      "outputs": []
    },
    {
      "cell_type": "code",
      "metadata": {
        "id": "MkresmpIF6RN"
      },
      "source": [
        "imag=cv2.resize(imag,(32,32))"
      ],
      "execution_count": null,
      "outputs": []
    },
    {
      "cell_type": "code",
      "metadata": {
        "id": "MtCjVOH9GwvR"
      },
      "source": [
        "imag=cv2.cvtColor(imag, cv2.COLOR_RGB2GRAY)"
      ],
      "execution_count": null,
      "outputs": []
    },
    {
      "cell_type": "code",
      "metadata": {
        "id": "nv-0RRCuITgm"
      },
      "source": [
        "imag=cv2.cvtColor(imag, cv2.COLOR_GRAY2RGB)"
      ],
      "execution_count": null,
      "outputs": []
    },
    {
      "cell_type": "code",
      "metadata": {
        "id": "EhUbwQkGGHTv",
        "colab": {
          "base_uri": "https://localhost:8080/",
          "height": 34
        },
        "outputId": "f671557d-df5e-4a09-9be9-5bc77e5c2ce0"
      },
      "source": [
        "imag.shape"
      ],
      "execution_count": null,
      "outputs": [
        {
          "output_type": "execute_result",
          "data": {
            "text/plain": [
              "(32, 32, 3)"
            ]
          },
          "metadata": {
            "tags": []
          },
          "execution_count": 159
        }
      ]
    },
    {
      "cell_type": "code",
      "metadata": {
        "id": "pSPVHt8RGOB5",
        "colab": {
          "base_uri": "https://localhost:8080/",
          "height": 283
        },
        "outputId": "a7c4e942-bc36-4878-904e-bb1184787a0a"
      },
      "source": [
        "plt.imshow(imag)"
      ],
      "execution_count": null,
      "outputs": [
        {
          "output_type": "execute_result",
          "data": {
            "text/plain": [
              "<matplotlib.image.AxesImage at 0x7fd46b7a1908>"
            ]
          },
          "metadata": {
            "tags": []
          },
          "execution_count": 160
        },
        {
          "output_type": "display_data",
          "data": {
            "image/png": "[encoded data removed]",
            "text/plain": [
              "<Figure size 432x288 with 1 Axes>"
            ]
          },
          "metadata": {
            "tags": [],
            "needs_background": "light"
          }
        }
      ]
    },
    {
      "cell_type": "code",
      "metadata": {
        "id": "PyB7TI6UGRwK",
        "colab": {
          "base_uri": "https://localhost:8080/",
          "height": 34
        },
        "outputId": "ba85fa43-f7c3-4c08-8651-ca375e24bcb4"
      },
      "source": [
        "model.predict_classes(imag.reshape(1,32,32,3))"
      ],
      "execution_count": null,
      "outputs": [
        {
          "output_type": "execute_result",
          "data": {
            "text/plain": [
              "array([23])"
            ]
          },
          "metadata": {
            "tags": []
          },
          "execution_count": 161
        }
      ]
    },
    {
      "cell_type": "code",
      "metadata": {
        "id": "KWulkENLGeWe"
      },
      "source": [
        "model_json=model.to_json()"
      ],
      "execution_count": null,
      "outputs": []
    },
    {
      "cell_type": "code",
      "metadata": {
        "id": "w6xM-FspgEeC"
      },
      "source": [
        "model11=open(\"traffic_model.json\",\"w\")"
      ],
      "execution_count": null,
      "outputs": []
    },
    {
      "cell_type": "code",
      "metadata": {
        "id": "7CJzWuv4gMmQ",
        "colab": {
          "base_uri": "https://localhost:8080/",
          "height": 34
        },
        "outputId": "06ca45d3-ec5e-45d5-e376-81a7efc0cb80"
      },
      "source": [
        "model11.write(model_json)"
      ],
      "execution_count": null,
      "outputs": [
        {
          "output_type": "execute_result",
          "data": {
            "text/plain": [
              "2823"
            ]
          },
          "metadata": {
            "tags": []
          },
          "execution_count": 68
        }
      ]
    },
    {
      "cell_type": "code",
      "metadata": {
        "id": "Dq5xz9UJgS6b"
      },
      "source": [
        "model.save_weights(\"traffic_model.h5\")\n"
      ],
      "execution_count": null,
      "outputs": []
    },
    {
      "cell_type": "code",
      "metadata": {
        "id": "e4jucDvigf5X"
      },
      "source": [
        "from tensorflow.keras.models import model_from_json"
      ],
      "execution_count": null,
      "outputs": []
    },
    {
      "cell_type": "code",
      "metadata": {
        "id": "v_MIk6bsgvXP"
      },
      "source": [
        "modell12=open(\"/content/traffic_model.json\",\"r\")"
      ],
      "execution_count": null,
      "outputs": []
    },
    {
      "cell_type": "code",
      "metadata": {
        "id": "RaW088dVhIx_"
      },
      "source": [
        "model13=modell12.read()"
      ],
      "execution_count": null,
      "outputs": []
    },
    {
      "cell_type": "code",
      "metadata": {
        "id": "zE1iF56eiL0g"
      },
      "source": [
        "modell12.close()"
      ],
      "execution_count": null,
      "outputs": []
    },
    {
      "cell_type": "code",
      "metadata": {
        "id": "fZ5eY6IYg3WZ"
      },
      "source": [
        "json_file = open('/content/traffic_model.json', 'r')\n",
        "loaded_model_json = json_file.read()\n",
        "json_file.close()\n",
        "loaded_model = model_from_json(loaded_model_json)"
      ],
      "execution_count": null,
      "outputs": []
    },
    {
      "cell_type": "code",
      "metadata": {
        "id": "UGJfxTiTg92e",
        "colab": {
          "base_uri": "https://localhost:8080/",
          "height": 306
        },
        "outputId": "f08e8366-d02f-49d8-fd4b-9626d574e4bf"
      },
      "source": [
        "loaded_model.evaluate(xtest,ytest1)"
      ],
      "execution_count": null,
      "outputs": [
        {
          "output_type": "error",
          "ename": "RuntimeError",
          "evalue": "ignored",
          "traceback": [
            "\u001b[0;31m---------------------------------------------------------------------------\u001b[0m",
            "\u001b[0;31mRuntimeError\u001b[0m                              Traceback (most recent call last)",
            "\u001b[0;32m<ipython-input-76-d72d8bd8f932>\u001b[0m in \u001b[0;36m<module>\u001b[0;34m()\u001b[0m\n\u001b[0;32m----> 1\u001b[0;31m \u001b[0mloaded_model\u001b[0m\u001b[0;34m.\u001b[0m\u001b[0mevaluate\u001b[0m\u001b[0;34m(\u001b[0m\u001b[0mxtest\u001b[0m\u001b[0;34m,\u001b[0m\u001b[0mytest1\u001b[0m\u001b[0;34m)\u001b[0m\u001b[0;34m\u001b[0m\u001b[0;34m\u001b[0m\u001b[0m\n\u001b[0m",
            "\u001b[0;32m/usr/local/lib/python3.6/dist-packages/tensorflow/python/keras/engine/training.py\u001b[0m in \u001b[0;36m_method_wrapper\u001b[0;34m(self, *args, **kwargs)\u001b[0m\n\u001b[1;32m    106\u001b[0m   \u001b[0;32mdef\u001b[0m \u001b[0m_method_wrapper\u001b[0m\u001b[0;34m(\u001b[0m\u001b[0mself\u001b[0m\u001b[0;34m,\u001b[0m \u001b[0;34m*\u001b[0m\u001b[0margs\u001b[0m\u001b[0;34m,\u001b[0m \u001b[0;34m**\u001b[0m\u001b[0mkwargs\u001b[0m\u001b[0;34m)\u001b[0m\u001b[0;34m:\u001b[0m\u001b[0;34m\u001b[0m\u001b[0;34m\u001b[0m\u001b[0m\n\u001b[1;32m    107\u001b[0m     \u001b[0;32mif\u001b[0m \u001b[0;32mnot\u001b[0m \u001b[0mself\u001b[0m\u001b[0;34m.\u001b[0m\u001b[0m_in_multi_worker_mode\u001b[0m\u001b[0;34m(\u001b[0m\u001b[0;34m)\u001b[0m\u001b[0;34m:\u001b[0m  \u001b[0;31m# pylint: disable=protected-access\u001b[0m\u001b[0;34m\u001b[0m\u001b[0;34m\u001b[0m\u001b[0m\n\u001b[0;32m--> 108\u001b[0;31m       \u001b[0;32mreturn\u001b[0m \u001b[0mmethod\u001b[0m\u001b[0;34m(\u001b[0m\u001b[0mself\u001b[0m\u001b[0;34m,\u001b[0m \u001b[0;34m*\u001b[0m\u001b[0margs\u001b[0m\u001b[0;34m,\u001b[0m \u001b[0;34m**\u001b[0m\u001b[0mkwargs\u001b[0m\u001b[0;34m)\u001b[0m\u001b[0;34m\u001b[0m\u001b[0;34m\u001b[0m\u001b[0m\n\u001b[0m\u001b[1;32m    109\u001b[0m \u001b[0;34m\u001b[0m\u001b[0m\n\u001b[1;32m    110\u001b[0m     \u001b[0;31m# Running inside `run_distribute_coordinator` already.\u001b[0m\u001b[0;34m\u001b[0m\u001b[0;34m\u001b[0m\u001b[0;34m\u001b[0m\u001b[0m\n",
            "\u001b[0;32m/usr/local/lib/python3.6/dist-packages/tensorflow/python/keras/engine/training.py\u001b[0m in \u001b[0;36mevaluate\u001b[0;34m(self, x, y, batch_size, verbose, sample_weight, steps, callbacks, max_queue_size, workers, use_multiprocessing, return_dict)\u001b[0m\n\u001b[1;32m   1333\u001b[0m     \u001b[0m_keras_api_gauge\u001b[0m\u001b[0;34m.\u001b[0m\u001b[0mget_cell\u001b[0m\u001b[0;34m(\u001b[0m\u001b[0;34m'evaluate'\u001b[0m\u001b[0;34m)\u001b[0m\u001b[0;34m.\u001b[0m\u001b[0mset\u001b[0m\u001b[0;34m(\u001b[0m\u001b[0;32mTrue\u001b[0m\u001b[0;34m)\u001b[0m\u001b[0;34m\u001b[0m\u001b[0;34m\u001b[0m\u001b[0m\n\u001b[1;32m   1334\u001b[0m     \u001b[0mversion_utils\u001b[0m\u001b[0;34m.\u001b[0m\u001b[0mdisallow_legacy_graph\u001b[0m\u001b[0;34m(\u001b[0m\u001b[0;34m'Model'\u001b[0m\u001b[0;34m,\u001b[0m \u001b[0;34m'evaluate'\u001b[0m\u001b[0;34m)\u001b[0m\u001b[0;34m\u001b[0m\u001b[0;34m\u001b[0m\u001b[0m\n\u001b[0;32m-> 1335\u001b[0;31m     \u001b[0mself\u001b[0m\u001b[0;34m.\u001b[0m\u001b[0m_assert_compile_was_called\u001b[0m\u001b[0;34m(\u001b[0m\u001b[0;34m)\u001b[0m\u001b[0;34m\u001b[0m\u001b[0;34m\u001b[0m\u001b[0m\n\u001b[0m\u001b[1;32m   1336\u001b[0m     \u001b[0mself\u001b[0m\u001b[0;34m.\u001b[0m\u001b[0m_check_call_args\u001b[0m\u001b[0;34m(\u001b[0m\u001b[0;34m'evaluate'\u001b[0m\u001b[0;34m)\u001b[0m\u001b[0;34m\u001b[0m\u001b[0;34m\u001b[0m\u001b[0m\n\u001b[1;32m   1337\u001b[0m     \u001b[0m_disallow_inside_tf_function\u001b[0m\u001b[0;34m(\u001b[0m\u001b[0;34m'evaluate'\u001b[0m\u001b[0;34m)\u001b[0m\u001b[0;34m\u001b[0m\u001b[0;34m\u001b[0m\u001b[0m\n",
            "\u001b[0;32m/usr/local/lib/python3.6/dist-packages/tensorflow/python/keras/engine/training.py\u001b[0m in \u001b[0;36m_assert_compile_was_called\u001b[0;34m(self)\u001b[0m\n\u001b[1;32m   2567\u001b[0m     \u001b[0;31m# (i.e. whether the model is built and its inputs/outputs are set).\u001b[0m\u001b[0;34m\u001b[0m\u001b[0;34m\u001b[0m\u001b[0;34m\u001b[0m\u001b[0m\n\u001b[1;32m   2568\u001b[0m     \u001b[0;32mif\u001b[0m \u001b[0;32mnot\u001b[0m \u001b[0mself\u001b[0m\u001b[0;34m.\u001b[0m\u001b[0m_is_compiled\u001b[0m\u001b[0;34m:\u001b[0m\u001b[0;34m\u001b[0m\u001b[0;34m\u001b[0m\u001b[0m\n\u001b[0;32m-> 2569\u001b[0;31m       raise RuntimeError('You must compile your model before '\n\u001b[0m\u001b[1;32m   2570\u001b[0m                          \u001b[0;34m'training/testing. '\u001b[0m\u001b[0;34m\u001b[0m\u001b[0;34m\u001b[0m\u001b[0m\n\u001b[1;32m   2571\u001b[0m                          'Use `model.compile(optimizer, loss)`.')\n",
            "\u001b[0;31mRuntimeError\u001b[0m: You must compile your model before training/testing. Use `model.compile(optimizer, loss)`."
          ]
        }
      ]
    },
    {
      "cell_type": "code",
      "metadata": {
        "id": "dJ5zPAl9jJgD"
      },
      "source": [
        "loaded_model.load_weights(\"traffic_model.h5\")"
      ],
      "execution_count": null,
      "outputs": []
    },
    {
      "cell_type": "code",
      "metadata": {
        "id": "0h-VtM5ZjSxx"
      },
      "source": [
        "model.save(\"/content/drive/My Drive/Dataset/data/traffic.h5\")"
      ],
      "execution_count": null,
      "outputs": []
    },
    {
      "cell_type": "code",
      "metadata": {
        "id": "RAtDdCQqjhoE"
      },
      "source": [
        "from tensorflow.keras.models import load_model"
      ],
      "execution_count": null,
      "outputs": []
    },
    {
      "cell_type": "code",
      "metadata": {
        "id": "Ub4NrX4GkHD5"
      },
      "source": [
        "model_load=load_model(\"/content/drive/My Drive/Dataset/data/traffic.h5\")"
      ],
      "execution_count": null,
      "outputs": []
    },
    {
      "cell_type": "code",
      "metadata": {
        "id": "hKgtbsnJkNm-",
        "colab": {
          "base_uri": "https://localhost:8080/",
          "height": 51
        },
        "outputId": "8ac28de3-151a-46cd-bc60-76cf27b7d337"
      },
      "source": [
        "model_load.evaluate(xtest,ytest1)"
      ],
      "execution_count": null,
      "outputs": [
        {
          "output_type": "stream",
          "text": [
            "395/395 [==============================] - 2s 4ms/step - loss: 0.8312 - accuracy: 0.9475\n"
          ],
          "name": "stdout"
        },
        {
          "output_type": "execute_result",
          "data": {
            "text/plain": [
              "[0.8312071561813354, 0.9475059509277344]"
            ]
          },
          "metadata": {
            "tags": []
          },
          "execution_count": 58
        }
      ]
    },
    {
      "cell_type": "code",
      "metadata": {
        "id": "k3Qo9YpxkRzC"
      },
      "source": [
        "from tensorflow.keras.preprocessing.image import ImageDataGenerator"
      ],
      "execution_count": null,
      "outputs": []
    },
    {
      "cell_type": "code",
      "metadata": {
        "id": "Ewxz4DtFk5kZ"
      },
      "source": [
        "id=ImageDataGenerator(rescale=255.0)"
      ],
      "execution_count": null,
      "outputs": []
    },
    {
      "cell_type": "code",
      "metadata": {
        "id": "ZHGkQhCil2_Y"
      },
      "source": [
        "import os"
      ],
      "execution_count": null,
      "outputs": []
    },
    {
      "cell_type": "code",
      "metadata": {
        "id": "Nf3F79-ul7Vo"
      },
      "source": [
        "ll=os.listdir(\"/content/drive/My Drive/Dataset/data\")"
      ],
      "execution_count": null,
      "outputs": []
    },
    {
      "cell_type": "code",
      "metadata": {
        "id": "Vh3BlouAmvIa"
      },
      "source": [
        "ll.remove('.ipynb_checkpoints')"
      ],
      "execution_count": null,
      "outputs": []
    },
    {
      "cell_type": "code",
      "metadata": {
        "id": "DBQviiL-Xhnf",
        "colab": {
          "base_uri": "https://localhost:8080/",
          "height": 141
        },
        "outputId": "718a8d04-1ce8-4043-a82e-b377a1d8a7d2"
      },
      "source": [
        "ll"
      ],
      "execution_count": null,
      "outputs": [
        {
          "output_type": "execute_result",
          "data": {
            "text/plain": [
              "['output_30_17.png',\n",
              " 'output_30_35.png',\n",
              " 'output_30_31.png',\n",
              " '.ipynb_checkpoints',\n",
              " 'traffic.h5',\n",
              " 'bicycle29.jpg',\n",
              " 'pedestrian22.jpg']"
            ]
          },
          "metadata": {
            "tags": []
          },
          "execution_count": 8
        }
      ]
    },
    {
      "cell_type": "code",
      "metadata": {
        "id": "gY33xzJpuPrP"
      },
      "source": [
        "ll.remove(\"traffic.h5\")"
      ],
      "execution_count": null,
      "outputs": []
    },
    {
      "cell_type": "code",
      "metadata": {
        "id": "qi8ufQv8mwKf"
      },
      "source": [
        "import pandas as pd\n",
        "data=pd.DataFrame({\"Features\":ll})"
      ],
      "execution_count": null,
      "outputs": []
    },
    {
      "cell_type": "code",
      "metadata": {
        "id": "FUhR6BDym4Cg",
        "colab": {
          "base_uri": "https://localhost:8080/",
          "height": 197
        },
        "outputId": "b21dbd08-013f-40c6-969e-2c6b7716999b"
      },
      "source": [
        "data"
      ],
      "execution_count": null,
      "outputs": [
        {
          "output_type": "execute_result",
          "data": {
            "text/html": [
              "<div>\n",
              "<style scoped>\n",
              "    .dataframe tbody tr th:only-of-type {\n",
              "        vertical-align: middle;\n",
              "    }\n",
              "\n",
              "    .dataframe tbody tr th {\n",
              "        vertical-align: top;\n",
              "    }\n",
              "\n",
              "    .dataframe thead th {\n",
              "        text-align: right;\n",
              "    }\n",
              "</style>\n",
              "<table border=\"1\" class=\"dataframe\">\n",
              "  <thead>\n",
              "    <tr style=\"text-align: right;\">\n",
              "      <th></th>\n",
              "      <th>Features</th>\n",
              "    </tr>\n",
              "  </thead>\n",
              "  <tbody>\n",
              "    <tr>\n",
              "      <th>0</th>\n",
              "      <td>output_30_17.png</td>\n",
              "    </tr>\n",
              "    <tr>\n",
              "      <th>1</th>\n",
              "      <td>output_30_35.png</td>\n",
              "    </tr>\n",
              "    <tr>\n",
              "      <th>2</th>\n",
              "      <td>output_30_31.png</td>\n",
              "    </tr>\n",
              "    <tr>\n",
              "      <th>3</th>\n",
              "      <td>bicycle29.jpg</td>\n",
              "    </tr>\n",
              "    <tr>\n",
              "      <th>4</th>\n",
              "      <td>pedestrian22.jpg</td>\n",
              "    </tr>\n",
              "  </tbody>\n",
              "</table>\n",
              "</div>"
            ],
            "text/plain": [
              "           Features\n",
              "0  output_30_17.png\n",
              "1  output_30_35.png\n",
              "2  output_30_31.png\n",
              "3     bicycle29.jpg\n",
              "4  pedestrian22.jpg"
            ]
          },
          "metadata": {
            "tags": []
          },
          "execution_count": 13
        }
      ]
    },
    {
      "cell_type": "code",
      "metadata": {
        "id": "3hw8YJdym7K8",
        "colab": {
          "base_uri": "https://localhost:8080/",
          "height": 34
        },
        "outputId": "365e8d9b-8cc7-455a-efb0-59a51b703806"
      },
      "source": [
        "data1=id.flow_from_di(data,directory=\"/content/drive/My Drive/Dataset/data\",x_col=\"Features\",y_col=None,target_size=(32,32),class_mode=None,batch_size=32,shuffle=False)"
      ],
      "execution_count": null,
      "outputs": [
        {
          "output_type": "stream",
          "text": [
            "Found 5 validated image filenames.\n"
          ],
          "name": "stdout"
        }
      ]
    },
    {
      "cell_type": "code",
      "metadata": {
        "id": "PkbxZE0koqn9"
      },
      "source": [
        "import pandas as pd"
      ],
      "execution_count": null,
      "outputs": []
    },
    {
      "cell_type": "code",
      "metadata": {
        "id": "1zVDyZRuoshz"
      },
      "source": [
        "xx=next(data1)"
      ],
      "execution_count": null,
      "outputs": []
    },
    {
      "cell_type": "code",
      "metadata": {
        "id": "fuhxLtOIfPay",
        "colab": {
          "base_uri": "https://localhost:8080/",
          "height": 887
        },
        "outputId": "5c47b6e6-fed3-494c-e22e-9cb46a4035d8"
      },
      "source": [
        "xx[0]"
      ],
      "execution_count": null,
      "outputs": [
        {
          "output_type": "execute_result",
          "data": {
            "text/plain": [
              "array([[[65025., 65025., 65025.],\n",
              "        [65025., 65025., 65025.],\n",
              "        [65025., 65025., 65025.],\n",
              "        ...,\n",
              "        [65025., 65025., 65025.],\n",
              "        [65025., 65025., 65025.],\n",
              "        [65025., 65025., 65025.]],\n",
              "\n",
              "       [[65025., 65025., 65025.],\n",
              "        [65025., 65025., 65025.],\n",
              "        [    0.,     0.,     0.],\n",
              "        ...,\n",
              "        [65025., 65025., 65025.],\n",
              "        [65025., 65025., 65025.],\n",
              "        [65025., 65025., 65025.]],\n",
              "\n",
              "       [[65025., 65025., 65025.],\n",
              "        [65025., 65025., 65025.],\n",
              "        [65025., 65025., 65025.],\n",
              "        ...,\n",
              "        [65025., 65025., 65025.],\n",
              "        [65025., 65025., 65025.],\n",
              "        [65025., 65025., 65025.]],\n",
              "\n",
              "       ...,\n",
              "\n",
              "       [[65025., 65025., 65025.],\n",
              "        [65025., 65025., 65025.],\n",
              "        [65025., 65025., 65025.],\n",
              "        ...,\n",
              "        [65025., 65025., 65025.],\n",
              "        [65025., 65025., 65025.],\n",
              "        [65025., 65025., 65025.]],\n",
              "\n",
              "       [[65025., 65025., 65025.],\n",
              "        [65025., 65025., 65025.],\n",
              "        [65025., 65025., 65025.],\n",
              "        ...,\n",
              "        [65025., 65025., 65025.],\n",
              "        [65025., 65025., 65025.],\n",
              "        [65025., 65025., 65025.]],\n",
              "\n",
              "       [[65025., 65025., 65025.],\n",
              "        [65025., 65025., 65025.],\n",
              "        [65025., 65025., 65025.],\n",
              "        ...,\n",
              "        [65025., 65025., 65025.],\n",
              "        [65025., 65025., 65025.],\n",
              "        [65025., 65025., 65025.]]], dtype=float32)"
            ]
          },
          "metadata": {
            "tags": []
          },
          "execution_count": 31
        }
      ]
    },
    {
      "cell_type": "code",
      "metadata": {
        "id": "2TGjnxhXpKEg",
        "colab": {
          "base_uri": "https://localhost:8080/",
          "height": 34
        },
        "outputId": "ffa1708a-b3d0-4385-d941-1e4f8dccf9d0"
      },
      "source": [
        "xx.shape"
      ],
      "execution_count": null,
      "outputs": [
        {
          "output_type": "execute_result",
          "data": {
            "text/plain": [
              "(5, 32, 32, 3)"
            ]
          },
          "metadata": {
            "tags": []
          },
          "execution_count": 27
        }
      ]
    },
    {
      "cell_type": "code",
      "metadata": {
        "id": "4yj8DqOfpOx9",
        "colab": {
          "base_uri": "https://localhost:8080/",
          "height": 34
        },
        "outputId": "1a16fc6e-3f07-463e-e07e-ff50a36181af"
      },
      "source": [
        "model_load.predict_classes(xx)"
      ],
      "execution_count": null,
      "outputs": [
        {
          "output_type": "execute_result",
          "data": {
            "text/plain": [
              "array([17, 35, 31, 29, 11])"
            ]
          },
          "metadata": {
            "tags": []
          },
          "execution_count": 30
        }
      ]
    },
    {
      "cell_type": "code",
      "metadata": {
        "id": "RdmNByZ2sOac",
        "colab": {
          "base_uri": "https://localhost:8080/",
          "height": 301
        },
        "outputId": "d9c51ab8-8b0e-4523-c6cc-93b0b402c535"
      },
      "source": [
        "import matplotlib.pyplot as plt\n",
        "plt.imshow(xx[0])"
      ],
      "execution_count": null,
      "outputs": [
        {
          "output_type": "stream",
          "text": [
            "Clipping input data to the valid range for imshow with RGB data ([0..1] for floats or [0..255] for integers).\n"
          ],
          "name": "stderr"
        },
        {
          "output_type": "execute_result",
          "data": {
            "text/plain": [
              "<matplotlib.image.AxesImage at 0x7fe825f085f8>"
            ]
          },
          "metadata": {
            "tags": []
          },
          "execution_count": 29
        },
        {
          "output_type": "display_data",
          "data": {
            "image/png": "[encoded data removed]",
            "text/plain": [
              "<Figure size 432x288 with 1 Axes>"
            ]
          },
          "metadata": {
            "tags": [],
            "needs_background": "light"
          }
        }
      ]
    },
    {
      "cell_type": "code",
      "metadata": {
        "id": "zptjbKneuwL6",
        "colab": {
          "base_uri": "https://localhost:8080/",
          "height": 300
        },
        "outputId": "a37c6419-daf4-4ba0-b657-85a027958053"
      },
      "source": [
        "plt.imshow(xx[2])"
      ],
      "execution_count": null,
      "outputs": [
        {
          "output_type": "stream",
          "text": [
            "Clipping input data to the valid range for imshow with RGB data ([0..1] for floats or [0..255] for integers).\n"
          ],
          "name": "stderr"
        },
        {
          "output_type": "execute_result",
          "data": {
            "text/plain": [
              "<matplotlib.image.AxesImage at 0x7f7a552cd828>"
            ]
          },
          "metadata": {
            "tags": []
          },
          "execution_count": 80
        },
        {
          "output_type": "display_data",
          "data": {
            "image/png": "[encoded data removed]",
            "text/plain": [
              "<Figure size 432x288 with 1 Axes>"
            ]
          },
          "metadata": {
            "tags": [],
            "needs_background": "light"
          }
        }
      ]
    },
    {
      "cell_type": "code",
      "metadata": {
        "id": "KplgHXhuu14d"
      },
      "source": [],
      "execution_count": null,
      "outputs": []
    }
  ]
}